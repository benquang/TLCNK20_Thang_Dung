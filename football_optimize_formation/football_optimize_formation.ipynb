{
 "cells": [
  {
   "cell_type": "markdown",
   "metadata": {},
   "source": [
    "<h2>Xây dựng mô hình tối ưu hóa đội hình</h2>\n"
   ]
  },
  {
   "cell_type": "markdown",
   "metadata": {},
   "source": [
    "<h5>Phần này sẽ sử dụng mô hình tuyến tính nguyên hỗn hợp (MILP - Mixed-Integer Linear Programming) để chọn ra đội hình gồm 11 cầu thủ tối ưu nhất</h5>"
   ]
  },
  {
   "cell_type": "markdown",
   "metadata": {},
   "source": [
    "<h4>1. Các thư viện</h4>"
   ]
  },
  {
   "cell_type": "code",
   "execution_count": 444,
   "metadata": {},
   "outputs": [],
   "source": [
    "import numpy as np\n",
    "import pandas as pd\n",
    "from pulp import *\n"
   ]
  },
  {
   "cell_type": "markdown",
   "metadata": {},
   "source": [
    "<h4>2. Phân tích dữ liệu</h4>"
   ]
  },
  {
   "cell_type": "code",
   "execution_count": 445,
   "metadata": {},
   "outputs": [
    {
     "name": "stdout",
     "output_type": "stream",
     "text": [
      "(85427, 70)\n"
     ]
    },
    {
     "data": {
      "text/html": [
       "<div>\n",
       "<style scoped>\n",
       "    .dataframe tbody tr th:only-of-type {\n",
       "        vertical-align: middle;\n",
       "    }\n",
       "\n",
       "    .dataframe tbody tr th {\n",
       "        vertical-align: top;\n",
       "    }\n",
       "\n",
       "    .dataframe thead th {\n",
       "        text-align: right;\n",
       "    }\n",
       "</style>\n",
       "<table border=\"1\" class=\"dataframe\">\n",
       "  <thead>\n",
       "    <tr style=\"text-align: right;\">\n",
       "      <th></th>\n",
       "      <th>Acceleration</th>\n",
       "      <th>Age</th>\n",
       "      <th>Aggression</th>\n",
       "      <th>Agility</th>\n",
       "      <th>All_Positions</th>\n",
       "      <th>Attacking_Work_Rate</th>\n",
       "      <th>Balance</th>\n",
       "      <th>Ball_Control</th>\n",
       "      <th>Birthday</th>\n",
       "      <th>Body_Type</th>\n",
       "      <th>...</th>\n",
       "      <th>Team2_Position</th>\n",
       "      <th>Team2_Rating</th>\n",
       "      <th>Traits</th>\n",
       "      <th>Update_Date</th>\n",
       "      <th>Value</th>\n",
       "      <th>Vision</th>\n",
       "      <th>Volleys</th>\n",
       "      <th>Wage</th>\n",
       "      <th>Weak_Foot</th>\n",
       "      <th>Weight</th>\n",
       "    </tr>\n",
       "  </thead>\n",
       "  <tbody>\n",
       "    <tr>\n",
       "      <th>0</th>\n",
       "      <td>56</td>\n",
       "      <td>19</td>\n",
       "      <td>55</td>\n",
       "      <td>41</td>\n",
       "      <td>CB</td>\n",
       "      <td>Low</td>\n",
       "      <td>47</td>\n",
       "      <td>26</td>\n",
       "      <td>2004-01-08</td>\n",
       "      <td>Lean (170-185)</td>\n",
       "      <td>...</td>\n",
       "      <td>NaN</td>\n",
       "      <td>NaN</td>\n",
       "      <td>NaN</td>\n",
       "      <td>2023-09-22</td>\n",
       "      <td>€100K</td>\n",
       "      <td>34</td>\n",
       "      <td>26</td>\n",
       "      <td>€2K</td>\n",
       "      <td>3</td>\n",
       "      <td>80</td>\n",
       "    </tr>\n",
       "    <tr>\n",
       "      <th>1</th>\n",
       "      <td>60</td>\n",
       "      <td>19</td>\n",
       "      <td>53</td>\n",
       "      <td>45</td>\n",
       "      <td>RB CB</td>\n",
       "      <td>Medium</td>\n",
       "      <td>53</td>\n",
       "      <td>38</td>\n",
       "      <td>1994-02-19</td>\n",
       "      <td>Normal (185+)</td>\n",
       "      <td>...</td>\n",
       "      <td>NaN</td>\n",
       "      <td>NaN</td>\n",
       "      <td>NaN</td>\n",
       "      <td>2013-09-20</td>\n",
       "      <td>€35K</td>\n",
       "      <td>30</td>\n",
       "      <td>22</td>\n",
       "      <td>€1K</td>\n",
       "      <td>2</td>\n",
       "      <td>82</td>\n",
       "    </tr>\n",
       "    <tr>\n",
       "      <th>2</th>\n",
       "      <td>60</td>\n",
       "      <td>18</td>\n",
       "      <td>31</td>\n",
       "      <td>55</td>\n",
       "      <td>ST</td>\n",
       "      <td>Medium</td>\n",
       "      <td>81</td>\n",
       "      <td>44</td>\n",
       "      <td>1997-01-10</td>\n",
       "      <td>Lean (170-185)</td>\n",
       "      <td>...</td>\n",
       "      <td>NaN</td>\n",
       "      <td>NaN</td>\n",
       "      <td>NaN</td>\n",
       "      <td>2015-09-21</td>\n",
       "      <td>€70K</td>\n",
       "      <td>49</td>\n",
       "      <td>49</td>\n",
       "      <td>€2K</td>\n",
       "      <td>3</td>\n",
       "      <td>68</td>\n",
       "    </tr>\n",
       "    <tr>\n",
       "      <th>3</th>\n",
       "      <td>60</td>\n",
       "      <td>19</td>\n",
       "      <td>42</td>\n",
       "      <td>64</td>\n",
       "      <td>CM</td>\n",
       "      <td>Medium</td>\n",
       "      <td>64</td>\n",
       "      <td>50</td>\n",
       "      <td>1995-01-11</td>\n",
       "      <td>Lean (185+)</td>\n",
       "      <td>...</td>\n",
       "      <td>NaN</td>\n",
       "      <td>NaN</td>\n",
       "      <td>NaN</td>\n",
       "      <td>2014-09-18</td>\n",
       "      <td>€25K</td>\n",
       "      <td>54</td>\n",
       "      <td>38</td>\n",
       "      <td>€2K</td>\n",
       "      <td>2</td>\n",
       "      <td>77</td>\n",
       "    </tr>\n",
       "    <tr>\n",
       "      <th>4</th>\n",
       "      <td>22</td>\n",
       "      <td>18</td>\n",
       "      <td>24</td>\n",
       "      <td>26</td>\n",
       "      <td>GK</td>\n",
       "      <td>Medium</td>\n",
       "      <td>52</td>\n",
       "      <td>14</td>\n",
       "      <td>1998-03-02</td>\n",
       "      <td>Normal (170-185)</td>\n",
       "      <td>...</td>\n",
       "      <td>NaN</td>\n",
       "      <td>NaN</td>\n",
       "      <td>NaN</td>\n",
       "      <td>2016-09-20</td>\n",
       "      <td>€60K</td>\n",
       "      <td>26</td>\n",
       "      <td>6</td>\n",
       "      <td>€2K</td>\n",
       "      <td>3</td>\n",
       "      <td>80</td>\n",
       "    </tr>\n",
       "    <tr>\n",
       "      <th>5</th>\n",
       "      <td>57</td>\n",
       "      <td>17</td>\n",
       "      <td>45</td>\n",
       "      <td>44</td>\n",
       "      <td>CB</td>\n",
       "      <td>Medium</td>\n",
       "      <td>64</td>\n",
       "      <td>30</td>\n",
       "      <td>2000-01-06</td>\n",
       "      <td>Lean (170-185)</td>\n",
       "      <td>...</td>\n",
       "      <td>NaN</td>\n",
       "      <td>NaN</td>\n",
       "      <td>NaN</td>\n",
       "      <td>2017-09-18</td>\n",
       "      <td>€60K</td>\n",
       "      <td>27</td>\n",
       "      <td>20</td>\n",
       "      <td>€6K</td>\n",
       "      <td>3</td>\n",
       "      <td>67</td>\n",
       "    </tr>\n",
       "    <tr>\n",
       "      <th>6</th>\n",
       "      <td>68</td>\n",
       "      <td>19</td>\n",
       "      <td>50</td>\n",
       "      <td>56</td>\n",
       "      <td>RB</td>\n",
       "      <td>Medium</td>\n",
       "      <td>66</td>\n",
       "      <td>54</td>\n",
       "      <td>1998-12-18</td>\n",
       "      <td>Normal (170-185)</td>\n",
       "      <td>...</td>\n",
       "      <td>NaN</td>\n",
       "      <td>NaN</td>\n",
       "      <td>NaN</td>\n",
       "      <td>2018-08-21</td>\n",
       "      <td>€110K</td>\n",
       "      <td>33</td>\n",
       "      <td>27</td>\n",
       "      <td>€3K</td>\n",
       "      <td>3</td>\n",
       "      <td>70</td>\n",
       "    </tr>\n",
       "    <tr>\n",
       "      <th>7</th>\n",
       "      <td>63</td>\n",
       "      <td>17</td>\n",
       "      <td>33</td>\n",
       "      <td>59</td>\n",
       "      <td>ST</td>\n",
       "      <td>Medium</td>\n",
       "      <td>49</td>\n",
       "      <td>44</td>\n",
       "      <td>2001-07-22</td>\n",
       "      <td>Normal (185+)</td>\n",
       "      <td>...</td>\n",
       "      <td>NaN</td>\n",
       "      <td>NaN</td>\n",
       "      <td>NaN</td>\n",
       "      <td>2019-09-19</td>\n",
       "      <td>€70K</td>\n",
       "      <td>33</td>\n",
       "      <td>50</td>\n",
       "      <td>€1K</td>\n",
       "      <td>2</td>\n",
       "      <td>77</td>\n",
       "    </tr>\n",
       "    <tr>\n",
       "      <th>8</th>\n",
       "      <td>65</td>\n",
       "      <td>19</td>\n",
       "      <td>57</td>\n",
       "      <td>56</td>\n",
       "      <td>CM</td>\n",
       "      <td>Medium</td>\n",
       "      <td>68</td>\n",
       "      <td>53</td>\n",
       "      <td>1999-09-02</td>\n",
       "      <td>Lean (170-185)</td>\n",
       "      <td>...</td>\n",
       "      <td>NaN</td>\n",
       "      <td>NaN</td>\n",
       "      <td>NaN</td>\n",
       "      <td>2019-09-19</td>\n",
       "      <td>€110K</td>\n",
       "      <td>49</td>\n",
       "      <td>40</td>\n",
       "      <td>€4K</td>\n",
       "      <td>3</td>\n",
       "      <td>70</td>\n",
       "    </tr>\n",
       "    <tr>\n",
       "      <th>9</th>\n",
       "      <td>65</td>\n",
       "      <td>22</td>\n",
       "      <td>50</td>\n",
       "      <td>55</td>\n",
       "      <td>LWB</td>\n",
       "      <td>Medium</td>\n",
       "      <td>60</td>\n",
       "      <td>46</td>\n",
       "      <td>1998-06-16</td>\n",
       "      <td>Lean (170-185)</td>\n",
       "      <td>...</td>\n",
       "      <td>NaN</td>\n",
       "      <td>NaN</td>\n",
       "      <td>NaN</td>\n",
       "      <td>2020-09-23</td>\n",
       "      <td>€100K</td>\n",
       "      <td>44</td>\n",
       "      <td>33</td>\n",
       "      <td>€4K</td>\n",
       "      <td>2</td>\n",
       "      <td>73</td>\n",
       "    </tr>\n",
       "  </tbody>\n",
       "</table>\n",
       "<p>10 rows × 70 columns</p>\n",
       "</div>"
      ],
      "text/plain": [
       "   Acceleration  Age  Aggression  Agility All_Positions Attacking_Work_Rate  \\\n",
       "0            56   19          55       41            CB                 Low   \n",
       "1            60   19          53       45         RB CB              Medium   \n",
       "2            60   18          31       55            ST              Medium   \n",
       "3            60   19          42       64            CM              Medium   \n",
       "4            22   18          24       26            GK              Medium   \n",
       "5            57   17          45       44            CB              Medium   \n",
       "6            68   19          50       56            RB              Medium   \n",
       "7            63   17          33       59            ST              Medium   \n",
       "8            65   19          57       56            CM              Medium   \n",
       "9            65   22          50       55           LWB              Medium   \n",
       "\n",
       "   Balance  Ball_Control    Birthday         Body_Type  ...  Team2_Position  \\\n",
       "0       47            26  2004-01-08    Lean (170-185)  ...             NaN   \n",
       "1       53            38  1994-02-19     Normal (185+)  ...             NaN   \n",
       "2       81            44  1997-01-10    Lean (170-185)  ...             NaN   \n",
       "3       64            50  1995-01-11       Lean (185+)  ...             NaN   \n",
       "4       52            14  1998-03-02  Normal (170-185)  ...             NaN   \n",
       "5       64            30  2000-01-06    Lean (170-185)  ...             NaN   \n",
       "6       66            54  1998-12-18  Normal (170-185)  ...             NaN   \n",
       "7       49            44  2001-07-22     Normal (185+)  ...             NaN   \n",
       "8       68            53  1999-09-02    Lean (170-185)  ...             NaN   \n",
       "9       60            46  1998-06-16    Lean (170-185)  ...             NaN   \n",
       "\n",
       "   Team2_Rating  Traits  Update_Date  Value  Vision  Volleys  Wage  Weak_Foot  \\\n",
       "0           NaN     NaN   2023-09-22  €100K      34       26   €2K          3   \n",
       "1           NaN     NaN   2013-09-20   €35K      30       22   €1K          2   \n",
       "2           NaN     NaN   2015-09-21   €70K      49       49   €2K          3   \n",
       "3           NaN     NaN   2014-09-18   €25K      54       38   €2K          2   \n",
       "4           NaN     NaN   2016-09-20   €60K      26        6   €2K          3   \n",
       "5           NaN     NaN   2017-09-18   €60K      27       20   €6K          3   \n",
       "6           NaN     NaN   2018-08-21  €110K      33       27   €3K          3   \n",
       "7           NaN     NaN   2019-09-19   €70K      33       50   €1K          2   \n",
       "8           NaN     NaN   2019-09-19  €110K      49       40   €4K          3   \n",
       "9           NaN     NaN   2020-09-23  €100K      44       33   €4K          2   \n",
       "\n",
       "   Weight  \n",
       "0      80  \n",
       "1      82  \n",
       "2      68  \n",
       "3      77  \n",
       "4      80  \n",
       "5      67  \n",
       "6      70  \n",
       "7      77  \n",
       "8      70  \n",
       "9      73  \n",
       "\n",
       "[10 rows x 70 columns]"
      ]
     },
     "execution_count": 445,
     "metadata": {},
     "output_type": "execute_result"
    }
   ],
   "source": [
    "sofifa = pd.read_csv('./data/sofifa_players_attr_modified.csv',encoding='utf-8-sig')\n",
    "print(sofifa.shape)\n",
    "sofifa.head(10)"
   ]
  },
  {
   "cell_type": "markdown",
   "metadata": {},
   "source": [
    "Lấy phiên bản mới nhất Sofifa"
   ]
  },
  {
   "cell_type": "code",
   "execution_count": 446,
   "metadata": {},
   "outputs": [
    {
     "data": {
      "text/plain": [
       "'2023-10-04'"
      ]
     },
     "execution_count": 446,
     "metadata": {},
     "output_type": "execute_result"
    }
   ],
   "source": [
    "last_version = sofifa.sort_values('Update_Date', ascending=False)['Update_Date'].unique()[0]\n",
    "last_version"
   ]
  },
  {
   "cell_type": "markdown",
   "metadata": {},
   "source": [
    "Sử dụng tất cả các cầu thủ trong phiên bản mới nhất"
   ]
  },
  {
   "cell_type": "code",
   "execution_count": 447,
   "metadata": {},
   "outputs": [],
   "source": [
    "sofifa_last_version = sofifa[sofifa['Update_Date'] == last_version]\n",
    "sofifa_last_version = sofifa_last_version[sofifa_last_version['Team1_Position'] != 'RES']"
   ]
  },
  {
   "cell_type": "code",
   "execution_count": 448,
   "metadata": {},
   "outputs": [
    {
     "data": {
      "text/plain": [
       "Acceleration     False\n",
       "Age              False\n",
       "Aggression       False\n",
       "Agility          False\n",
       "All_Positions    False\n",
       "                 ...  \n",
       "Vision           False\n",
       "Volleys          False\n",
       "Wage             False\n",
       "Weak_Foot        False\n",
       "Weight           False\n",
       "Length: 70, dtype: bool"
      ]
     },
     "execution_count": 448,
     "metadata": {},
     "output_type": "execute_result"
    }
   ],
   "source": [
    "sofifa_last_version.isnull().any()"
   ]
  },
  {
   "cell_type": "code",
   "execution_count": 449,
   "metadata": {},
   "outputs": [
    {
     "name": "stdout",
     "output_type": "stream",
     "text": [
      "['Left' 'Right']\n",
      "['Lean (170-)' 'Lean (170-185)' 'Lean (185+)' 'Normal (170-)'\n",
      " 'Normal (170-185)' 'Normal (185+)' 'Stocky (170-)' 'Stocky (170-185)'\n",
      " 'Stocky (185+)' 'Unique']\n"
     ]
    }
   ],
   "source": [
    "print(np.unique(sofifa_last_version['Preferred_Foot']))\n",
    "print(np.unique(sofifa_last_version['Body_Type']))"
   ]
  },
  {
   "cell_type": "code",
   "execution_count": 450,
   "metadata": {},
   "outputs": [],
   "source": [
    "sofifa_last_version['Preferred_Foot'] = sofifa_last_version['Preferred_Foot'].map({'Left': 0, 'Right': 1})"
   ]
  },
  {
   "cell_type": "markdown",
   "metadata": {},
   "source": [
    "Thay đổi giá trị tiền tệ cho Value (giá trị cầu thủ) và Wage (lương theo tuần)"
   ]
  },
  {
   "cell_type": "code",
   "execution_count": 451,
   "metadata": {},
   "outputs": [
    {
     "name": "stdout",
     "output_type": "stream",
     "text": [
      "(array(['€'], dtype='<U1'), array([460], dtype=int64))\n"
     ]
    }
   ],
   "source": [
    "currencies = np.array([list(value)[0] for value in sofifa_last_version.Value.tolist()])\n",
    "print(np.unique(currencies, return_counts=True))"
   ]
  },
  {
   "cell_type": "code",
   "execution_count": 452,
   "metadata": {},
   "outputs": [],
   "source": [
    "def value_to_num(col):\n",
    "    if pd.isnull(col): return 0\n",
    "    \n",
    "    value = col.replace('€', '').replace('M', '').replace('K', '')\n",
    "    \n",
    "    if col[-1] == 'M': unit = 1e6\n",
    "    elif col[-1] == 'K': unit = 1e3\n",
    "    else: unit = 1\n",
    "    \n",
    "    return float(value)*unit\n",
    "\n",
    "sofifa_last_version.Value = sofifa_last_version.Value.apply(value_to_num)\n",
    "sofifa_last_version.Wage = sofifa_last_version.Wage.apply(value_to_num)"
   ]
  },
  {
   "cell_type": "code",
   "execution_count": 453,
   "metadata": {},
   "outputs": [
    {
     "data": {
      "text/html": [
       "<div>\n",
       "<style scoped>\n",
       "    .dataframe tbody tr th:only-of-type {\n",
       "        vertical-align: middle;\n",
       "    }\n",
       "\n",
       "    .dataframe tbody tr th {\n",
       "        vertical-align: top;\n",
       "    }\n",
       "\n",
       "    .dataframe thead th {\n",
       "        text-align: right;\n",
       "    }\n",
       "</style>\n",
       "<table border=\"1\" class=\"dataframe\">\n",
       "  <thead>\n",
       "    <tr style=\"text-align: right;\">\n",
       "      <th></th>\n",
       "      <th>Player_Name</th>\n",
       "      <th>Value</th>\n",
       "      <th>Wage</th>\n",
       "    </tr>\n",
       "  </thead>\n",
       "  <tbody>\n",
       "    <tr>\n",
       "      <th>63705</th>\n",
       "      <td>D. Mubama</td>\n",
       "      <td>525000.0</td>\n",
       "      <td>4000.0</td>\n",
       "    </tr>\n",
       "    <tr>\n",
       "      <th>64118</th>\n",
       "      <td>J. Feeney</td>\n",
       "      <td>500000.0</td>\n",
       "      <td>3000.0</td>\n",
       "    </tr>\n",
       "    <tr>\n",
       "      <th>64131</th>\n",
       "      <td>O. Kellyman</td>\n",
       "      <td>550000.0</td>\n",
       "      <td>1000.0</td>\n",
       "    </tr>\n",
       "    <tr>\n",
       "      <th>64140</th>\n",
       "      <td>T. O'Reilly</td>\n",
       "      <td>625000.0</td>\n",
       "      <td>6000.0</td>\n",
       "    </tr>\n",
       "    <tr>\n",
       "      <th>64142</th>\n",
       "      <td>M. Olakigbe</td>\n",
       "      <td>625000.0</td>\n",
       "      <td>5000.0</td>\n",
       "    </tr>\n",
       "  </tbody>\n",
       "</table>\n",
       "</div>"
      ],
      "text/plain": [
       "       Player_Name     Value    Wage\n",
       "63705    D. Mubama  525000.0  4000.0\n",
       "64118    J. Feeney  500000.0  3000.0\n",
       "64131  O. Kellyman  550000.0  1000.0\n",
       "64140  T. O'Reilly  625000.0  6000.0\n",
       "64142  M. Olakigbe  625000.0  5000.0"
      ]
     },
     "execution_count": 453,
     "metadata": {},
     "output_type": "execute_result"
    }
   ],
   "source": [
    "sofifa_last_version[['Player_Name', 'Value', 'Wage']].head()"
   ]
  },
  {
   "cell_type": "markdown",
   "metadata": {},
   "source": [
    "<h4>3. Mô hình đưa ra 11 cầu thủ tối ưu cho đội bóng</h4>"
   ]
  },
  {
   "cell_type": "markdown",
   "metadata": {},
   "source": [
    "Với mỗi đội bóng, mô hình sẽ cho ra kết quả 11 cầu thủ tối ưu nhất dựa vào: <br> \n",
    "- All_Positions: các vị trí cầu thủ trên sân\n",
    "- Potential: chỉ số tiềm năng tổng thể đánh giá cầu thủ\n",
    "- Value: giá trị cầu thủ"
   ]
  },
  {
   "cell_type": "code",
   "execution_count": 454,
   "metadata": {},
   "outputs": [],
   "source": [
    "def get_optimized_team(df, n_gk_line=0, n_defense_line=0, n_attack_midfield_combined=0):\n",
    "\n",
    "    gk_line = [\"GK\"]\n",
    "    attack_line = [\"LS\", \"ST\", \"RS\", \"LW\", \"LF\", \"CF\", \"RF\", \"RW\"]\n",
    "    midfield_line = [\"LAM\", \"CAM\", \"RAM\", \"LM\", \"LCM\", \"CM\", \"RCM\", \"RM\", \"LDM\", \"CDM\", \"RDM\"]\n",
    "    defense_line = [\"LB\", \"LCB\", \"CB\", \"RCB\", \"RB\", \"LWB\", \"RWB\"]\n",
    "\n",
    "    attack_midfield_combined = attack_line + midfield_line\n",
    "\n",
    "    list_dicts = [  {},   {},   {},   {}]\n",
    "    list_pos   = [gk_line, defense_line, midfield_line, attack_line]\n",
    "    list_n     = [n_gk_line, n_defense_line, n_attack_midfield_combined]\n",
    "\n",
    "    players_ids = [str(i) for i in range(df.shape[0])]\n",
    "    ratings = {i:rating for i, rating in zip(players_ids, df.Potential.values)}\n",
    "    values = {i:value for i, value in zip(players_ids, df.Value.values)}\n",
    "        \n",
    "    for player_dict, player_pos, n_players in zip(list_dicts, list_pos, list_n):\n",
    "        if n_players <= 0: continue\n",
    "            \n",
    "        for i, pos in zip(players_ids, df.All_Positions.values):\n",
    "\n",
    "            for k in player_pos:\n",
    "\n",
    "                player_dict.update({i:1} if pos.find(k) >= 0 else {i:0})\n",
    "            \n",
    "    players_vars = LpVariable.dicts(name=\"Players\", indexs=players_ids, cat=LpBinary)\n",
    "\n",
    "    prob = LpProblem(name=\"SoFIFA\", sense=LpMaximize)\n",
    "    \n",
    "    # objective function\n",
    "    prob += lpSum([ratings[i]*players_vars[i] for i in players_ids])\n",
    "        \n",
    "    # constraints\n",
    "    prob += lpSum([players_vars[i] for i in players_ids]) == sum(list_n)\n",
    "    prob += lpSum([values[i]*players_vars[i] for i in players_ids]) #<= max_budget\n",
    "    for dict_player, n_players in zip(list_dicts, list_n):\n",
    "        if n_players > 0:\n",
    "            prob += lpSum([dict_player[i]*players_vars[i] for i in players_ids]) == n_players    \n",
    "\n",
    "    prob.solve()\n",
    "    \n",
    "    idxs = np.array([int(v.name.split(\"_\")[-1]) for v in prob.variables() if v.varValue == 1])\n",
    "    mask_players = np.zeros(df.shape[0], dtype=np.bool_)\n",
    "    mask_players[idxs] = True\n",
    "    \n",
    "    return prob.status, mask_players"
   ]
  },
  {
   "cell_type": "markdown",
   "metadata": {},
   "source": [
    "Sử dụng các đội trong FBref trong mùa mới nhất"
   ]
  },
  {
   "cell_type": "code",
   "execution_count": 455,
   "metadata": {},
   "outputs": [],
   "source": [
    "fbref = pd.read_csv('./data/fbref_matchinfos_modified.csv',encoding='utf-8-sig')\n",
    "fbref = fbref[fbref['Season'] == '2023/2024']"
   ]
  },
  {
   "cell_type": "code",
   "execution_count": 456,
   "metadata": {},
   "outputs": [
    {
     "data": {
      "text/plain": [
       "array(['Tottenham Hotspur', 'Aston Villa', 'Sheffield United', 'Chelsea',\n",
       "       'Nottingham Forest', 'Manchester City', 'Brentford',\n",
       "       'Newcastle United', 'Bournemouth', 'Liverpool', 'Arsenal',\n",
       "       'Brighton & Hove Albion', 'Wolverhampton Wanderers',\n",
       "       'West Ham United', 'Crystal Palace', 'Fulham', 'Burnley',\n",
       "       'Manchester United', 'Everton', 'Luton Town'], dtype=object)"
      ]
     },
     "execution_count": 456,
     "metadata": {},
     "output_type": "execute_result"
    }
   ],
   "source": [
    "list_all_teams = fbref['Home_Team'].unique()\n",
    "list_all_teams"
   ]
  },
  {
   "cell_type": "markdown",
   "metadata": {},
   "source": [
    "Kiểm tra các tên đội bị khác tên giữa Sofifa và FBref"
   ]
  },
  {
   "cell_type": "code",
   "execution_count": 457,
   "metadata": {},
   "outputs": [
    {
     "data": {
      "text/plain": [
       "{'Bournemouth'}"
      ]
     },
     "execution_count": 457,
     "metadata": {},
     "output_type": "execute_result"
    }
   ],
   "source": [
    "different_team = set(fbref['Home_Team']) - set(sofifa_last_version['Team1'])\n",
    "different_team"
   ]
  },
  {
   "cell_type": "code",
   "execution_count": 458,
   "metadata": {},
   "outputs": [],
   "source": [
    "sofifa_last_version['Team1'] = sofifa_last_version['Team1'].replace('AFC Bournemouth', 'Bournemouth')\n",
    "sofifa_last_version['Team2'] = sofifa_last_version['Team2'].replace('AFC Bournemouth', 'Bournemouth')"
   ]
  },
  {
   "cell_type": "markdown",
   "metadata": {},
   "source": [
    "Đội hình tối ưu cho các đội"
   ]
  },
  {
   "cell_type": "code",
   "execution_count": 459,
   "metadata": {},
   "outputs": [
    {
     "name": "stderr",
     "output_type": "stream",
     "text": [
      "C:\\Users\\ben\\AppData\\Local\\Temp\\ipykernel_15124\\831437278.py:27: DeprecationWarning: 'indexs' is deprecated; use 'indices'.\n",
      "  players_vars = LpVariable.dicts(name=\"Players\", indexs=players_ids, cat=LpBinary)\n",
      "d:\\HocMay_BigData\\my_env_1\\Lib\\site-packages\\pulp\\pulp.py:1704: UserWarning: Overwriting previously set objective.\n",
      "  warnings.warn(\"Overwriting previously set objective.\")\n"
     ]
    }
   ],
   "source": [
    "optimize_teams = []\n",
    "\n",
    "for team in list_all_teams:\n",
    "\n",
    "    this_team = sofifa_last_version[(sofifa_last_version['Team1'] == team) | \n",
    "                                    (sofifa_last_version['Team2'] == team)]\n",
    "    \n",
    "    #this_team = this_team[this_team['Team1_Position'] != 'RES']\n",
    "    \n",
    "    status, mask_players = get_optimized_team(this_team, n_gk_line=1, n_defense_line=4, n_attack_midfield_combined=6)\n",
    "     \n",
    "    optimize_teams.append([status, mask_players, team])\n"
   ]
  },
  {
   "cell_type": "code",
   "execution_count": 460,
   "metadata": {},
   "outputs": [
    {
     "name": "stdout",
     "output_type": "stream",
     "text": [
      "Tottenham Hotspur\n",
      "Aston Villa\n",
      "Sheffield United\n",
      "Chelsea\n",
      "Nottingham Forest\n",
      "Manchester City\n",
      "Brentford\n",
      "Newcastle United\n",
      "Bournemouth\n",
      "Liverpool\n",
      "Arsenal\n",
      "Brighton & Hove Albion\n",
      "Wolverhampton Wanderers\n",
      "West Ham United\n",
      "Crystal Palace\n",
      "Fulham\n",
      "Burnley\n",
      "Manchester United\n",
      "Everton\n",
      "Luton Town\n"
     ]
    }
   ],
   "source": [
    "optimize_teams_sofifa = pd.DataFrame()\n",
    "\n",
    "for i in range(0, len(optimize_teams)):\n",
    "    \n",
    "\n",
    "    by_team = sofifa_last_version[(sofifa_last_version['Team1'] == optimize_teams[i][2]) | \n",
    "                                   (sofifa_last_version['Team2'] == optimize_teams[i][2])].iloc[optimize_teams[i][1]][[\n",
    "                                                                    'Sofifa_Id',\n",
    "                                                                    'Team1', \n",
    "                                                                    'Team2',\n",
    "                                                                    'Player_Name', \n",
    "                                                                    'All_Positions', \n",
    "                                                                    'Age', \n",
    "                                                                    'Overall_Rating', \n",
    "                                                                    'Potential', \n",
    "                                                                    'Value',\n",
    "                                                                    'Team1_Position']]\n",
    "\n",
    "    optimize_teams_sofifa = pd.concat([optimize_teams_sofifa, by_team], axis=0)\n",
    "\n",
    "    print(optimize_teams[i][2])"
   ]
  },
  {
   "cell_type": "code",
   "execution_count": 461,
   "metadata": {},
   "outputs": [
    {
     "name": "stdout",
     "output_type": "stream",
     "text": [
      "Tottenham Hotspur:      Infeasible 11\n",
      "Aston Villa:      Infeasible 11\n",
      "Sheffield United:      Infeasible 11\n",
      "Chelsea:      Infeasible 11\n",
      "Nottingham Forest:      Infeasible 12\n",
      "Manchester City:      Infeasible 11\n",
      "Brentford:      Infeasible 11\n",
      "Newcastle United:      Infeasible 11\n",
      "Bournemouth:      Infeasible 11\n",
      "Liverpool:      Infeasible 11\n",
      "Arsenal:      Infeasible 11\n",
      "Brighton & Hove Albion:      Infeasible 11\n",
      "Wolverhampton Wanderers:      Infeasible 13\n",
      "West Ham United:      Infeasible 11\n",
      "Crystal Palace:      Infeasible 11\n",
      "Fulham:      Infeasible 11\n",
      "Burnley:      Infeasible 11\n",
      "Manchester United:      Infeasible 11\n",
      "Everton:      Infeasible 11\n",
      "Luton Town:      Infeasible 11\n"
     ]
    }
   ],
   "source": [
    "for i in range(0, len(optimize_teams)):\n",
    "    print(optimize_teams[i][2] + ':      ' + LpStatus[optimize_teams[i][0]], optimize_teams[i][1].sum())"
   ]
  },
  {
   "cell_type": "code",
   "execution_count": 462,
   "metadata": {},
   "outputs": [],
   "source": [
    "#print(LpStatus[optimize_teams[2][0]], optimize_teams[2][1].sum())"
   ]
  },
  {
   "cell_type": "code",
   "execution_count": 463,
   "metadata": {},
   "outputs": [
    {
     "data": {
      "text/html": [
       "<div>\n",
       "<style scoped>\n",
       "    .dataframe tbody tr th:only-of-type {\n",
       "        vertical-align: middle;\n",
       "    }\n",
       "\n",
       "    .dataframe tbody tr th {\n",
       "        vertical-align: top;\n",
       "    }\n",
       "\n",
       "    .dataframe thead th {\n",
       "        text-align: right;\n",
       "    }\n",
       "</style>\n",
       "<table border=\"1\" class=\"dataframe\">\n",
       "  <thead>\n",
       "    <tr style=\"text-align: right;\">\n",
       "      <th></th>\n",
       "      <th>Sofifa_Id</th>\n",
       "      <th>Team1</th>\n",
       "      <th>Team2</th>\n",
       "      <th>Player_Name</th>\n",
       "      <th>All_Positions</th>\n",
       "      <th>Age</th>\n",
       "      <th>Overall_Rating</th>\n",
       "      <th>Potential</th>\n",
       "      <th>Value</th>\n",
       "      <th>Team1_Position</th>\n",
       "    </tr>\n",
       "  </thead>\n",
       "  <tbody>\n",
       "    <tr>\n",
       "      <th>67966</th>\n",
       "      <td>264453</td>\n",
       "      <td>Tottenham Hotspur</td>\n",
       "      <td>NaN</td>\n",
       "      <td>M. van de Ven</td>\n",
       "      <td>CB LB</td>\n",
       "      <td>22</td>\n",
       "      <td>78</td>\n",
       "      <td>85</td>\n",
       "      <td>26500000.0</td>\n",
       "      <td>LCB</td>\n",
       "    </tr>\n",
       "    <tr>\n",
       "      <th>68499</th>\n",
       "      <td>231943</td>\n",
       "      <td>Tottenham Hotspur</td>\n",
       "      <td>NaN</td>\n",
       "      <td>Richarlison</td>\n",
       "      <td>ST LW RW</td>\n",
       "      <td>26</td>\n",
       "      <td>80</td>\n",
       "      <td>83</td>\n",
       "      <td>28000000.0</td>\n",
       "      <td>SUB</td>\n",
       "    </tr>\n",
       "    <tr>\n",
       "      <th>68522</th>\n",
       "      <td>247394</td>\n",
       "      <td>Tottenham Hotspur</td>\n",
       "      <td>Sweden</td>\n",
       "      <td>D. Kulusevski</td>\n",
       "      <td>RW</td>\n",
       "      <td>23</td>\n",
       "      <td>81</td>\n",
       "      <td>85</td>\n",
       "      <td>37000000.0</td>\n",
       "      <td>RW</td>\n",
       "    </tr>\n",
       "    <tr>\n",
       "      <th>68523</th>\n",
       "      <td>243576</td>\n",
       "      <td>Tottenham Hotspur</td>\n",
       "      <td>NaN</td>\n",
       "      <td>Pedro Porro</td>\n",
       "      <td>RB RWB</td>\n",
       "      <td>23</td>\n",
       "      <td>81</td>\n",
       "      <td>84</td>\n",
       "      <td>32500000.0</td>\n",
       "      <td>RB</td>\n",
       "    </tr>\n",
       "    <tr>\n",
       "      <th>68524</th>\n",
       "      <td>226226</td>\n",
       "      <td>Tottenham Hotspur</td>\n",
       "      <td>Argentina</td>\n",
       "      <td>G. Lo Celso</td>\n",
       "      <td>CAM ST</td>\n",
       "      <td>27</td>\n",
       "      <td>81</td>\n",
       "      <td>82</td>\n",
       "      <td>29500000.0</td>\n",
       "      <td>SUB</td>\n",
       "    </tr>\n",
       "    <tr>\n",
       "      <th>...</th>\n",
       "      <td>...</td>\n",
       "      <td>...</td>\n",
       "      <td>...</td>\n",
       "      <td>...</td>\n",
       "      <td>...</td>\n",
       "      <td>...</td>\n",
       "      <td>...</td>\n",
       "      <td>...</td>\n",
       "      <td>...</td>\n",
       "      <td>...</td>\n",
       "    </tr>\n",
       "    <tr>\n",
       "      <th>66034</th>\n",
       "      <td>243608</td>\n",
       "      <td>Luton Town</td>\n",
       "      <td>NaN</td>\n",
       "      <td>R. Giles</td>\n",
       "      <td>LWB LB</td>\n",
       "      <td>23</td>\n",
       "      <td>74</td>\n",
       "      <td>79</td>\n",
       "      <td>6000000.0</td>\n",
       "      <td>LWB</td>\n",
       "    </tr>\n",
       "    <tr>\n",
       "      <th>66035</th>\n",
       "      <td>241928</td>\n",
       "      <td>Luton Town</td>\n",
       "      <td>NaN</td>\n",
       "      <td>A. Sambi Lokonga</td>\n",
       "      <td>CDM CM</td>\n",
       "      <td>23</td>\n",
       "      <td>74</td>\n",
       "      <td>80</td>\n",
       "      <td>6000000.0</td>\n",
       "      <td>SUB</td>\n",
       "    </tr>\n",
       "    <tr>\n",
       "      <th>66036</th>\n",
       "      <td>222994</td>\n",
       "      <td>Luton Town</td>\n",
       "      <td>NaN</td>\n",
       "      <td>M. Nakamba</td>\n",
       "      <td>CDM CM</td>\n",
       "      <td>29</td>\n",
       "      <td>74</td>\n",
       "      <td>74</td>\n",
       "      <td>3600000.0</td>\n",
       "      <td>CDM</td>\n",
       "    </tr>\n",
       "    <tr>\n",
       "      <th>66037</th>\n",
       "      <td>211363</td>\n",
       "      <td>Wales</td>\n",
       "      <td>Luton Town</td>\n",
       "      <td>T. Lockyer</td>\n",
       "      <td>CB</td>\n",
       "      <td>28</td>\n",
       "      <td>74</td>\n",
       "      <td>74</td>\n",
       "      <td>3600000.0</td>\n",
       "      <td>SUB</td>\n",
       "    </tr>\n",
       "    <tr>\n",
       "      <th>66038</th>\n",
       "      <td>199189</td>\n",
       "      <td>Luton Town</td>\n",
       "      <td>NaN</td>\n",
       "      <td>R. Barkley</td>\n",
       "      <td>CAM CM</td>\n",
       "      <td>29</td>\n",
       "      <td>74</td>\n",
       "      <td>74</td>\n",
       "      <td>4100000.0</td>\n",
       "      <td>RCM</td>\n",
       "    </tr>\n",
       "  </tbody>\n",
       "</table>\n",
       "<p>223 rows × 10 columns</p>\n",
       "</div>"
      ],
      "text/plain": [
       "       Sofifa_Id              Team1       Team2       Player_Name  \\\n",
       "67966     264453  Tottenham Hotspur         NaN     M. van de Ven   \n",
       "68499     231943  Tottenham Hotspur         NaN       Richarlison   \n",
       "68522     247394  Tottenham Hotspur      Sweden     D. Kulusevski   \n",
       "68523     243576  Tottenham Hotspur         NaN       Pedro Porro   \n",
       "68524     226226  Tottenham Hotspur   Argentina       G. Lo Celso   \n",
       "...          ...                ...         ...               ...   \n",
       "66034     243608         Luton Town         NaN          R. Giles   \n",
       "66035     241928         Luton Town         NaN  A. Sambi Lokonga   \n",
       "66036     222994         Luton Town         NaN        M. Nakamba   \n",
       "66037     211363              Wales  Luton Town        T. Lockyer   \n",
       "66038     199189         Luton Town         NaN        R. Barkley   \n",
       "\n",
       "      All_Positions  Age  Overall_Rating  Potential       Value Team1_Position  \n",
       "67966         CB LB   22              78         85  26500000.0            LCB  \n",
       "68499      ST LW RW   26              80         83  28000000.0            SUB  \n",
       "68522            RW   23              81         85  37000000.0             RW  \n",
       "68523        RB RWB   23              81         84  32500000.0             RB  \n",
       "68524        CAM ST   27              81         82  29500000.0            SUB  \n",
       "...             ...  ...             ...        ...         ...            ...  \n",
       "66034        LWB LB   23              74         79   6000000.0            LWB  \n",
       "66035        CDM CM   23              74         80   6000000.0            SUB  \n",
       "66036        CDM CM   29              74         74   3600000.0            CDM  \n",
       "66037            CB   28              74         74   3600000.0            SUB  \n",
       "66038        CAM CM   29              74         74   4100000.0            RCM  \n",
       "\n",
       "[223 rows x 10 columns]"
      ]
     },
     "execution_count": 463,
     "metadata": {},
     "output_type": "execute_result"
    }
   ],
   "source": [
    "optimize_teams_sofifa"
   ]
  },
  {
   "cell_type": "markdown",
   "metadata": {},
   "source": [
    "Xuất kết quả ra CSV"
   ]
  },
  {
   "cell_type": "code",
   "execution_count": 465,
   "metadata": {},
   "outputs": [],
   "source": [
    "optimize_teams_sofifa.to_csv('./output/optimize_teams_sofifa.csv', index=False)"
   ]
  },
  {
   "cell_type": "code",
   "execution_count": null,
   "metadata": {},
   "outputs": [],
   "source": [
    "#sofifa_last_version[sofifa_last_version['Team1'] == optimize_teams[2][2]][['Team1', 'Team2',\n",
    "#                                                                            'Sofifa_Id', \n",
    "#                                                                            'Player_Name', \n",
    "#                                                                            'All_Positions', \n",
    "#                                                                            'Age', \n",
    "#                                                                            'Overall_Rating', \n",
    "#                                                                            'Potential', \n",
    "#                                                                            'Value',\n",
    "#                                                                            'Team1_Position'\n",
    "#                                                                            ]]"
   ]
  },
  {
   "cell_type": "code",
   "execution_count": null,
   "metadata": {},
   "outputs": [],
   "source": [
    "#sofifa_last_version[sofifa_last_version['Team1'] == optimize_teams[12][2]].iloc[optimize_teams[12][1]][['Team1', \n",
    "#                                                                            'Sofifa_Id', \n",
    "#                                                                            'Player_Name', \n",
    "#                                                                            'All_Positions', \n",
    "#                                                                            'Age', \n",
    "#                                                                            'Overall_Rating', \n",
    "#                                                                            'Potential', \n",
    "#                                                                            'Value',\n",
    "#                                                                            'Team1_Position']]"
   ]
  }
 ],
 "metadata": {
  "kernelspec": {
   "display_name": "my_env_1",
   "language": "python",
   "name": "python3"
  },
  "language_info": {
   "codemirror_mode": {
    "name": "ipython",
    "version": 3
   },
   "file_extension": ".py",
   "mimetype": "text/x-python",
   "name": "python",
   "nbconvert_exporter": "python",
   "pygments_lexer": "ipython3",
   "version": "3.11.5"
  }
 },
 "nbformat": 4,
 "nbformat_minor": 2
}
