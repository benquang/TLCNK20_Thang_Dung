{
 "cells": [
  {
   "cell_type": "code",
   "execution_count": 275,
   "metadata": {},
   "outputs": [],
   "source": [
    "import pandas as pd\n",
    "import glob\n",
    "from datetime import datetime\n",
    "import numpy as np"
   ]
  },
  {
   "cell_type": "code",
   "execution_count": 276,
   "metadata": {},
   "outputs": [
    {
     "data": {
      "text/html": [
       "<div>\n",
       "<style scoped>\n",
       "    .dataframe tbody tr th:only-of-type {\n",
       "        vertical-align: middle;\n",
       "    }\n",
       "\n",
       "    .dataframe tbody tr th {\n",
       "        vertical-align: top;\n",
       "    }\n",
       "\n",
       "    .dataframe thead th {\n",
       "        text-align: right;\n",
       "    }\n",
       "</style>\n",
       "<table border=\"1\" class=\"dataframe\">\n",
       "  <thead>\n",
       "    <tr style=\"text-align: right;\">\n",
       "      <th></th>\n",
       "      <th>Match_Date</th>\n",
       "      <th>League</th>\n",
       "      <th>Home_Team</th>\n",
       "      <th>Away_Team</th>\n",
       "      <th>Home_Player1</th>\n",
       "      <th>Home_Player2</th>\n",
       "      <th>Home_Player3</th>\n",
       "      <th>Home_Player4</th>\n",
       "      <th>Home_Player5</th>\n",
       "      <th>Home_Player6</th>\n",
       "      <th>...</th>\n",
       "      <th>Away_Kit2</th>\n",
       "      <th>Away_Kit3</th>\n",
       "      <th>Away_Kit4</th>\n",
       "      <th>Away_Kit5</th>\n",
       "      <th>Away_Kit6</th>\n",
       "      <th>Away_Kit7</th>\n",
       "      <th>Away_Kit8</th>\n",
       "      <th>Away_Kit9</th>\n",
       "      <th>Away_Kit10</th>\n",
       "      <th>Away_Kit11</th>\n",
       "    </tr>\n",
       "  </thead>\n",
       "  <tbody>\n",
       "    <tr>\n",
       "      <th>0</th>\n",
       "      <td>2023-12-09</td>\n",
       "      <td>Premier League</td>\n",
       "      <td>Brighton</td>\n",
       "      <td>Burnley</td>\n",
       "      <td>Bart Verbruggen</td>\n",
       "      <td>Joel Veltman</td>\n",
       "      <td>Jan Paul van Hecke</td>\n",
       "      <td>Lewis Dunk</td>\n",
       "      <td>James Milner</td>\n",
       "      <td>Pascal Gross</td>\n",
       "      <td>...</td>\n",
       "      <td>22</td>\n",
       "      <td>2</td>\n",
       "      <td>5</td>\n",
       "      <td>3</td>\n",
       "      <td>16</td>\n",
       "      <td>8</td>\n",
       "      <td>7</td>\n",
       "      <td>25</td>\n",
       "      <td>31</td>\n",
       "      <td>9</td>\n",
       "    </tr>\n",
       "    <tr>\n",
       "      <th>1</th>\n",
       "      <td>2023-12-09</td>\n",
       "      <td>Premier League</td>\n",
       "      <td>Man United</td>\n",
       "      <td>Bournemouth</td>\n",
       "      <td>Andre Onana</td>\n",
       "      <td>Diogo Dalot</td>\n",
       "      <td>Harry Maguire</td>\n",
       "      <td>Luke Shaw</td>\n",
       "      <td>Sergio Reguilon</td>\n",
       "      <td>Kobbie Mainoo</td>\n",
       "      <td>...</td>\n",
       "      <td>15</td>\n",
       "      <td>27</td>\n",
       "      <td>25</td>\n",
       "      <td>3</td>\n",
       "      <td>10</td>\n",
       "      <td>4</td>\n",
       "      <td>24</td>\n",
       "      <td>19</td>\n",
       "      <td>16</td>\n",
       "      <td>9</td>\n",
       "    </tr>\n",
       "    <tr>\n",
       "      <th>2</th>\n",
       "      <td>2023-12-09</td>\n",
       "      <td>Premier League</td>\n",
       "      <td>Sheffield Utd</td>\n",
       "      <td>Brentford</td>\n",
       "      <td>Wesley Foderingham</td>\n",
       "      <td>Jayden Bogle</td>\n",
       "      <td>Anel Ahmedhodzic</td>\n",
       "      <td>Jack Robinson</td>\n",
       "      <td>Auston Trusty</td>\n",
       "      <td>Gustavo Hamer</td>\n",
       "      <td>...</td>\n",
       "      <td>14</td>\n",
       "      <td>5</td>\n",
       "      <td>16</td>\n",
       "      <td>27</td>\n",
       "      <td>33</td>\n",
       "      <td>6</td>\n",
       "      <td>15</td>\n",
       "      <td>23</td>\n",
       "      <td>7</td>\n",
       "      <td>11</td>\n",
       "    </tr>\n",
       "    <tr>\n",
       "      <th>3</th>\n",
       "      <td>2023-12-09</td>\n",
       "      <td>Premier League</td>\n",
       "      <td>Wolverhampton</td>\n",
       "      <td>Nott’m Forest</td>\n",
       "      <td>Jose Sa</td>\n",
       "      <td>Craig Dawson</td>\n",
       "      <td>Max Kilman</td>\n",
       "      <td>Toti Gomes</td>\n",
       "      <td>Nelson Semedo</td>\n",
       "      <td>Mario Lemina</td>\n",
       "      <td>...</td>\n",
       "      <td>43</td>\n",
       "      <td>18</td>\n",
       "      <td>40</td>\n",
       "      <td>15</td>\n",
       "      <td>6</td>\n",
       "      <td>5</td>\n",
       "      <td>16</td>\n",
       "      <td>14</td>\n",
       "      <td>10</td>\n",
       "      <td>21</td>\n",
       "    </tr>\n",
       "    <tr>\n",
       "      <th>4</th>\n",
       "      <td>2023-12-10</td>\n",
       "      <td>Premier League</td>\n",
       "      <td>Aston Villa</td>\n",
       "      <td>Arsenal</td>\n",
       "      <td>Emiliano Martinez</td>\n",
       "      <td>Ezri Konsa</td>\n",
       "      <td>Diego Carlos</td>\n",
       "      <td>Pau Torres</td>\n",
       "      <td>Lucas Digne</td>\n",
       "      <td>Leon Bailey</td>\n",
       "      <td>...</td>\n",
       "      <td>4</td>\n",
       "      <td>2</td>\n",
       "      <td>6</td>\n",
       "      <td>35</td>\n",
       "      <td>8</td>\n",
       "      <td>20</td>\n",
       "      <td>41</td>\n",
       "      <td>7</td>\n",
       "      <td>9</td>\n",
       "      <td>11</td>\n",
       "    </tr>\n",
       "    <tr>\n",
       "      <th>5</th>\n",
       "      <td>2023-12-10</td>\n",
       "      <td>Premier League</td>\n",
       "      <td>Everton</td>\n",
       "      <td>Chelsea</td>\n",
       "      <td>Jordan Pickford</td>\n",
       "      <td>Ashley Young</td>\n",
       "      <td>James Tarkowski</td>\n",
       "      <td>Jarrad Branthwaite</td>\n",
       "      <td>Vitalii Mykolenko</td>\n",
       "      <td>Jack Harrison</td>\n",
       "      <td>...</td>\n",
       "      <td>24</td>\n",
       "      <td>2</td>\n",
       "      <td>6</td>\n",
       "      <td>26</td>\n",
       "      <td>25</td>\n",
       "      <td>8</td>\n",
       "      <td>20</td>\n",
       "      <td>23</td>\n",
       "      <td>7</td>\n",
       "      <td>15</td>\n",
       "    </tr>\n",
       "    <tr>\n",
       "      <th>6</th>\n",
       "      <td>2023-12-10</td>\n",
       "      <td>Premier League</td>\n",
       "      <td>Fulham</td>\n",
       "      <td>West Ham</td>\n",
       "      <td>Bernd Leno</td>\n",
       "      <td>Kenny Tete</td>\n",
       "      <td>Tosin Adarabioyo</td>\n",
       "      <td>Calvin Bassey</td>\n",
       "      <td>Antonee Robinson</td>\n",
       "      <td>Joao Palhinha</td>\n",
       "      <td>...</td>\n",
       "      <td>5</td>\n",
       "      <td>4</td>\n",
       "      <td>27</td>\n",
       "      <td>33</td>\n",
       "      <td>28</td>\n",
       "      <td>7</td>\n",
       "      <td>19</td>\n",
       "      <td>14</td>\n",
       "      <td>20</td>\n",
       "      <td>10</td>\n",
       "    </tr>\n",
       "    <tr>\n",
       "      <th>7</th>\n",
       "      <td>2023-12-10</td>\n",
       "      <td>Premier League</td>\n",
       "      <td>Luton</td>\n",
       "      <td>Man City</td>\n",
       "      <td>Thomas Kaminski</td>\n",
       "      <td>Teden Mengi</td>\n",
       "      <td>Tom Lockyer</td>\n",
       "      <td>Gabriel Osho</td>\n",
       "      <td>Alfie Doughty</td>\n",
       "      <td>Ross Barkley</td>\n",
       "      <td>...</td>\n",
       "      <td>25</td>\n",
       "      <td>3</td>\n",
       "      <td>6</td>\n",
       "      <td>5</td>\n",
       "      <td>16</td>\n",
       "      <td>47</td>\n",
       "      <td>19</td>\n",
       "      <td>20</td>\n",
       "      <td>10</td>\n",
       "      <td>9</td>\n",
       "    </tr>\n",
       "    <tr>\n",
       "      <th>8</th>\n",
       "      <td>2023-12-10</td>\n",
       "      <td>Premier League</td>\n",
       "      <td>Tottenham</td>\n",
       "      <td>Newcastle</td>\n",
       "      <td>Guglielmo Vicario</td>\n",
       "      <td>Pedro Porro</td>\n",
       "      <td>Cristian Romero</td>\n",
       "      <td>Ben Davies</td>\n",
       "      <td>Iyenoma Udogie</td>\n",
       "      <td>Yves Bissouma</td>\n",
       "      <td>...</td>\n",
       "      <td>2</td>\n",
       "      <td>6</td>\n",
       "      <td>5</td>\n",
       "      <td>21</td>\n",
       "      <td>67</td>\n",
       "      <td>39</td>\n",
       "      <td>7</td>\n",
       "      <td>24</td>\n",
       "      <td>14</td>\n",
       "      <td>10</td>\n",
       "    </tr>\n",
       "  </tbody>\n",
       "</table>\n",
       "<p>9 rows × 48 columns</p>\n",
       "</div>"
      ],
      "text/plain": [
       "   Match_Date          League      Home_Team      Away_Team  \\\n",
       "0  2023-12-09  Premier League       Brighton        Burnley   \n",
       "1  2023-12-09  Premier League     Man United    Bournemouth   \n",
       "2  2023-12-09  Premier League  Sheffield Utd      Brentford   \n",
       "3  2023-12-09  Premier League  Wolverhampton  Nott’m Forest   \n",
       "4  2023-12-10  Premier League    Aston Villa        Arsenal   \n",
       "5  2023-12-10  Premier League        Everton        Chelsea   \n",
       "6  2023-12-10  Premier League         Fulham       West Ham   \n",
       "7  2023-12-10  Premier League          Luton       Man City   \n",
       "8  2023-12-10  Premier League      Tottenham      Newcastle   \n",
       "\n",
       "         Home_Player1  Home_Player2        Home_Player3        Home_Player4  \\\n",
       "0     Bart Verbruggen  Joel Veltman  Jan Paul van Hecke          Lewis Dunk   \n",
       "1         Andre Onana   Diogo Dalot       Harry Maguire           Luke Shaw   \n",
       "2  Wesley Foderingham  Jayden Bogle    Anel Ahmedhodzic       Jack Robinson   \n",
       "3             Jose Sa  Craig Dawson          Max Kilman          Toti Gomes   \n",
       "4   Emiliano Martinez    Ezri Konsa        Diego Carlos          Pau Torres   \n",
       "5     Jordan Pickford  Ashley Young     James Tarkowski  Jarrad Branthwaite   \n",
       "6          Bernd Leno    Kenny Tete    Tosin Adarabioyo       Calvin Bassey   \n",
       "7     Thomas Kaminski   Teden Mengi         Tom Lockyer        Gabriel Osho   \n",
       "8   Guglielmo Vicario   Pedro Porro     Cristian Romero          Ben Davies   \n",
       "\n",
       "        Home_Player5   Home_Player6  ... Away_Kit2 Away_Kit3 Away_Kit4  \\\n",
       "0       James Milner   Pascal Gross  ...        22         2         5   \n",
       "1    Sergio Reguilon  Kobbie Mainoo  ...        15        27        25   \n",
       "2      Auston Trusty  Gustavo Hamer  ...        14         5        16   \n",
       "3      Nelson Semedo   Mario Lemina  ...        43        18        40   \n",
       "4        Lucas Digne    Leon Bailey  ...         4         2         6   \n",
       "5  Vitalii Mykolenko  Jack Harrison  ...        24         2         6   \n",
       "6   Antonee Robinson  Joao Palhinha  ...         5         4        27   \n",
       "7      Alfie Doughty   Ross Barkley  ...        25         3         6   \n",
       "8     Iyenoma Udogie  Yves Bissouma  ...         2         6         5   \n",
       "\n",
       "  Away_Kit5 Away_Kit6 Away_Kit7 Away_Kit8 Away_Kit9 Away_Kit10 Away_Kit11  \n",
       "0         3        16         8         7        25         31          9  \n",
       "1         3        10         4        24        19         16          9  \n",
       "2        27        33         6        15        23          7         11  \n",
       "3        15         6         5        16        14         10         21  \n",
       "4        35         8        20        41         7          9         11  \n",
       "5        26        25         8        20        23          7         15  \n",
       "6        33        28         7        19        14         20         10  \n",
       "7         5        16        47        19        20         10          9  \n",
       "8        21        67        39         7        24         14         10  \n",
       "\n",
       "[9 rows x 48 columns]"
      ]
     },
     "metadata": {},
     "output_type": "display_data"
    }
   ],
   "source": [
    "# file_paths = glob.glob('./output/csv/part-*.csv')\n",
    "# df_UpComingMatchs = pd.concat((pd.read_csv(file_path,encoding=\"utf-8\") for file_path in file_paths), ignore_index=True)\n",
    "df_UpComingMatchs = pd.read_csv('./data.csv',encoding=\"utf-8\")\n",
    "display(df_UpComingMatchs)"
   ]
  },
  {
   "cell_type": "code",
   "execution_count": 277,
   "metadata": {},
   "outputs": [],
   "source": [
    "df_matchs_dataset_model = pd.read_csv('./matchs_dataset_model.csv',encoding=\"utf-8\")"
   ]
  },
  {
   "cell_type": "code",
   "execution_count": 278,
   "metadata": {},
   "outputs": [],
   "source": [
    "def encode_UpComingMatchs(df_UpComingMatchs):\n",
    "    int_columns = df_UpComingMatchs.filter(like='_Kit').columns\n",
    "    columns = [column for column in df_UpComingMatchs.columns if column not in int_columns]\n",
    "    df_UpComingMatchs[columns] = df_UpComingMatchs[columns].applymap(lambda x: x.encode().decode('unicode_escape'))\n",
    "    return df_UpComingMatchs\n",
    "def parse_type_UpComingMatchs(df_UpComingMatchs):\n",
    "    int_columns = df_UpComingMatchs.filter(like='_Kit').columns\n",
    "    string_columns = [column for column in df_UpComingMatchs.columns if column not in int_columns]\n",
    "    df_UpComingMatchs[int_columns] = df_UpComingMatchs[int_columns].astype(int)\n",
    "    df_UpComingMatchs[string_columns] = df_UpComingMatchs[string_columns].astype(str)\n",
    "    return df_UpComingMatchs\n",
    "# df_UpComingMatchs = encode_UpComingMatchs(df_UpComingMatchs)\n",
    "df_UpComingMatchs = parse_type_UpComingMatchs(df_UpComingMatchs)"
   ]
  },
  {
   "cell_type": "code",
   "execution_count": 279,
   "metadata": {},
   "outputs": [
    {
     "data": {
      "text/plain": [
       "Match_Date       object\n",
       "League           object\n",
       "Home_Team        object\n",
       "Away_Team        object\n",
       "Home_Player1     object\n",
       "Home_Player2     object\n",
       "Home_Player3     object\n",
       "Home_Player4     object\n",
       "Home_Player5     object\n",
       "Home_Player6     object\n",
       "Home_Player7     object\n",
       "Home_Player8     object\n",
       "Home_Player9     object\n",
       "Home_Player10    object\n",
       "Home_Player11    object\n",
       "Away_Player1     object\n",
       "Away_Player2     object\n",
       "Away_Player3     object\n",
       "Away_Player4     object\n",
       "Away_Player5     object\n",
       "Away_Player6     object\n",
       "Away_Player7     object\n",
       "Away_Player8     object\n",
       "Away_Player9     object\n",
       "Away_Player10    object\n",
       "Away_Player11    object\n",
       "Home_Kit1         int32\n",
       "Home_Kit2         int32\n",
       "Home_Kit3         int32\n",
       "Home_Kit4         int32\n",
       "Home_Kit5         int32\n",
       "Home_Kit6         int32\n",
       "Home_Kit7         int32\n",
       "Home_Kit8         int32\n",
       "Home_Kit9         int32\n",
       "Home_Kit10        int32\n",
       "Home_Kit11        int32\n",
       "Away_Kit1         int32\n",
       "Away_Kit2         int32\n",
       "Away_Kit3         int32\n",
       "Away_Kit4         int32\n",
       "Away_Kit5         int32\n",
       "Away_Kit6         int32\n",
       "Away_Kit7         int32\n",
       "Away_Kit8         int32\n",
       "Away_Kit9         int32\n",
       "Away_Kit10        int32\n",
       "Away_Kit11        int32\n",
       "dtype: object"
      ]
     },
     "execution_count": 279,
     "metadata": {},
     "output_type": "execute_result"
    }
   ],
   "source": [
    "df_UpComingMatchs.dtypes"
   ]
  },
  {
   "cell_type": "code",
   "execution_count": 280,
   "metadata": {},
   "outputs": [],
   "source": [
    "df_new_match_dataset_model = pd.DataFrame(columns=df_matchs_dataset_model.columns)\n"
   ]
  },
  {
   "cell_type": "code",
   "execution_count": 281,
   "metadata": {},
   "outputs": [
    {
     "data": {
      "text/plain": [
       "Home_Team    Wolverhampton\n",
       "Away_Team    Nott’m Forest\n",
       "Name: 3, dtype: object"
      ]
     },
     "metadata": {},
     "output_type": "display_data"
    }
   ],
   "source": [
    "def append_new_match_dataset_model_from_df(df_new_match_dataset_model,df_UpComingMatchs):\n",
    "    columns = [column for column in df_matchs_dataset_model.columns if column in df_UpComingMatchs.columns]\n",
    "    df_new_match_dataset_model = pd.concat([df_new_match_dataset_model,df_UpComingMatchs[columns]])\n",
    "    # columns = ['Home_Team','Away_Team']\n",
    "    # df_new_match_dataset_model[columns] = df_new_match_dataset_model[columns].applymap(lambda x: x.encode('latin1').decode('unicode_escape'))\n",
    "    return df_new_match_dataset_model\n",
    "df_new_match_dataset_model = append_new_match_dataset_model_from_df(df_new_match_dataset_model,df_UpComingMatchs)\n",
    "display(df_new_match_dataset_model.iloc[3][['Home_Team','Away_Team']])"
   ]
  },
  {
   "cell_type": "code",
   "execution_count": 282,
   "metadata": {},
   "outputs": [],
   "source": [
    "def edit_team_name(df_new_match_dataset_model):\n",
    "    dict_change = {\n",
    "        'Nott’m Forest':'Nottingham Forest',\n",
    "        'Man City':'Manchester City',\n",
    "        'Man United':'Manchester United',\n",
    "        'Sheffield Utd':\"Sheffield United\",\n",
    "        'Wolverhampton':'Wolverhampton Wanderers',\n",
    "        'Tottenham':'Tottenham Hotspur',\n",
    "        'Luton':'Luton Town',\n",
    "        'Newcastle':'Newcastle United',\n",
    "        'West Ham':'West Ham United',\n",
    "        '':'',\n",
    "        '':'',\n",
    "        '':'',\n",
    "        }\n",
    "    home_teams = [value for value in df_new_match_dataset_model[\"Home_Team\"]]\n",
    "    away_teams = [value for value in df_new_match_dataset_model[\"Away_Team\"]]\n",
    "    for i in range(len(home_teams)):\n",
    "        if home_teams[i] in list(dict_change.keys()):\n",
    "            home_teams[i] = dict_change.get(home_teams[i])\n",
    "    for i in range(len(away_teams)):\n",
    "        if away_teams[i] in list(dict_change.keys()):\n",
    "            away_teams[i] = dict_change.get(away_teams[i])\n",
    "    df_new_match_dataset_model[\"Home_Team\"] = home_teams\n",
    "    df_new_match_dataset_model[\"Away_Team\"] = away_teams\n",
    "    return df_new_match_dataset_model\n",
    "    \n",
    "df_new_match_dataset_model = edit_team_name(df_new_match_dataset_model)"
   ]
  },
  {
   "cell_type": "code",
   "execution_count": 283,
   "metadata": {},
   "outputs": [
    {
     "data": {
      "text/plain": [
       "array(['8c6293a3', '2023-10-23', 'Tottenham Hotspur', 'Ange Postecoglou',\n",
       "       'Son Heung-min', 4231, 65.0, 9.0, 8.5, 21.0, 11.5, 22.0, 4.0, 6.5,\n",
       "       24.5, 40.5, 16.0, 967.0, 1.0, 1.0, 0.0, 0.0, 19.5, 6.0, 4.0, 0.5,\n",
       "       790.0, 21.5, 10.0, 14.5, 2.1, 2.1, 1.7000000000000002, 35.5, 2.0,\n",
       "       565.5, 660.5, 85.45, 71.5, 483.0, 24.5, 26.0, 9.0, 'Fulham',\n",
       "       'Marco Silva', 'Tim Ream', 4231, 58.0, 11.5, 8.5, 25.5, 14.5, 9.0,\n",
       "       2.0, 2.5, 25.0, 75.0, 15.5, 990.0, 1.0, 0.5, 0.0, 0.0, 15.0, 4.5,\n",
       "       1.0, 0.0, 708.0, 20.0, 12.5, 11.5, 1.65, 1.65, 1.4, 25.0, 2.0,\n",
       "       487.5, 599.0, 81.25, 47.0, 434.5, 27.5, 15.0, 8.5,\n",
       "       78.9090909090909, 79.63636363636364, 77.0, 74.4, 76.58823529411765,\n",
       "       74.875, 2, 0], dtype=object)"
      ]
     },
     "execution_count": 283,
     "metadata": {},
     "output_type": "execute_result"
    }
   ],
   "source": [
    "df_matchs_dataset_model.iloc[0].values\n",
    "\n"
   ]
  },
  {
   "cell_type": "code",
   "execution_count": 284,
   "metadata": {},
   "outputs": [
    {
     "data": {
      "text/plain": [
       "Home_Team    Brighton\n",
       "Away_Team     Burnley\n",
       "Name: 0, dtype: object"
      ]
     },
     "metadata": {},
     "output_type": "display_data"
    },
    {
     "data": {
      "text/plain": [
       "'Brighton'"
      ]
     },
     "metadata": {},
     "output_type": "display_data"
    },
    {
     "name": "stderr",
     "output_type": "stream",
     "text": [
      "C:\\Users\\super\\AppData\\Local\\Temp\\ipykernel_2712\\47135146.py:27: SettingWithCopyWarning: \n",
      "A value is trying to be set on a copy of a slice from a DataFrame\n",
      "\n",
      "See the caveats in the documentation: https://pandas.pydata.org/pandas-docs/stable/user_guide/indexing.html#returning-a-view-versus-a-copy\n",
      "  row[home_columns_string] = df_matchs_dataset_model_temp.loc[:,away_columns_string].values[0]\n",
      "C:\\Users\\super\\AppData\\Local\\Temp\\ipykernel_2712\\47135146.py:27: SettingWithCopyWarning: \n",
      "A value is trying to be set on a copy of a slice from a DataFrame\n",
      "\n",
      "See the caveats in the documentation: https://pandas.pydata.org/pandas-docs/stable/user_guide/indexing.html#returning-a-view-versus-a-copy\n",
      "  row[home_columns_string] = df_matchs_dataset_model_temp.loc[:,away_columns_string].values[0]\n",
      "C:\\Users\\super\\AppData\\Local\\Temp\\ipykernel_2712\\47135146.py:38: SettingWithCopyWarning: \n",
      "A value is trying to be set on a copy of a slice from a DataFrame\n",
      "\n",
      "See the caveats in the documentation: https://pandas.pydata.org/pandas-docs/stable/user_guide/indexing.html#returning-a-view-versus-a-copy\n",
      "  row[home_columns_numeric] = np.array(home_statistic)\n",
      "C:\\Users\\super\\AppData\\Local\\Temp\\ipykernel_2712\\47135146.py:38: SettingWithCopyWarning: \n",
      "A value is trying to be set on a copy of a slice from a DataFrame\n",
      "\n",
      "See the caveats in the documentation: https://pandas.pydata.org/pandas-docs/stable/user_guide/indexing.html#returning-a-view-versus-a-copy\n",
      "  row[home_columns_numeric] = np.array(home_statistic)\n"
     ]
    },
    {
     "data": {
      "text/plain": [
       "'Burnley'"
      ]
     },
     "metadata": {},
     "output_type": "display_data"
    },
    {
     "name": "stderr",
     "output_type": "stream",
     "text": [
      "C:\\Users\\super\\AppData\\Local\\Temp\\ipykernel_2712\\47135146.py:56: SettingWithCopyWarning: \n",
      "A value is trying to be set on a copy of a slice from a DataFrame\n",
      "\n",
      "See the caveats in the documentation: https://pandas.pydata.org/pandas-docs/stable/user_guide/indexing.html#returning-a-view-versus-a-copy\n",
      "  row[away_columns_string] = df_matchs_dataset_model_temp.loc[:,away_columns_string].values[0]\n",
      "C:\\Users\\super\\AppData\\Local\\Temp\\ipykernel_2712\\47135146.py:56: SettingWithCopyWarning: \n",
      "A value is trying to be set on a copy of a slice from a DataFrame\n",
      "\n",
      "See the caveats in the documentation: https://pandas.pydata.org/pandas-docs/stable/user_guide/indexing.html#returning-a-view-versus-a-copy\n",
      "  row[away_columns_string] = df_matchs_dataset_model_temp.loc[:,away_columns_string].values[0]\n",
      "C:\\Users\\super\\AppData\\Local\\Temp\\ipykernel_2712\\47135146.py:67: SettingWithCopyWarning: \n",
      "A value is trying to be set on a copy of a slice from a DataFrame\n",
      "\n",
      "See the caveats in the documentation: https://pandas.pydata.org/pandas-docs/stable/user_guide/indexing.html#returning-a-view-versus-a-copy\n",
      "  row[away_columns_numeric] = np.array(away_statistic)\n",
      "C:\\Users\\super\\AppData\\Local\\Temp\\ipykernel_2712\\47135146.py:67: SettingWithCopyWarning: \n",
      "A value is trying to be set on a copy of a slice from a DataFrame\n",
      "\n",
      "See the caveats in the documentation: https://pandas.pydata.org/pandas-docs/stable/user_guide/indexing.html#returning-a-view-versus-a-copy\n",
      "  row[away_columns_numeric] = np.array(away_statistic)\n"
     ]
    },
    {
     "data": {
      "text/plain": [
       "Home_Team    Manchester United\n",
       "Away_Team          Bournemouth\n",
       "Name: 1, dtype: object"
      ]
     },
     "metadata": {},
     "output_type": "display_data"
    },
    {
     "data": {
      "text/plain": [
       "'Manchester United'"
      ]
     },
     "metadata": {},
     "output_type": "display_data"
    },
    {
     "name": "stderr",
     "output_type": "stream",
     "text": [
      "C:\\Users\\super\\AppData\\Local\\Temp\\ipykernel_2712\\47135146.py:27: SettingWithCopyWarning: \n",
      "A value is trying to be set on a copy of a slice from a DataFrame\n",
      "\n",
      "See the caveats in the documentation: https://pandas.pydata.org/pandas-docs/stable/user_guide/indexing.html#returning-a-view-versus-a-copy\n",
      "  row[home_columns_string] = df_matchs_dataset_model_temp.loc[:,away_columns_string].values[0]\n",
      "C:\\Users\\super\\AppData\\Local\\Temp\\ipykernel_2712\\47135146.py:27: SettingWithCopyWarning: \n",
      "A value is trying to be set on a copy of a slice from a DataFrame\n",
      "\n",
      "See the caveats in the documentation: https://pandas.pydata.org/pandas-docs/stable/user_guide/indexing.html#returning-a-view-versus-a-copy\n",
      "  row[home_columns_string] = df_matchs_dataset_model_temp.loc[:,away_columns_string].values[0]\n",
      "C:\\Users\\super\\AppData\\Local\\Temp\\ipykernel_2712\\47135146.py:38: SettingWithCopyWarning: \n",
      "A value is trying to be set on a copy of a slice from a DataFrame\n",
      "\n",
      "See the caveats in the documentation: https://pandas.pydata.org/pandas-docs/stable/user_guide/indexing.html#returning-a-view-versus-a-copy\n",
      "  row[home_columns_numeric] = np.array(home_statistic)\n",
      "C:\\Users\\super\\AppData\\Local\\Temp\\ipykernel_2712\\47135146.py:38: SettingWithCopyWarning: \n",
      "A value is trying to be set on a copy of a slice from a DataFrame\n",
      "\n",
      "See the caveats in the documentation: https://pandas.pydata.org/pandas-docs/stable/user_guide/indexing.html#returning-a-view-versus-a-copy\n",
      "  row[home_columns_numeric] = np.array(home_statistic)\n"
     ]
    },
    {
     "data": {
      "text/plain": [
       "'Bournemouth'"
      ]
     },
     "metadata": {},
     "output_type": "display_data"
    },
    {
     "name": "stderr",
     "output_type": "stream",
     "text": [
      "C:\\Users\\super\\AppData\\Local\\Temp\\ipykernel_2712\\47135146.py:53: SettingWithCopyWarning: \n",
      "A value is trying to be set on a copy of a slice from a DataFrame\n",
      "\n",
      "See the caveats in the documentation: https://pandas.pydata.org/pandas-docs/stable/user_guide/indexing.html#returning-a-view-versus-a-copy\n",
      "  row[away_columns_string] = df_matchs_dataset_model_temp.loc[:,home_columns_string].values[0]\n",
      "C:\\Users\\super\\AppData\\Local\\Temp\\ipykernel_2712\\47135146.py:53: SettingWithCopyWarning: \n",
      "A value is trying to be set on a copy of a slice from a DataFrame\n",
      "\n",
      "See the caveats in the documentation: https://pandas.pydata.org/pandas-docs/stable/user_guide/indexing.html#returning-a-view-versus-a-copy\n",
      "  row[away_columns_string] = df_matchs_dataset_model_temp.loc[:,home_columns_string].values[0]\n",
      "C:\\Users\\super\\AppData\\Local\\Temp\\ipykernel_2712\\47135146.py:67: SettingWithCopyWarning: \n",
      "A value is trying to be set on a copy of a slice from a DataFrame\n",
      "\n",
      "See the caveats in the documentation: https://pandas.pydata.org/pandas-docs/stable/user_guide/indexing.html#returning-a-view-versus-a-copy\n",
      "  row[away_columns_numeric] = np.array(away_statistic)\n",
      "C:\\Users\\super\\AppData\\Local\\Temp\\ipykernel_2712\\47135146.py:67: SettingWithCopyWarning: \n",
      "A value is trying to be set on a copy of a slice from a DataFrame\n",
      "\n",
      "See the caveats in the documentation: https://pandas.pydata.org/pandas-docs/stable/user_guide/indexing.html#returning-a-view-versus-a-copy\n",
      "  row[away_columns_numeric] = np.array(away_statistic)\n"
     ]
    },
    {
     "data": {
      "text/plain": [
       "Home_Team    Sheffield United\n",
       "Away_Team           Brentford\n",
       "Name: 2, dtype: object"
      ]
     },
     "metadata": {},
     "output_type": "display_data"
    },
    {
     "data": {
      "text/plain": [
       "'Sheffield United'"
      ]
     },
     "metadata": {},
     "output_type": "display_data"
    },
    {
     "name": "stderr",
     "output_type": "stream",
     "text": [
      "C:\\Users\\super\\AppData\\Local\\Temp\\ipykernel_2712\\47135146.py:24: SettingWithCopyWarning: \n",
      "A value is trying to be set on a copy of a slice from a DataFrame\n",
      "\n",
      "See the caveats in the documentation: https://pandas.pydata.org/pandas-docs/stable/user_guide/indexing.html#returning-a-view-versus-a-copy\n",
      "  row[home_columns_string] = df_matchs_dataset_model_temp.loc[:,home_columns_string].values[0]\n",
      "C:\\Users\\super\\AppData\\Local\\Temp\\ipykernel_2712\\47135146.py:24: SettingWithCopyWarning: \n",
      "A value is trying to be set on a copy of a slice from a DataFrame\n",
      "\n",
      "See the caveats in the documentation: https://pandas.pydata.org/pandas-docs/stable/user_guide/indexing.html#returning-a-view-versus-a-copy\n",
      "  row[home_columns_string] = df_matchs_dataset_model_temp.loc[:,home_columns_string].values[0]\n",
      "C:\\Users\\super\\AppData\\Local\\Temp\\ipykernel_2712\\47135146.py:38: SettingWithCopyWarning: \n",
      "A value is trying to be set on a copy of a slice from a DataFrame\n",
      "\n",
      "See the caveats in the documentation: https://pandas.pydata.org/pandas-docs/stable/user_guide/indexing.html#returning-a-view-versus-a-copy\n",
      "  row[home_columns_numeric] = np.array(home_statistic)\n",
      "C:\\Users\\super\\AppData\\Local\\Temp\\ipykernel_2712\\47135146.py:38: SettingWithCopyWarning: \n",
      "A value is trying to be set on a copy of a slice from a DataFrame\n",
      "\n",
      "See the caveats in the documentation: https://pandas.pydata.org/pandas-docs/stable/user_guide/indexing.html#returning-a-view-versus-a-copy\n",
      "  row[home_columns_numeric] = np.array(home_statistic)\n"
     ]
    },
    {
     "data": {
      "text/plain": [
       "'Brentford'"
      ]
     },
     "metadata": {},
     "output_type": "display_data"
    },
    {
     "name": "stderr",
     "output_type": "stream",
     "text": [
      "C:\\Users\\super\\AppData\\Local\\Temp\\ipykernel_2712\\47135146.py:53: SettingWithCopyWarning: \n",
      "A value is trying to be set on a copy of a slice from a DataFrame\n",
      "\n",
      "See the caveats in the documentation: https://pandas.pydata.org/pandas-docs/stable/user_guide/indexing.html#returning-a-view-versus-a-copy\n",
      "  row[away_columns_string] = df_matchs_dataset_model_temp.loc[:,home_columns_string].values[0]\n",
      "C:\\Users\\super\\AppData\\Local\\Temp\\ipykernel_2712\\47135146.py:53: SettingWithCopyWarning: \n",
      "A value is trying to be set on a copy of a slice from a DataFrame\n",
      "\n",
      "See the caveats in the documentation: https://pandas.pydata.org/pandas-docs/stable/user_guide/indexing.html#returning-a-view-versus-a-copy\n",
      "  row[away_columns_string] = df_matchs_dataset_model_temp.loc[:,home_columns_string].values[0]\n",
      "C:\\Users\\super\\AppData\\Local\\Temp\\ipykernel_2712\\47135146.py:67: SettingWithCopyWarning: \n",
      "A value is trying to be set on a copy of a slice from a DataFrame\n",
      "\n",
      "See the caveats in the documentation: https://pandas.pydata.org/pandas-docs/stable/user_guide/indexing.html#returning-a-view-versus-a-copy\n",
      "  row[away_columns_numeric] = np.array(away_statistic)\n",
      "C:\\Users\\super\\AppData\\Local\\Temp\\ipykernel_2712\\47135146.py:67: SettingWithCopyWarning: \n",
      "A value is trying to be set on a copy of a slice from a DataFrame\n",
      "\n",
      "See the caveats in the documentation: https://pandas.pydata.org/pandas-docs/stable/user_guide/indexing.html#returning-a-view-versus-a-copy\n",
      "  row[away_columns_numeric] = np.array(away_statistic)\n"
     ]
    },
    {
     "data": {
      "text/plain": [
       "Home_Team    Wolverhampton Wanderers\n",
       "Away_Team          Nottingham Forest\n",
       "Name: 3, dtype: object"
      ]
     },
     "metadata": {},
     "output_type": "display_data"
    },
    {
     "data": {
      "text/plain": [
       "'Wolverhampton Wanderers'"
      ]
     },
     "metadata": {},
     "output_type": "display_data"
    },
    {
     "name": "stderr",
     "output_type": "stream",
     "text": [
      "C:\\Users\\super\\AppData\\Local\\Temp\\ipykernel_2712\\47135146.py:27: SettingWithCopyWarning: \n",
      "A value is trying to be set on a copy of a slice from a DataFrame\n",
      "\n",
      "See the caveats in the documentation: https://pandas.pydata.org/pandas-docs/stable/user_guide/indexing.html#returning-a-view-versus-a-copy\n",
      "  row[home_columns_string] = df_matchs_dataset_model_temp.loc[:,away_columns_string].values[0]\n",
      "C:\\Users\\super\\AppData\\Local\\Temp\\ipykernel_2712\\47135146.py:27: SettingWithCopyWarning: \n",
      "A value is trying to be set on a copy of a slice from a DataFrame\n",
      "\n",
      "See the caveats in the documentation: https://pandas.pydata.org/pandas-docs/stable/user_guide/indexing.html#returning-a-view-versus-a-copy\n",
      "  row[home_columns_string] = df_matchs_dataset_model_temp.loc[:,away_columns_string].values[0]\n",
      "C:\\Users\\super\\AppData\\Local\\Temp\\ipykernel_2712\\47135146.py:38: SettingWithCopyWarning: \n",
      "A value is trying to be set on a copy of a slice from a DataFrame\n",
      "\n",
      "See the caveats in the documentation: https://pandas.pydata.org/pandas-docs/stable/user_guide/indexing.html#returning-a-view-versus-a-copy\n",
      "  row[home_columns_numeric] = np.array(home_statistic)\n",
      "C:\\Users\\super\\AppData\\Local\\Temp\\ipykernel_2712\\47135146.py:38: SettingWithCopyWarning: \n",
      "A value is trying to be set on a copy of a slice from a DataFrame\n",
      "\n",
      "See the caveats in the documentation: https://pandas.pydata.org/pandas-docs/stable/user_guide/indexing.html#returning-a-view-versus-a-copy\n",
      "  row[home_columns_numeric] = np.array(home_statistic)\n"
     ]
    },
    {
     "data": {
      "text/plain": [
       "'Nottingham Forest'"
      ]
     },
     "metadata": {},
     "output_type": "display_data"
    },
    {
     "name": "stderr",
     "output_type": "stream",
     "text": [
      "C:\\Users\\super\\AppData\\Local\\Temp\\ipykernel_2712\\47135146.py:53: SettingWithCopyWarning: \n",
      "A value is trying to be set on a copy of a slice from a DataFrame\n",
      "\n",
      "See the caveats in the documentation: https://pandas.pydata.org/pandas-docs/stable/user_guide/indexing.html#returning-a-view-versus-a-copy\n",
      "  row[away_columns_string] = df_matchs_dataset_model_temp.loc[:,home_columns_string].values[0]\n",
      "C:\\Users\\super\\AppData\\Local\\Temp\\ipykernel_2712\\47135146.py:53: SettingWithCopyWarning: \n",
      "A value is trying to be set on a copy of a slice from a DataFrame\n",
      "\n",
      "See the caveats in the documentation: https://pandas.pydata.org/pandas-docs/stable/user_guide/indexing.html#returning-a-view-versus-a-copy\n",
      "  row[away_columns_string] = df_matchs_dataset_model_temp.loc[:,home_columns_string].values[0]\n",
      "C:\\Users\\super\\AppData\\Local\\Temp\\ipykernel_2712\\47135146.py:67: SettingWithCopyWarning: \n",
      "A value is trying to be set on a copy of a slice from a DataFrame\n",
      "\n",
      "See the caveats in the documentation: https://pandas.pydata.org/pandas-docs/stable/user_guide/indexing.html#returning-a-view-versus-a-copy\n",
      "  row[away_columns_numeric] = np.array(away_statistic)\n",
      "C:\\Users\\super\\AppData\\Local\\Temp\\ipykernel_2712\\47135146.py:67: SettingWithCopyWarning: \n",
      "A value is trying to be set on a copy of a slice from a DataFrame\n",
      "\n",
      "See the caveats in the documentation: https://pandas.pydata.org/pandas-docs/stable/user_guide/indexing.html#returning-a-view-versus-a-copy\n",
      "  row[away_columns_numeric] = np.array(away_statistic)\n"
     ]
    },
    {
     "data": {
      "text/plain": [
       "Home_Team    Aston Villa\n",
       "Away_Team        Arsenal\n",
       "Name: 4, dtype: object"
      ]
     },
     "metadata": {},
     "output_type": "display_data"
    },
    {
     "data": {
      "text/plain": [
       "'Aston Villa'"
      ]
     },
     "metadata": {},
     "output_type": "display_data"
    },
    {
     "name": "stderr",
     "output_type": "stream",
     "text": [
      "C:\\Users\\super\\AppData\\Local\\Temp\\ipykernel_2712\\47135146.py:24: SettingWithCopyWarning: \n",
      "A value is trying to be set on a copy of a slice from a DataFrame\n",
      "\n",
      "See the caveats in the documentation: https://pandas.pydata.org/pandas-docs/stable/user_guide/indexing.html#returning-a-view-versus-a-copy\n",
      "  row[home_columns_string] = df_matchs_dataset_model_temp.loc[:,home_columns_string].values[0]\n",
      "C:\\Users\\super\\AppData\\Local\\Temp\\ipykernel_2712\\47135146.py:24: SettingWithCopyWarning: \n",
      "A value is trying to be set on a copy of a slice from a DataFrame\n",
      "\n",
      "See the caveats in the documentation: https://pandas.pydata.org/pandas-docs/stable/user_guide/indexing.html#returning-a-view-versus-a-copy\n",
      "  row[home_columns_string] = df_matchs_dataset_model_temp.loc[:,home_columns_string].values[0]\n",
      "C:\\Users\\super\\AppData\\Local\\Temp\\ipykernel_2712\\47135146.py:38: SettingWithCopyWarning: \n",
      "A value is trying to be set on a copy of a slice from a DataFrame\n",
      "\n",
      "See the caveats in the documentation: https://pandas.pydata.org/pandas-docs/stable/user_guide/indexing.html#returning-a-view-versus-a-copy\n",
      "  row[home_columns_numeric] = np.array(home_statistic)\n",
      "C:\\Users\\super\\AppData\\Local\\Temp\\ipykernel_2712\\47135146.py:38: SettingWithCopyWarning: \n",
      "A value is trying to be set on a copy of a slice from a DataFrame\n",
      "\n",
      "See the caveats in the documentation: https://pandas.pydata.org/pandas-docs/stable/user_guide/indexing.html#returning-a-view-versus-a-copy\n",
      "  row[home_columns_numeric] = np.array(home_statistic)\n"
     ]
    },
    {
     "data": {
      "text/plain": [
       "'Arsenal'"
      ]
     },
     "metadata": {},
     "output_type": "display_data"
    },
    {
     "name": "stderr",
     "output_type": "stream",
     "text": [
      "C:\\Users\\super\\AppData\\Local\\Temp\\ipykernel_2712\\47135146.py:56: SettingWithCopyWarning: \n",
      "A value is trying to be set on a copy of a slice from a DataFrame\n",
      "\n",
      "See the caveats in the documentation: https://pandas.pydata.org/pandas-docs/stable/user_guide/indexing.html#returning-a-view-versus-a-copy\n",
      "  row[away_columns_string] = df_matchs_dataset_model_temp.loc[:,away_columns_string].values[0]\n",
      "C:\\Users\\super\\AppData\\Local\\Temp\\ipykernel_2712\\47135146.py:56: SettingWithCopyWarning: \n",
      "A value is trying to be set on a copy of a slice from a DataFrame\n",
      "\n",
      "See the caveats in the documentation: https://pandas.pydata.org/pandas-docs/stable/user_guide/indexing.html#returning-a-view-versus-a-copy\n",
      "  row[away_columns_string] = df_matchs_dataset_model_temp.loc[:,away_columns_string].values[0]\n",
      "C:\\Users\\super\\AppData\\Local\\Temp\\ipykernel_2712\\47135146.py:67: SettingWithCopyWarning: \n",
      "A value is trying to be set on a copy of a slice from a DataFrame\n",
      "\n",
      "See the caveats in the documentation: https://pandas.pydata.org/pandas-docs/stable/user_guide/indexing.html#returning-a-view-versus-a-copy\n",
      "  row[away_columns_numeric] = np.array(away_statistic)\n",
      "C:\\Users\\super\\AppData\\Local\\Temp\\ipykernel_2712\\47135146.py:67: SettingWithCopyWarning: \n",
      "A value is trying to be set on a copy of a slice from a DataFrame\n",
      "\n",
      "See the caveats in the documentation: https://pandas.pydata.org/pandas-docs/stable/user_guide/indexing.html#returning-a-view-versus-a-copy\n",
      "  row[away_columns_numeric] = np.array(away_statistic)\n"
     ]
    },
    {
     "data": {
      "text/plain": [
       "Home_Team    Everton\n",
       "Away_Team    Chelsea\n",
       "Name: 5, dtype: object"
      ]
     },
     "metadata": {},
     "output_type": "display_data"
    },
    {
     "data": {
      "text/plain": [
       "'Everton'"
      ]
     },
     "metadata": {},
     "output_type": "display_data"
    },
    {
     "name": "stderr",
     "output_type": "stream",
     "text": [
      "C:\\Users\\super\\AppData\\Local\\Temp\\ipykernel_2712\\47135146.py:27: SettingWithCopyWarning: \n",
      "A value is trying to be set on a copy of a slice from a DataFrame\n",
      "\n",
      "See the caveats in the documentation: https://pandas.pydata.org/pandas-docs/stable/user_guide/indexing.html#returning-a-view-versus-a-copy\n",
      "  row[home_columns_string] = df_matchs_dataset_model_temp.loc[:,away_columns_string].values[0]\n",
      "C:\\Users\\super\\AppData\\Local\\Temp\\ipykernel_2712\\47135146.py:27: SettingWithCopyWarning: \n",
      "A value is trying to be set on a copy of a slice from a DataFrame\n",
      "\n",
      "See the caveats in the documentation: https://pandas.pydata.org/pandas-docs/stable/user_guide/indexing.html#returning-a-view-versus-a-copy\n",
      "  row[home_columns_string] = df_matchs_dataset_model_temp.loc[:,away_columns_string].values[0]\n",
      "C:\\Users\\super\\AppData\\Local\\Temp\\ipykernel_2712\\47135146.py:38: SettingWithCopyWarning: \n",
      "A value is trying to be set on a copy of a slice from a DataFrame\n",
      "\n",
      "See the caveats in the documentation: https://pandas.pydata.org/pandas-docs/stable/user_guide/indexing.html#returning-a-view-versus-a-copy\n",
      "  row[home_columns_numeric] = np.array(home_statistic)\n",
      "C:\\Users\\super\\AppData\\Local\\Temp\\ipykernel_2712\\47135146.py:38: SettingWithCopyWarning: \n",
      "A value is trying to be set on a copy of a slice from a DataFrame\n",
      "\n",
      "See the caveats in the documentation: https://pandas.pydata.org/pandas-docs/stable/user_guide/indexing.html#returning-a-view-versus-a-copy\n",
      "  row[home_columns_numeric] = np.array(home_statistic)\n"
     ]
    },
    {
     "data": {
      "text/plain": [
       "'Chelsea'"
      ]
     },
     "metadata": {},
     "output_type": "display_data"
    },
    {
     "name": "stderr",
     "output_type": "stream",
     "text": [
      "C:\\Users\\super\\AppData\\Local\\Temp\\ipykernel_2712\\47135146.py:53: SettingWithCopyWarning: \n",
      "A value is trying to be set on a copy of a slice from a DataFrame\n",
      "\n",
      "See the caveats in the documentation: https://pandas.pydata.org/pandas-docs/stable/user_guide/indexing.html#returning-a-view-versus-a-copy\n",
      "  row[away_columns_string] = df_matchs_dataset_model_temp.loc[:,home_columns_string].values[0]\n",
      "C:\\Users\\super\\AppData\\Local\\Temp\\ipykernel_2712\\47135146.py:53: SettingWithCopyWarning: \n",
      "A value is trying to be set on a copy of a slice from a DataFrame\n",
      "\n",
      "See the caveats in the documentation: https://pandas.pydata.org/pandas-docs/stable/user_guide/indexing.html#returning-a-view-versus-a-copy\n",
      "  row[away_columns_string] = df_matchs_dataset_model_temp.loc[:,home_columns_string].values[0]\n",
      "C:\\Users\\super\\AppData\\Local\\Temp\\ipykernel_2712\\47135146.py:67: SettingWithCopyWarning: \n",
      "A value is trying to be set on a copy of a slice from a DataFrame\n",
      "\n",
      "See the caveats in the documentation: https://pandas.pydata.org/pandas-docs/stable/user_guide/indexing.html#returning-a-view-versus-a-copy\n",
      "  row[away_columns_numeric] = np.array(away_statistic)\n",
      "C:\\Users\\super\\AppData\\Local\\Temp\\ipykernel_2712\\47135146.py:67: SettingWithCopyWarning: \n",
      "A value is trying to be set on a copy of a slice from a DataFrame\n",
      "\n",
      "See the caveats in the documentation: https://pandas.pydata.org/pandas-docs/stable/user_guide/indexing.html#returning-a-view-versus-a-copy\n",
      "  row[away_columns_numeric] = np.array(away_statistic)\n"
     ]
    },
    {
     "data": {
      "text/plain": [
       "Home_Team             Fulham\n",
       "Away_Team    West Ham United\n",
       "Name: 6, dtype: object"
      ]
     },
     "metadata": {},
     "output_type": "display_data"
    },
    {
     "data": {
      "text/plain": [
       "'Fulham'"
      ]
     },
     "metadata": {},
     "output_type": "display_data"
    },
    {
     "name": "stderr",
     "output_type": "stream",
     "text": [
      "C:\\Users\\super\\AppData\\Local\\Temp\\ipykernel_2712\\47135146.py:27: SettingWithCopyWarning: \n",
      "A value is trying to be set on a copy of a slice from a DataFrame\n",
      "\n",
      "See the caveats in the documentation: https://pandas.pydata.org/pandas-docs/stable/user_guide/indexing.html#returning-a-view-versus-a-copy\n",
      "  row[home_columns_string] = df_matchs_dataset_model_temp.loc[:,away_columns_string].values[0]\n",
      "C:\\Users\\super\\AppData\\Local\\Temp\\ipykernel_2712\\47135146.py:27: SettingWithCopyWarning: \n",
      "A value is trying to be set on a copy of a slice from a DataFrame\n",
      "\n",
      "See the caveats in the documentation: https://pandas.pydata.org/pandas-docs/stable/user_guide/indexing.html#returning-a-view-versus-a-copy\n",
      "  row[home_columns_string] = df_matchs_dataset_model_temp.loc[:,away_columns_string].values[0]\n",
      "C:\\Users\\super\\AppData\\Local\\Temp\\ipykernel_2712\\47135146.py:38: SettingWithCopyWarning: \n",
      "A value is trying to be set on a copy of a slice from a DataFrame\n",
      "\n",
      "See the caveats in the documentation: https://pandas.pydata.org/pandas-docs/stable/user_guide/indexing.html#returning-a-view-versus-a-copy\n",
      "  row[home_columns_numeric] = np.array(home_statistic)\n",
      "C:\\Users\\super\\AppData\\Local\\Temp\\ipykernel_2712\\47135146.py:38: SettingWithCopyWarning: \n",
      "A value is trying to be set on a copy of a slice from a DataFrame\n",
      "\n",
      "See the caveats in the documentation: https://pandas.pydata.org/pandas-docs/stable/user_guide/indexing.html#returning-a-view-versus-a-copy\n",
      "  row[home_columns_numeric] = np.array(home_statistic)\n"
     ]
    },
    {
     "data": {
      "text/plain": [
       "'West Ham United'"
      ]
     },
     "metadata": {},
     "output_type": "display_data"
    },
    {
     "name": "stderr",
     "output_type": "stream",
     "text": [
      "C:\\Users\\super\\AppData\\Local\\Temp\\ipykernel_2712\\47135146.py:56: SettingWithCopyWarning: \n",
      "A value is trying to be set on a copy of a slice from a DataFrame\n",
      "\n",
      "See the caveats in the documentation: https://pandas.pydata.org/pandas-docs/stable/user_guide/indexing.html#returning-a-view-versus-a-copy\n",
      "  row[away_columns_string] = df_matchs_dataset_model_temp.loc[:,away_columns_string].values[0]\n",
      "C:\\Users\\super\\AppData\\Local\\Temp\\ipykernel_2712\\47135146.py:56: SettingWithCopyWarning: \n",
      "A value is trying to be set on a copy of a slice from a DataFrame\n",
      "\n",
      "See the caveats in the documentation: https://pandas.pydata.org/pandas-docs/stable/user_guide/indexing.html#returning-a-view-versus-a-copy\n",
      "  row[away_columns_string] = df_matchs_dataset_model_temp.loc[:,away_columns_string].values[0]\n",
      "C:\\Users\\super\\AppData\\Local\\Temp\\ipykernel_2712\\47135146.py:67: SettingWithCopyWarning: \n",
      "A value is trying to be set on a copy of a slice from a DataFrame\n",
      "\n",
      "See the caveats in the documentation: https://pandas.pydata.org/pandas-docs/stable/user_guide/indexing.html#returning-a-view-versus-a-copy\n",
      "  row[away_columns_numeric] = np.array(away_statistic)\n",
      "C:\\Users\\super\\AppData\\Local\\Temp\\ipykernel_2712\\47135146.py:67: SettingWithCopyWarning: \n",
      "A value is trying to be set on a copy of a slice from a DataFrame\n",
      "\n",
      "See the caveats in the documentation: https://pandas.pydata.org/pandas-docs/stable/user_guide/indexing.html#returning-a-view-versus-a-copy\n",
      "  row[away_columns_numeric] = np.array(away_statistic)\n"
     ]
    },
    {
     "data": {
      "text/plain": [
       "Home_Team         Luton Town\n",
       "Away_Team    Manchester City\n",
       "Name: 7, dtype: object"
      ]
     },
     "metadata": {},
     "output_type": "display_data"
    },
    {
     "data": {
      "text/plain": [
       "'Luton Town'"
      ]
     },
     "metadata": {},
     "output_type": "display_data"
    },
    {
     "name": "stderr",
     "output_type": "stream",
     "text": [
      "C:\\Users\\super\\AppData\\Local\\Temp\\ipykernel_2712\\47135146.py:27: SettingWithCopyWarning: \n",
      "A value is trying to be set on a copy of a slice from a DataFrame\n",
      "\n",
      "See the caveats in the documentation: https://pandas.pydata.org/pandas-docs/stable/user_guide/indexing.html#returning-a-view-versus-a-copy\n",
      "  row[home_columns_string] = df_matchs_dataset_model_temp.loc[:,away_columns_string].values[0]\n",
      "C:\\Users\\super\\AppData\\Local\\Temp\\ipykernel_2712\\47135146.py:27: SettingWithCopyWarning: \n",
      "A value is trying to be set on a copy of a slice from a DataFrame\n",
      "\n",
      "See the caveats in the documentation: https://pandas.pydata.org/pandas-docs/stable/user_guide/indexing.html#returning-a-view-versus-a-copy\n",
      "  row[home_columns_string] = df_matchs_dataset_model_temp.loc[:,away_columns_string].values[0]\n",
      "C:\\Users\\super\\AppData\\Local\\Temp\\ipykernel_2712\\47135146.py:38: SettingWithCopyWarning: \n",
      "A value is trying to be set on a copy of a slice from a DataFrame\n",
      "\n",
      "See the caveats in the documentation: https://pandas.pydata.org/pandas-docs/stable/user_guide/indexing.html#returning-a-view-versus-a-copy\n",
      "  row[home_columns_numeric] = np.array(home_statistic)\n",
      "C:\\Users\\super\\AppData\\Local\\Temp\\ipykernel_2712\\47135146.py:38: SettingWithCopyWarning: \n",
      "A value is trying to be set on a copy of a slice from a DataFrame\n",
      "\n",
      "See the caveats in the documentation: https://pandas.pydata.org/pandas-docs/stable/user_guide/indexing.html#returning-a-view-versus-a-copy\n",
      "  row[home_columns_numeric] = np.array(home_statistic)\n"
     ]
    },
    {
     "data": {
      "text/plain": [
       "'Manchester City'"
      ]
     },
     "metadata": {},
     "output_type": "display_data"
    },
    {
     "name": "stderr",
     "output_type": "stream",
     "text": [
      "C:\\Users\\super\\AppData\\Local\\Temp\\ipykernel_2712\\47135146.py:53: SettingWithCopyWarning: \n",
      "A value is trying to be set on a copy of a slice from a DataFrame\n",
      "\n",
      "See the caveats in the documentation: https://pandas.pydata.org/pandas-docs/stable/user_guide/indexing.html#returning-a-view-versus-a-copy\n",
      "  row[away_columns_string] = df_matchs_dataset_model_temp.loc[:,home_columns_string].values[0]\n",
      "C:\\Users\\super\\AppData\\Local\\Temp\\ipykernel_2712\\47135146.py:53: SettingWithCopyWarning: \n",
      "A value is trying to be set on a copy of a slice from a DataFrame\n",
      "\n",
      "See the caveats in the documentation: https://pandas.pydata.org/pandas-docs/stable/user_guide/indexing.html#returning-a-view-versus-a-copy\n",
      "  row[away_columns_string] = df_matchs_dataset_model_temp.loc[:,home_columns_string].values[0]\n",
      "C:\\Users\\super\\AppData\\Local\\Temp\\ipykernel_2712\\47135146.py:67: SettingWithCopyWarning: \n",
      "A value is trying to be set on a copy of a slice from a DataFrame\n",
      "\n",
      "See the caveats in the documentation: https://pandas.pydata.org/pandas-docs/stable/user_guide/indexing.html#returning-a-view-versus-a-copy\n",
      "  row[away_columns_numeric] = np.array(away_statistic)\n",
      "C:\\Users\\super\\AppData\\Local\\Temp\\ipykernel_2712\\47135146.py:67: SettingWithCopyWarning: \n",
      "A value is trying to be set on a copy of a slice from a DataFrame\n",
      "\n",
      "See the caveats in the documentation: https://pandas.pydata.org/pandas-docs/stable/user_guide/indexing.html#returning-a-view-versus-a-copy\n",
      "  row[away_columns_numeric] = np.array(away_statistic)\n"
     ]
    },
    {
     "data": {
      "text/plain": [
       "Home_Team    Tottenham Hotspur\n",
       "Away_Team     Newcastle United\n",
       "Name: 8, dtype: object"
      ]
     },
     "metadata": {},
     "output_type": "display_data"
    },
    {
     "data": {
      "text/plain": [
       "'Tottenham Hotspur'"
      ]
     },
     "metadata": {},
     "output_type": "display_data"
    },
    {
     "name": "stderr",
     "output_type": "stream",
     "text": [
      "C:\\Users\\super\\AppData\\Local\\Temp\\ipykernel_2712\\47135146.py:24: SettingWithCopyWarning: \n",
      "A value is trying to be set on a copy of a slice from a DataFrame\n",
      "\n",
      "See the caveats in the documentation: https://pandas.pydata.org/pandas-docs/stable/user_guide/indexing.html#returning-a-view-versus-a-copy\n",
      "  row[home_columns_string] = df_matchs_dataset_model_temp.loc[:,home_columns_string].values[0]\n",
      "C:\\Users\\super\\AppData\\Local\\Temp\\ipykernel_2712\\47135146.py:24: SettingWithCopyWarning: \n",
      "A value is trying to be set on a copy of a slice from a DataFrame\n",
      "\n",
      "See the caveats in the documentation: https://pandas.pydata.org/pandas-docs/stable/user_guide/indexing.html#returning-a-view-versus-a-copy\n",
      "  row[home_columns_string] = df_matchs_dataset_model_temp.loc[:,home_columns_string].values[0]\n",
      "C:\\Users\\super\\AppData\\Local\\Temp\\ipykernel_2712\\47135146.py:38: SettingWithCopyWarning: \n",
      "A value is trying to be set on a copy of a slice from a DataFrame\n",
      "\n",
      "See the caveats in the documentation: https://pandas.pydata.org/pandas-docs/stable/user_guide/indexing.html#returning-a-view-versus-a-copy\n",
      "  row[home_columns_numeric] = np.array(home_statistic)\n",
      "C:\\Users\\super\\AppData\\Local\\Temp\\ipykernel_2712\\47135146.py:38: SettingWithCopyWarning: \n",
      "A value is trying to be set on a copy of a slice from a DataFrame\n",
      "\n",
      "See the caveats in the documentation: https://pandas.pydata.org/pandas-docs/stable/user_guide/indexing.html#returning-a-view-versus-a-copy\n",
      "  row[home_columns_numeric] = np.array(home_statistic)\n"
     ]
    },
    {
     "data": {
      "text/plain": [
       "'Newcastle United'"
      ]
     },
     "metadata": {},
     "output_type": "display_data"
    },
    {
     "name": "stderr",
     "output_type": "stream",
     "text": [
      "C:\\Users\\super\\AppData\\Local\\Temp\\ipykernel_2712\\47135146.py:53: SettingWithCopyWarning: \n",
      "A value is trying to be set on a copy of a slice from a DataFrame\n",
      "\n",
      "See the caveats in the documentation: https://pandas.pydata.org/pandas-docs/stable/user_guide/indexing.html#returning-a-view-versus-a-copy\n",
      "  row[away_columns_string] = df_matchs_dataset_model_temp.loc[:,home_columns_string].values[0]\n",
      "C:\\Users\\super\\AppData\\Local\\Temp\\ipykernel_2712\\47135146.py:53: SettingWithCopyWarning: \n",
      "A value is trying to be set on a copy of a slice from a DataFrame\n",
      "\n",
      "See the caveats in the documentation: https://pandas.pydata.org/pandas-docs/stable/user_guide/indexing.html#returning-a-view-versus-a-copy\n",
      "  row[away_columns_string] = df_matchs_dataset_model_temp.loc[:,home_columns_string].values[0]\n",
      "C:\\Users\\super\\AppData\\Local\\Temp\\ipykernel_2712\\47135146.py:67: SettingWithCopyWarning: \n",
      "A value is trying to be set on a copy of a slice from a DataFrame\n",
      "\n",
      "See the caveats in the documentation: https://pandas.pydata.org/pandas-docs/stable/user_guide/indexing.html#returning-a-view-versus-a-copy\n",
      "  row[away_columns_numeric] = np.array(away_statistic)\n",
      "C:\\Users\\super\\AppData\\Local\\Temp\\ipykernel_2712\\47135146.py:67: SettingWithCopyWarning: \n",
      "A value is trying to be set on a copy of a slice from a DataFrame\n",
      "\n",
      "See the caveats in the documentation: https://pandas.pydata.org/pandas-docs/stable/user_guide/indexing.html#returning-a-view-versus-a-copy\n",
      "  row[away_columns_numeric] = np.array(away_statistic)\n"
     ]
    }
   ],
   "source": [
    "# Hàm này sẽ nhận 1 trận đấu mới, trận đấu đó có Home_Team và Away_Team. Hàm sẽ dựa vào 2 trận gần nhất mà 2 đội thi đấu và tính trung bình chỉ số đối với biến Numeric, còn biến Category sẽ lấy giá trị của các trận trước.\n",
    "def get_infor_from_two_previous_matchs_for_two_teams(df_matchs_dataset_model,row):\n",
    "    ############# Home Team##################\n",
    "    home_columns_string = ['Home_Manager', 'Home_Captain','Home_Formation']\n",
    "    home_columns_numeric = ['Home_Possession', 'Home_Fouls', 'Home_Corners', 'Home_Crosses', 'Home_Aerials_Won', 'Home_Clearances', 'Home_Offsides', 'Home_Goal_Kicks', 'Home_Throw_Ins', 'Home_Long_Balls', 'Home_Total_Players_Stats', 'Home_Minutes', 'Home_Gls', 'Home_Ast', 'Home_PK', 'Home_PK_Att', 'Home_Sh', 'Home_SoT', 'Home_CrdY', 'Home_CrdR', 'Home_Touches', 'Home_Tkl', 'Home_Int', 'Home_Blocks', 'Home_xG', 'Home_npxG', 'Home_xAG', 'Home_SCA', 'Home_GCA', 'Home_Cmp_Passes', 'Home_Att_Passes', 'Home_Cmp_percent_Passes', 'Home_PrgP_Passes', 'Home_Carries_Carries', 'Home_PrgC_Carries', 'Home_Att_Take_Ons', 'Home_Succ_Take_Ons','Home_Attack','Home_Midfield','Home_Defense','Home_Score']\n",
    "    away_columns_string = ['Away_Manager', 'Away_Captain','Away_Formation']\n",
    "    away_columns_numeric =  ['Away_Possession', 'Away_Fouls', 'Away_Corners', 'Away_Crosses', 'Away_Aerials_Won', 'Away_Clearances', 'Away_Offsides', 'Away_Goal_Kicks', 'Away_Throw_Ins', 'Away_Long_Balls', 'Away_Total_Players_Stats', 'Away_Minutes', 'Away_Gls', 'Away_Ast', 'Away_PK', 'Away_PK_Att', 'Away_Sh', 'Away_SoT', 'Away_CrdY', 'Away_CrdR', 'Away_Touches', 'Away_Tkl', 'Away_Int', 'Away_Blocks', 'Away_xG', 'Away_npxG', 'Away_xAG', 'Away_SCA', 'Away_GCA', 'Away_Cmp_Passes', 'Away_Att_Passes', 'Away_Cmp_percent_Passes', 'Away_PrgP_Passes', 'Away_Carries_Carries', 'Away_PrgC_Carries', 'Away_Att_Take_Ons', 'Away_Succ_Take_Ons','Away_Attack','Away_Midfield','Away_Defense','Away_Score']\n",
    "    # Lấy giá trị từ Row\n",
    "    home_team_name = row[\"Home_Team\"]\n",
    "    match_date = row[\"Match_Date\"]\n",
    "    # Tạo 1 dataset temp để không ảnh hưởng tới DF\n",
    "    df_matchs_dataset_model_temp = pd.DataFrame(df_matchs_dataset_model)\n",
    "    # Tiếp tục ép kiểu về DateTime để thuận tiện so sánh thời gian khi lấy 2 trận gần nhất\n",
    "    df_matchs_dataset_model_temp['Match_Date'] = pd.to_datetime(df_matchs_dataset_model_temp['Match_Date'],format='%Y-%m-%d')\n",
    "    match_date = datetime.strptime(match_date, '%Y-%m-%d')\n",
    "    # Lấy 2 trận đội Home_Team thi đấu gần nhất với mục đích tính trung bình và gán vào df_matchs_dataset_model_temp\n",
    "    df_matchs_dataset_model_temp = df_matchs_dataset_model_temp[(df_matchs_dataset_model_temp['Home_Team'].str.contains( home_team_name)) | (df_matchs_dataset_model_temp['Away_Team'].str.contains(home_team_name))]\n",
    "    df_matchs_dataset_model_temp = df_matchs_dataset_model_temp[df_matchs_dataset_model_temp['Match_Date'] < match_date][0:2]\n",
    "    #Tiếp theo sẽ lấy các biến phân loại(HLV, Captain,...) dựa vào trận gần nhất\n",
    "    # Nếu Home_Team là Home_Team ở trận trước\n",
    "    if home_team_name in df_matchs_dataset_model_temp.iloc[0][\"Home_Team\"]:\n",
    "        row[home_columns_string] = df_matchs_dataset_model_temp.loc[:,home_columns_string].values[0]\n",
    "    # Nếu Home_Team là Away_Team ở trận trước\n",
    "    elif home_team_name in df_matchs_dataset_model_temp.iloc[0][\"Away_Team\"]:\n",
    "        row[home_columns_string] = df_matchs_dataset_model_temp.loc[:,away_columns_string].values[0]\n",
    "    # Tạo statistic array để chứa thông tin của mỗi trận để phục vụ mục đích tính trung bình\n",
    "    statistic_arr = []\n",
    "    for i in range(len(df_matchs_dataset_model_temp)):\n",
    "        if df_matchs_dataset_model_temp.iloc[i][\"Home_Team\"] == home_team_name:\n",
    "            statistic_arr.append(df_matchs_dataset_model_temp[home_columns_numeric].iloc[i].tolist())\n",
    "        else:\n",
    "            statistic_arr.append(df_matchs_dataset_model_temp[away_columns_numeric].iloc[i].tolist())\n",
    "    # Tính trung bình cho Home_Team\n",
    "    home_statistic = [(x+y/2) for x,y in zip(statistic_arr[0],statistic_arr[1])]\n",
    "    # Gán kết quả vào parameter row\n",
    "    row[home_columns_numeric] = np.array(home_statistic)\n",
    "\n",
    "    #################Away_Team########################\n",
    "    away_team_name = row[\"Away_Team\"]\n",
    "    # Tạo 1 dataset temp để không ảnh hưởng tới DF\n",
    "    df_matchs_dataset_model_temp = pd.DataFrame(df_matchs_dataset_model)\n",
    "    # Tiếp tục ép kiểu về DateTime để thuận tiện so sánh thời gian khi lấy 2 trận gần nhất\n",
    "    df_matchs_dataset_model_temp['Match_Date'] = pd.to_datetime(df_matchs_dataset_model_temp['Match_Date'],format='%Y-%m-%d')\n",
    "    # Lấy 2 trận đội Home_Team thi đấu gần nhất với mục đích tính trung bình và gán vào df_matchs_dataset_model_temp\n",
    "    df_matchs_dataset_model_temp = df_matchs_dataset_model_temp[(df_matchs_dataset_model_temp['Home_Team'].str.contains( away_team_name)) | (df_matchs_dataset_model_temp['Away_Team'].str.contains(away_team_name))]\n",
    "    df_matchs_dataset_model_temp = df_matchs_dataset_model_temp[df_matchs_dataset_model_temp['Match_Date'] < match_date][0:2]\n",
    "    #Tiếp theo sẽ lấy các biến phân loại(HLV, Captain,...) dựa vào trận gần nhất\n",
    "    # Nếu Away_Team là Home_Team ở trận trước\n",
    "    if away_team_name in df_matchs_dataset_model_temp.iloc[0][\"Home_Team\"]:\n",
    "        row[away_columns_string] = df_matchs_dataset_model_temp.loc[:,home_columns_string].values[0]\n",
    "    # Nếu Away_Team là Away_Team ở trận trước\n",
    "    elif away_team_name in df_matchs_dataset_model_temp.iloc[0][\"Away_Team\"]:\n",
    "        row[away_columns_string] = df_matchs_dataset_model_temp.loc[:,away_columns_string].values[0]\n",
    "    # Tạo statistic array để chứa thông tin của mỗi trận để phục vụ mục đích tính trung bình\n",
    "    statistic_arr = []\n",
    "    for i in range(len(df_matchs_dataset_model_temp)):\n",
    "        if df_matchs_dataset_model_temp.iloc[i][\"Home_Team\"] == away_team_name:\n",
    "            statistic_arr.append(df_matchs_dataset_model_temp[home_columns_numeric].iloc[i].tolist())\n",
    "        else:\n",
    "            statistic_arr.append(df_matchs_dataset_model_temp[away_columns_numeric].iloc[i].tolist())\n",
    "    # Tính trung bình cho Away_Team\n",
    "    away_statistic = [(x+y/2) for x,y in zip(statistic_arr[0],statistic_arr[1])]\n",
    "    # Gán kết quả vào parameter row\n",
    "    row[away_columns_numeric] = np.array(away_statistic)\n",
    "    return row\n",
    "\n",
    "for i in range(len(df_new_match_dataset_model)):\n",
    "    df_new_match_dataset_model.iloc[i] = get_infor_from_two_previous_matchs_for_two_teams(df_matchs_dataset_model,df_new_match_dataset_model.iloc[i])\n",
    "\n"
   ]
  },
  {
   "cell_type": "code",
   "execution_count": 285,
   "metadata": {},
   "outputs": [],
   "source": [
    "df_new_match_dataset_model.to_csv('new_match_dataset_model.csv',index=False)"
   ]
  },
  {
   "cell_type": "code",
   "execution_count": null,
   "metadata": {},
   "outputs": [],
   "source": []
  }
 ],
 "metadata": {
  "kernelspec": {
   "display_name": "Python 3",
   "language": "python",
   "name": "python3"
  },
  "language_info": {
   "codemirror_mode": {
    "name": "ipython",
    "version": 3
   },
   "file_extension": ".py",
   "mimetype": "text/x-python",
   "name": "python",
   "nbconvert_exporter": "python",
   "pygments_lexer": "ipython3",
   "version": "3.11.5"
  }
 },
 "nbformat": 4,
 "nbformat_minor": 2
}
