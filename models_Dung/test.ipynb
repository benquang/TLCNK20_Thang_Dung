{
 "cells": [
  {
   "cell_type": "code",
   "execution_count": 2,
   "metadata": {},
   "outputs": [
    {
     "name": "stdout",
     "output_type": "stream",
     "text": [
      "+----+---+\n",
      "|name|loc|\n",
      "+----+---+\n",
      "| ram|chi|\n",
      "|anil|ind|\n",
      "+----+---+\n",
      "\n"
     ]
    }
   ],
   "source": [
    "from pyspark.sql import SparkSession\n",
    " \n",
    "from pyspark.sql.functions import current_date,year\n",
    " \n",
    "from pyspark.sql.types import IntegerType,StructType,StructField,StringType\n",
    " \n",
    "from datetime import datetime, date\n",
    " \n",
    "from pyspark import SparkContext\n",
    " \n",
    "sc=SparkContext.getOrCreate()\n",
    " \n",
    "rdd=sc.parallelize([('ram','chi'),\n",
    " \n",
    "             ('anil','ind')])\n",
    "spark = SparkSession.builder.getOrCreate()\n",
    " \n",
    "df=spark.createDataFrame(rdd,schema=StructType([StructField(\"name\",StringType(),True),StructField(\"loc\",StringType(),True)]))\n",
    "\n",
    "\n",
    " \n",
    " \n",
    "#Trying to see the data but face below error:\n",
    " \n",
    "df.show()"
   ]
  },
  {
   "cell_type": "code",
   "execution_count": null,
   "metadata": {},
   "outputs": [],
   "source": []
  }
 ],
 "metadata": {
  "kernelspec": {
   "display_name": "Python 3",
   "language": "python",
   "name": "python3"
  },
  "language_info": {
   "codemirror_mode": {
    "name": "ipython",
    "version": 3
   },
   "file_extension": ".py",
   "mimetype": "text/x-python",
   "name": "python",
   "nbconvert_exporter": "python",
   "pygments_lexer": "ipython3",
   "version": "3.11.5"
  }
 },
 "nbformat": 4,
 "nbformat_minor": 2
}
