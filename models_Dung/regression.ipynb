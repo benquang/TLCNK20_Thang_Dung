{
 "cells": [
  {
   "cell_type": "code",
   "execution_count": 13,
   "metadata": {},
   "outputs": [],
   "source": [
    "from pyspark.ml.classification import LogisticRegression\n",
    "import findspark\n",
    "import pyspark\n",
    "\n",
    "from pyspark.sql import SparkSession\n",
    "from pyspark.sql.functions import count"
   ]
  },
  {
   "cell_type": "code",
   "execution_count": 14,
   "metadata": {},
   "outputs": [],
   "source": [
    "spark = (SparkSession\n",
    "         .builder\n",
    "         .appName(\"Logistic Regression\")\n",
    "         .getOrCreate())"
   ]
  },
  {
   "cell_type": "code",
   "execution_count": 15,
   "metadata": {},
   "outputs": [
    {
     "name": "stdout",
     "output_type": "stream",
     "text": [
      "+----------+-----------------+-------+--------+------------+--------+--------+-----------+------------------+------------------+------------+------------+---------------+---------------+-----------------------+----------------+--------------------+-----------------+-----------------+------------------+--------------------+-------+--------+------------+--------+--------+-----------+------------------+------------------+------------+------------+---------------+---------------+-----------------------+----------------+--------------------+-----------------+-----------------+------------------+----------+----------+\n",
      "|Match_Date|        Home_Team|Home_Sh|Home_SoT|Home_Touches|Home_Tkl|Home_Int|Home_Blocks|  Home_xG_Expected|Home_npxG_Expected|Home_SCA_SCA|Home_GCA_SCA|Home_Cmp_Passes|Home_Att_Passes|Home_Cmp_percent_Passes|Home_PrgP_Passes|Home_Carries_Carries|Home_PrgC_Carries|Home_Att_Take_Ons|Home_Succ_Take_Ons|           Away_Team|Away_Sh|Away_SoT|Away_Touches|Away_Tkl|Away_Int|Away_Blocks|  Away_xG_Expected|Away_npxG_Expected|Away_SCA_SCA|Away_GCA_SCA|Away_Cmp_Passes|Away_Att_Passes|Away_Cmp_percent_Passes|Away_PrgP_Passes|Away_Carries_Carries|Away_PrgC_Carries|Away_Att_Take_Ons|Away_Succ_Take_Ons|Home_Score|Away_Score|\n",
      "+----------+-----------------+-------+--------+------------+--------+--------+-----------+------------------+------------------+------------+------------+---------------+---------------+-----------------------+----------------+--------------------+-----------------+-----------------+------------------+--------------------+-------+--------+------------+--------+--------+-----------+------------------+------------------+------------+------------+---------------+---------------+-----------------------+----------------+--------------------+-----------------+-----------------+------------------+----------+----------+\n",
      "|2023-05-28|          Chelsea|   13.5|     5.5|       636.5|    19.0|     6.0|       17.5|1.5499999999999998|1.5499999999999998|        24.5|         1.0|          463.0|          526.0|      87.55000000000001|            43.5|               371.5|             25.0|             26.5|              14.5|    Newcastle United|   15.0|     2.0|       801.0|     8.0|     4.0|        5.0|               1.2|               1.2|        26.0|         2.0|          661.0|          733.0|                   90.2|            36.0|               543.0|             28.0|             18.0|               7.0|         1|         1|\n",
      "|2023-05-28|        Brentford|   17.5|     6.5|       590.0|    15.5|     4.5|       18.5|              2.55|              2.55|        29.5|         5.0|          375.0|          478.0|                   78.2|            34.5|               324.0|             17.0|             14.5|               9.0|     Manchester City|   14.0|     6.5|       632.5|    15.5|     6.5|       11.0|               2.0|               2.0|        23.5|         2.0|          409.5|          524.5|                  77.95|            31.0|               298.0|             14.5|             17.5|               9.0|         1|         0|\n",
      "|2023-05-28|   Crystal Palace|   14.0|     5.0|       636.0|    17.0|     9.0|       12.5|               1.6|               1.6|        25.5|         3.5|          427.5|          530.0|                   79.9|            39.0|               375.5|             19.0|             24.0|              12.0|   Nottingham Forest|   11.0|     2.5|       654.0|    21.0|    10.0|       14.5|0.9500000000000001|0.9500000000000001|        20.5|         2.0|          447.5|          544.0|                   82.0|            33.0|               379.5|             14.0|             20.0|               9.5|         1|         1|\n",
      "|2023-05-28|Manchester United|   18.5|     6.5|       689.5|    22.5|     4.5|       12.0|               3.3|              2.95|        31.5|         3.5|          488.0|          580.5|                   84.0|            46.0|               393.5|             27.0|             24.5|              14.5|              Fulham|   15.0|     4.5|       708.0|    19.0|    11.5|       13.0|               1.2|               1.2|        25.5|         0.0|          497.0|          592.0|                   83.9|            46.0|               429.0|             21.0|             24.0|              11.5|         2|         1|\n",
      "|2023-05-28|          Arsenal|   12.5|     2.5|       667.5|    14.0|     6.5|        8.5|              0.75|              0.75|        19.0|         0.0|          478.5|          575.5|                  81.25|            50.0|               426.0|             22.0|             16.0|               6.5|Wolverhampton Wan...|   13.0|     4.0|       570.5|    17.5|     7.5|       12.0|               1.3|               1.3|        21.0|         1.5|          375.5|          473.5|                  78.75|            22.5|               332.0|             15.0|             22.0|              10.5|         5|         0|\n",
      "+----------+-----------------+-------+--------+------------+--------+--------+-----------+------------------+------------------+------------+------------+---------------+---------------+-----------------------+----------------+--------------------+-----------------+-----------------+------------------+--------------------+-------+--------+------------+--------+--------+-----------+------------------+------------------+------------+------------+---------------+---------------+-----------------------+----------------+--------------------+-----------------+-----------------+------------------+----------+----------+\n",
      "only showing top 5 rows\n",
      "\n"
     ]
    }
   ],
   "source": [
    "df = (spark.read\n",
    "            .option(\"HEADER\", True)\n",
    "            .option(\"inferSchema\", True)\n",
    "            .csv(\"./data/pl_matches_modified.csv\")\n",
    "           )\n",
    "\n",
    "df.show(5)\n",
    "\n",
    "# df['home_captain'] = df['home_captain'].astype(str)"
   ]
  },
  {
   "cell_type": "markdown",
   "metadata": {},
   "source": [
    "# Onehot Encoder"
   ]
  },
  {
   "cell_type": "markdown",
   "metadata": {},
   "source": [
    "https://stackoverflow.com/questions/56585434/pyspark-pipeline-error-when-using-indexer-and-encoder"
   ]
  },
  {
   "cell_type": "code",
   "execution_count": 16,
   "metadata": {},
   "outputs": [],
   "source": [
    "from pyspark.ml.feature import OneHotEncoder,StringIndexer,VectorAssembler"
   ]
  },
  {
   "cell_type": "code",
   "execution_count": 17,
   "metadata": {},
   "outputs": [],
   "source": [
    "# unusedCols = ['home_fbrefMatchId ','away_fbrefMatchId']\n",
    "# outputCols = ['home_score','away_score']\n",
    "# inputCols = [column for column in df.columns if column not in outputCols and column not in unusedCols]\n",
    "# encodeCols = ['home_captain','away_captain','home_manager','away_manager','home_team','away_team','away_is_home_team']\n",
    "\n",
    "unusedCols = ['Match_Date']\n",
    "outputCols = ['Home_Score','Away_Score']\n",
    "inputCols = [column for column in df.columns if column not in outputCols and column not in unusedCols]\n",
    "encodeCols = ['Away_Team','Home_Team']\n",
    "\n",
    "\n"
   ]
  },
  {
   "cell_type": "code",
   "execution_count": 18,
   "metadata": {},
   "outputs": [
    {
     "name": "stdout",
     "output_type": "stream",
     "text": [
      "+----------+-----------------+-------+--------+------------+--------+--------+-----------+------------------+------------------+------------+------------+---------------+---------------+-----------------------+----------------+--------------------+-----------------+-----------------+------------------+--------------------+-------+--------+------------+--------+--------+-----------+------------------+------------------+------------+------------+---------------+---------------+-----------------------+----------------+--------------------+-----------------+-----------------+------------------+----------+----------+---------------+---------------+\n",
      "|Match_Date|        Home_Team|Home_Sh|Home_SoT|Home_Touches|Home_Tkl|Home_Int|Home_Blocks|  Home_xG_Expected|Home_npxG_Expected|Home_SCA_SCA|Home_GCA_SCA|Home_Cmp_Passes|Home_Att_Passes|Home_Cmp_percent_Passes|Home_PrgP_Passes|Home_Carries_Carries|Home_PrgC_Carries|Home_Att_Take_Ons|Home_Succ_Take_Ons|           Away_Team|Away_Sh|Away_SoT|Away_Touches|Away_Tkl|Away_Int|Away_Blocks|  Away_xG_Expected|Away_npxG_Expected|Away_SCA_SCA|Away_GCA_SCA|Away_Cmp_Passes|Away_Att_Passes|Away_Cmp_percent_Passes|Away_PrgP_Passes|Away_Carries_Carries|Away_PrgC_Carries|Away_Att_Take_Ons|Away_Succ_Take_Ons|Home_Score|Away_Score|Away_Team_Index|Home_Team_Index|\n",
      "+----------+-----------------+-------+--------+------------+--------+--------+-----------+------------------+------------------+------------+------------+---------------+---------------+-----------------------+----------------+--------------------+-----------------+-----------------+------------------+--------------------+-------+--------+------------+--------+--------+-----------+------------------+------------------+------------+------------+---------------+---------------+-----------------------+----------------+--------------------+-----------------+-----------------+------------------+----------+----------+---------------+---------------+\n",
      "|2023-05-28|          Chelsea|   13.5|     5.5|       636.5|    19.0|     6.0|       17.5|1.5499999999999998|1.5499999999999998|        24.5|         1.0|          463.0|          526.0|      87.55000000000001|            43.5|               371.5|             25.0|             26.5|              14.5|    Newcastle United|   15.0|     2.0|       801.0|     8.0|     4.0|        5.0|               1.2|               1.2|        26.0|         2.0|          661.0|          733.0|                   90.2|            36.0|               543.0|             28.0|             18.0|               7.0|         1|         1|            9.0|            2.0|\n",
      "|2023-05-28|        Brentford|   17.5|     6.5|       590.0|    15.5|     4.5|       18.5|              2.55|              2.55|        29.5|         5.0|          375.0|          478.0|                   78.2|            34.5|               324.0|             17.0|             14.5|               9.0|     Manchester City|   14.0|     6.5|       632.5|    15.5|     6.5|       11.0|               2.0|               2.0|        23.5|         2.0|          409.5|          524.5|                  77.95|            31.0|               298.0|             14.5|             17.5|               9.0|         1|         0|            7.0|           20.0|\n",
      "|2023-05-28|   Crystal Palace|   14.0|     5.0|       636.0|    17.0|     9.0|       12.5|               1.6|               1.6|        25.5|         3.5|          427.5|          530.0|                   79.9|            39.0|               375.5|             19.0|             24.0|              12.0|   Nottingham Forest|   11.0|     2.5|       654.0|    21.0|    10.0|       14.5|0.9500000000000001|0.9500000000000001|        20.5|         2.0|          447.5|          544.0|                   82.0|            33.0|               379.5|             14.0|             20.0|               9.5|         1|         1|           25.0|            3.0|\n",
      "|2023-05-28|Manchester United|   18.5|     6.5|       689.5|    22.5|     4.5|       12.0|               3.3|              2.95|        31.5|         3.5|          488.0|          580.5|                   84.0|            46.0|               393.5|             27.0|             24.5|              14.5|              Fulham|   15.0|     4.5|       708.0|    19.0|    11.5|       13.0|               1.2|               1.2|        25.5|         0.0|          497.0|          592.0|                   83.9|            46.0|               429.0|             21.0|             24.0|              11.5|         2|         1|           17.0|            8.0|\n",
      "|2023-05-28|          Arsenal|   12.5|     2.5|       667.5|    14.0|     6.5|        8.5|              0.75|              0.75|        19.0|         0.0|          478.5|          575.5|                  81.25|            50.0|               426.0|             22.0|             16.0|               6.5|Wolverhampton Wan...|   13.0|     4.0|       570.5|    17.5|     7.5|       12.0|               1.3|               1.3|        21.0|         1.5|          375.5|          473.5|                  78.75|            22.5|               332.0|             15.0|             22.0|              10.5|         5|         0|           13.0|            0.0|\n",
      "+----------+-----------------+-------+--------+------------+--------+--------+-----------+------------------+------------------+------------+------------+---------------+---------------+-----------------------+----------------+--------------------+-----------------+-----------------+------------------+--------------------+-------+--------+------------+--------+--------+-----------+------------------+------------------+------------+------------+---------------+---------------+-----------------------+----------------+--------------------+-----------------+-----------------+------------------+----------+----------+---------------+---------------+\n",
      "only showing top 5 rows\n",
      "\n"
     ]
    }
   ],
   "source": [
    "indexer = StringIndexer(inputCols=encodeCols,outputCols = [encodeCol+\"_Index\" for encodeCol in encodeCols])\n",
    "indexerModel = indexer.fit(df)\n",
    "indexer_df = indexerModel.transform(df)\n",
    "indexer_df.show(5)"
   ]
  },
  {
   "cell_type": "code",
   "execution_count": 19,
   "metadata": {},
   "outputs": [
    {
     "name": "stdout",
     "output_type": "stream",
     "text": [
      "+----------+-----------------+-------+--------+------------+--------+--------+-----------+------------------+------------------+------------+------------+---------------+---------------+-----------------------+----------------+--------------------+-----------------+-----------------+------------------+--------------------+-------+--------+------------+--------+--------+-----------+------------------+------------------+------------+------------+---------------+---------------+-----------------------+----------------+--------------------+-----------------+-----------------+------------------+----------+----------+---------------+---------------+----------------+----------------+\n",
      "|Match_Date|        Home_Team|Home_Sh|Home_SoT|Home_Touches|Home_Tkl|Home_Int|Home_Blocks|  Home_xG_Expected|Home_npxG_Expected|Home_SCA_SCA|Home_GCA_SCA|Home_Cmp_Passes|Home_Att_Passes|Home_Cmp_percent_Passes|Home_PrgP_Passes|Home_Carries_Carries|Home_PrgC_Carries|Home_Att_Take_Ons|Home_Succ_Take_Ons|           Away_Team|Away_Sh|Away_SoT|Away_Touches|Away_Tkl|Away_Int|Away_Blocks|  Away_xG_Expected|Away_npxG_Expected|Away_SCA_SCA|Away_GCA_SCA|Away_Cmp_Passes|Away_Att_Passes|Away_Cmp_percent_Passes|Away_PrgP_Passes|Away_Carries_Carries|Away_PrgC_Carries|Away_Att_Take_Ons|Away_Succ_Take_Ons|Home_Score|Away_Score|Away_Team_Index|Home_Team_Index|Away_Team_Onehot|Home_Team_Onehot|\n",
      "+----------+-----------------+-------+--------+------------+--------+--------+-----------+------------------+------------------+------------+------------+---------------+---------------+-----------------------+----------------+--------------------+-----------------+-----------------+------------------+--------------------+-------+--------+------------+--------+--------+-----------+------------------+------------------+------------+------------+---------------+---------------+-----------------------+----------------+--------------------+-----------------+-----------------+------------------+----------+----------+---------------+---------------+----------------+----------------+\n",
      "|2023-05-28|          Chelsea|   13.5|     5.5|       636.5|    19.0|     6.0|       17.5|1.5499999999999998|1.5499999999999998|        24.5|         1.0|          463.0|          526.0|      87.55000000000001|            43.5|               371.5|             25.0|             26.5|              14.5|    Newcastle United|   15.0|     2.0|       801.0|     8.0|     4.0|        5.0|               1.2|               1.2|        26.0|         2.0|          661.0|          733.0|                   90.2|            36.0|               543.0|             28.0|             18.0|               7.0|         1|         1|            9.0|            2.0|  (26,[9],[1.0])|  (26,[2],[1.0])|\n",
      "|2023-05-28|        Brentford|   17.5|     6.5|       590.0|    15.5|     4.5|       18.5|              2.55|              2.55|        29.5|         5.0|          375.0|          478.0|                   78.2|            34.5|               324.0|             17.0|             14.5|               9.0|     Manchester City|   14.0|     6.5|       632.5|    15.5|     6.5|       11.0|               2.0|               2.0|        23.5|         2.0|          409.5|          524.5|                  77.95|            31.0|               298.0|             14.5|             17.5|               9.0|         1|         0|            7.0|           20.0|  (26,[7],[1.0])| (26,[20],[1.0])|\n",
      "|2023-05-28|   Crystal Palace|   14.0|     5.0|       636.0|    17.0|     9.0|       12.5|               1.6|               1.6|        25.5|         3.5|          427.5|          530.0|                   79.9|            39.0|               375.5|             19.0|             24.0|              12.0|   Nottingham Forest|   11.0|     2.5|       654.0|    21.0|    10.0|       14.5|0.9500000000000001|0.9500000000000001|        20.5|         2.0|          447.5|          544.0|                   82.0|            33.0|               379.5|             14.0|             20.0|               9.5|         1|         1|           25.0|            3.0| (26,[25],[1.0])|  (26,[3],[1.0])|\n",
      "|2023-05-28|Manchester United|   18.5|     6.5|       689.5|    22.5|     4.5|       12.0|               3.3|              2.95|        31.5|         3.5|          488.0|          580.5|                   84.0|            46.0|               393.5|             27.0|             24.5|              14.5|              Fulham|   15.0|     4.5|       708.0|    19.0|    11.5|       13.0|               1.2|               1.2|        25.5|         0.0|          497.0|          592.0|                   83.9|            46.0|               429.0|             21.0|             24.0|              11.5|         2|         1|           17.0|            8.0| (26,[17],[1.0])|  (26,[8],[1.0])|\n",
      "|2023-05-28|          Arsenal|   12.5|     2.5|       667.5|    14.0|     6.5|        8.5|              0.75|              0.75|        19.0|         0.0|          478.5|          575.5|                  81.25|            50.0|               426.0|             22.0|             16.0|               6.5|Wolverhampton Wan...|   13.0|     4.0|       570.5|    17.5|     7.5|       12.0|               1.3|               1.3|        21.0|         1.5|          375.5|          473.5|                  78.75|            22.5|               332.0|             15.0|             22.0|              10.5|         5|         0|           13.0|            0.0| (26,[13],[1.0])|  (26,[0],[1.0])|\n",
      "+----------+-----------------+-------+--------+------------+--------+--------+-----------+------------------+------------------+------------+------------+---------------+---------------+-----------------------+----------------+--------------------+-----------------+-----------------+------------------+--------------------+-------+--------+------------+--------+--------+-----------+------------------+------------------+------------+------------+---------------+---------------+-----------------------+----------------+--------------------+-----------------+-----------------+------------------+----------+----------+---------------+---------------+----------------+----------------+\n",
      "only showing top 5 rows\n",
      "\n"
     ]
    }
   ],
   "source": [
    "encodeer = OneHotEncoder(inputCols=[encodeCol+\"_Index\" for encodeCol in encodeCols],outputCols=[encodeCol+\"_Onehot\" for encodeCol in encodeCols])\n",
    "encodeer_df = encodeer.fit(indexer_df).transform(indexer_df)\n",
    "encodeer_df.show(5)"
   ]
  },
  {
   "cell_type": "code",
   "execution_count": 52,
   "metadata": {},
   "outputs": [],
   "source": [
    "\n",
    "indexedCols = [encodeCol+\"_Index\" for encodeCol in encodeCols]\n",
    "encoderCols = encodeer_df.columns\n",
    "assembler_cols = [encoderCol for encoderCol in encoderCols \\\n",
    "                       if encoderCol not in encodeCols \n",
    "                       and encoderCol not in indexedCols \n",
    "                       and encoderCol not in unusedCols]\n",
    "assembler_inputCols = [assembler_col for assembler_col in assembler_cols if assembler_col not in outputCols]\n",
    "assembler_df = encodeer_df.select(assembler_cols)\n",
    "assembler = VectorAssembler(inputCols=assembler_inputCols,outputCol=\"features\")"
   ]
  },
  {
   "cell_type": "code",
   "execution_count": 53,
   "metadata": {},
   "outputs": [
    {
     "name": "stdout",
     "output_type": "stream",
     "text": [
      "+-------+--------+------------+--------+--------+-----------+------------------+------------------+------------+------------+---------------+---------------+-----------------------+----------------+--------------------+-----------------+-----------------+------------------+-------+--------+------------+--------+--------+-----------+------------------+------------------+------------+------------+---------------+---------------+-----------------------+----------------+--------------------+-----------------+-----------------+------------------+----------+----------+----------------+----------------+--------------------+\n",
      "|Home_Sh|Home_SoT|Home_Touches|Home_Tkl|Home_Int|Home_Blocks|  Home_xG_Expected|Home_npxG_Expected|Home_SCA_SCA|Home_GCA_SCA|Home_Cmp_Passes|Home_Att_Passes|Home_Cmp_percent_Passes|Home_PrgP_Passes|Home_Carries_Carries|Home_PrgC_Carries|Home_Att_Take_Ons|Home_Succ_Take_Ons|Away_Sh|Away_SoT|Away_Touches|Away_Tkl|Away_Int|Away_Blocks|  Away_xG_Expected|Away_npxG_Expected|Away_SCA_SCA|Away_GCA_SCA|Away_Cmp_Passes|Away_Att_Passes|Away_Cmp_percent_Passes|Away_PrgP_Passes|Away_Carries_Carries|Away_PrgC_Carries|Away_Att_Take_Ons|Away_Succ_Take_Ons|Home_Score|Away_Score|Away_Team_Onehot|Home_Team_Onehot|            features|\n",
      "+-------+--------+------------+--------+--------+-----------+------------------+------------------+------------+------------+---------------+---------------+-----------------------+----------------+--------------------+-----------------+-----------------+------------------+-------+--------+------------+--------+--------+-----------+------------------+------------------+------------+------------+---------------+---------------+-----------------------+----------------+--------------------+-----------------+-----------------+------------------+----------+----------+----------------+----------------+--------------------+\n",
      "|   13.5|     5.5|       636.5|    19.0|     6.0|       17.5|1.5499999999999998|1.5499999999999998|        24.5|         1.0|          463.0|          526.0|      87.55000000000001|            43.5|               371.5|             25.0|             26.5|              14.5|   15.0|     2.0|       801.0|     8.0|     4.0|        5.0|               1.2|               1.2|        26.0|         2.0|          661.0|          733.0|                   90.2|            36.0|               543.0|             28.0|             18.0|               7.0|         1|         1|  (26,[9],[1.0])|  (26,[2],[1.0])|(88,[0,1,2,3,4,5,...|\n",
      "|   17.5|     6.5|       590.0|    15.5|     4.5|       18.5|              2.55|              2.55|        29.5|         5.0|          375.0|          478.0|                   78.2|            34.5|               324.0|             17.0|             14.5|               9.0|   14.0|     6.5|       632.5|    15.5|     6.5|       11.0|               2.0|               2.0|        23.5|         2.0|          409.5|          524.5|                  77.95|            31.0|               298.0|             14.5|             17.5|               9.0|         1|         0|  (26,[7],[1.0])| (26,[20],[1.0])|(88,[0,1,2,3,4,5,...|\n",
      "|   14.0|     5.0|       636.0|    17.0|     9.0|       12.5|               1.6|               1.6|        25.5|         3.5|          427.5|          530.0|                   79.9|            39.0|               375.5|             19.0|             24.0|              12.0|   11.0|     2.5|       654.0|    21.0|    10.0|       14.5|0.9500000000000001|0.9500000000000001|        20.5|         2.0|          447.5|          544.0|                   82.0|            33.0|               379.5|             14.0|             20.0|               9.5|         1|         1| (26,[25],[1.0])|  (26,[3],[1.0])|(88,[0,1,2,3,4,5,...|\n",
      "|   18.5|     6.5|       689.5|    22.5|     4.5|       12.0|               3.3|              2.95|        31.5|         3.5|          488.0|          580.5|                   84.0|            46.0|               393.5|             27.0|             24.5|              14.5|   15.0|     4.5|       708.0|    19.0|    11.5|       13.0|               1.2|               1.2|        25.5|         0.0|          497.0|          592.0|                   83.9|            46.0|               429.0|             21.0|             24.0|              11.5|         2|         1| (26,[17],[1.0])|  (26,[8],[1.0])|(88,[0,1,2,3,4,5,...|\n",
      "|   12.5|     2.5|       667.5|    14.0|     6.5|        8.5|              0.75|              0.75|        19.0|         0.0|          478.5|          575.5|                  81.25|            50.0|               426.0|             22.0|             16.0|               6.5|   13.0|     4.0|       570.5|    17.5|     7.5|       12.0|               1.3|               1.3|        21.0|         1.5|          375.5|          473.5|                  78.75|            22.5|               332.0|             15.0|             22.0|              10.5|         5|         0| (26,[13],[1.0])|  (26,[0],[1.0])|(88,[0,1,2,3,4,5,...|\n",
      "+-------+--------+------------+--------+--------+-----------+------------------+------------------+------------+------------+---------------+---------------+-----------------------+----------------+--------------------+-----------------+-----------------+------------------+-------+--------+------------+--------+--------+-----------+------------------+------------------+------------+------------+---------------+---------------+-----------------------+----------------+--------------------+-----------------+-----------------+------------------+----------+----------+----------------+----------------+--------------------+\n",
      "only showing top 5 rows\n",
      "\n"
     ]
    }
   ],
   "source": [
    "output_vector = assembler.transform(assembler_df)\n",
    "output_vector.show(5)"
   ]
  },
  {
   "cell_type": "code",
   "execution_count": 54,
   "metadata": {},
   "outputs": [
    {
     "name": "stdout",
     "output_type": "stream",
     "text": [
      "+--------------------+----------+----------+\n",
      "|            features|Home_Score|Away_Score|\n",
      "+--------------------+----------+----------+\n",
      "|(88,[0,1,2,3,4,5,...|         1|         1|\n",
      "|(88,[0,1,2,3,4,5,...|         1|         0|\n",
      "|(88,[0,1,2,3,4,5,...|         1|         1|\n",
      "|(88,[0,1,2,3,4,5,...|         2|         1|\n",
      "|(88,[0,1,2,3,4,5,...|         5|         0|\n",
      "|(88,[0,1,2,3,4,5,...|         4|         4|\n",
      "|(88,[0,1,2,3,4,5,...|         1|         0|\n",
      "|(88,[0,1,2,3,4,5,...|         2|         1|\n",
      "|(88,[0,1,2,3,4,5,...|         1|         4|\n",
      "|(88,[0,1,2,3,4,5,...|         2|         1|\n",
      "|(88,[0,1,2,3,4,5,...|         4|         1|\n",
      "|(88,[0,1,2,3,4,5,...|         1|         1|\n",
      "|(88,[0,1,2,3,4,5,...|         0|         0|\n",
      "|(88,[0,1,2,3,4,5,...|         1|         0|\n",
      "|(88,[0,1,2,3,4,5,...|         3|         1|\n",
      "|(88,[0,1,2,3,4,5,...|         3|         1|\n",
      "|(88,[0,1,2,3,4,5,...|         1|         1|\n",
      "|(88,[0,1,2,3,4,5,...|         1|         0|\n",
      "|(88,[0,1,2,3,4,5,...|         0|         1|\n",
      "|(88,[0,1,2,3,4,5,...|         2|         2|\n",
      "+--------------------+----------+----------+\n",
      "only showing top 20 rows\n",
      "\n"
     ]
    }
   ],
   "source": [
    "output_vector.select(\"features\",\"Home_Score\",\"Away_Score\").show()"
   ]
  },
  {
   "cell_type": "markdown",
   "metadata": {},
   "source": [
    "# Linear Regression"
   ]
  },
  {
   "cell_type": "markdown",
   "metadata": {},
   "source": [
    "## Home Score"
   ]
  },
  {
   "cell_type": "code",
   "execution_count": 55,
   "metadata": {},
   "outputs": [],
   "source": [
    "from pyspark.ml.evaluation import RegressionEvaluator\n",
    "from pyspark.ml.regression import LinearRegression"
   ]
  },
  {
   "cell_type": "code",
   "execution_count": 56,
   "metadata": {},
   "outputs": [
    {
     "name": "stdout",
     "output_type": "stream",
     "text": [
      "+--------------------+----------+\n",
      "|            features|Home_Score|\n",
      "+--------------------+----------+\n",
      "|(88,[0,1,2,3,4,5,...|         1|\n",
      "|(88,[0,1,2,3,4,5,...|         1|\n",
      "|(88,[0,1,2,3,4,5,...|         1|\n",
      "|(88,[0,1,2,3,4,5,...|         2|\n",
      "|(88,[0,1,2,3,4,5,...|         5|\n",
      "+--------------------+----------+\n",
      "only showing top 5 rows\n",
      "\n"
     ]
    }
   ],
   "source": [
    "model_df = output_vector.select(\"features\",\"Home_Score\")\n",
    "model_df.show(5)"
   ]
  },
  {
   "cell_type": "code",
   "execution_count": 57,
   "metadata": {},
   "outputs": [],
   "source": [
    "training_df, test_df = model_df.randomSplit([0.7, 0.3])"
   ]
  },
  {
   "cell_type": "code",
   "execution_count": 58,
   "metadata": {},
   "outputs": [
    {
     "name": "stdout",
     "output_type": "stream",
     "text": [
      "1333\n",
      "567\n"
     ]
    }
   ],
   "source": [
    "print(training_df.count())\n",
    "print(test_df.count())"
   ]
  },
  {
   "cell_type": "code",
   "execution_count": 59,
   "metadata": {},
   "outputs": [],
   "source": [
    "linearRegression = LinearRegression(featuresCol = \"features\",labelCol=\"Home_Score\",predictionCol=\"Home_Score_Prediction\").fit(training_df)"
   ]
  },
  {
   "cell_type": "code",
   "execution_count": 60,
   "metadata": {},
   "outputs": [],
   "source": [
    "predictions = linearRegression.transform(test_df)"
   ]
  },
  {
   "cell_type": "code",
   "execution_count": 61,
   "metadata": {},
   "outputs": [
    {
     "name": "stdout",
     "output_type": "stream",
     "text": [
      "+--------------------+----------+---------------------+\n",
      "|            features|Home_Score|Home_Score_Prediction|\n",
      "+--------------------+----------+---------------------+\n",
      "|(88,[0,1,2,3,4,5,...|         1|   0.9314245868493488|\n",
      "|(88,[0,1,2,3,4,5,...|         3|    1.280050186804215|\n",
      "|(88,[0,1,2,3,4,5,...|         0|   1.1391710478257968|\n",
      "|(88,[0,1,2,3,4,5,...|         3|   1.6712357364189778|\n",
      "|(88,[0,1,2,3,4,5,...|         0|   0.8319296944103378|\n",
      "|(88,[0,1,2,3,4,5,...|         5|   2.5637726038595217|\n",
      "|(88,[0,1,2,3,4,5,...|         0|   1.9747339814817053|\n",
      "|(88,[0,1,2,3,4,5,...|         0|   1.1575952305478285|\n",
      "|(88,[0,1,2,3,4,5,...|         0|   1.2830526235867483|\n",
      "|(88,[0,1,2,3,4,5,...|         3|   0.9886974688753157|\n",
      "|(88,[0,1,2,3,4,5,...|         0|   1.9187601050957064|\n",
      "|(88,[0,1,2,3,4,5,...|         3|   1.3387466309028195|\n",
      "|(88,[0,1,2,3,4,5,...|         1|   1.5287109888508195|\n",
      "|(88,[0,1,2,3,4,5,...|         0|   0.8726569554034186|\n",
      "|(88,[0,1,2,3,4,5,...|         1|    1.291246535079555|\n",
      "|(88,[0,1,2,3,4,5,...|         1|   1.6250715696192075|\n",
      "|(88,[0,1,2,3,4,5,...|         2|  0.21739722358046076|\n",
      "|(88,[0,1,2,3,4,5,...|         1|   0.6172350696110424|\n",
      "|(88,[0,1,2,3,4,5,...|         0|   1.9128069394136924|\n",
      "|(88,[0,1,2,3,4,5,...|         0|    1.567832320267799|\n",
      "+--------------------+----------+---------------------+\n",
      "only showing top 20 rows\n",
      "\n"
     ]
    }
   ],
   "source": [
    "predictions.show()"
   ]
  },
  {
   "cell_type": "code",
   "execution_count": 62,
   "metadata": {},
   "outputs": [
    {
     "name": "stdout",
     "output_type": "stream",
     "text": [
      "1.2804290627198955\n"
     ]
    }
   ],
   "source": [
    "evaluator_rmse = RegressionEvaluator(labelCol=\"Home_Score\", predictionCol=\"Home_Score_Prediction\", metricName=\"rmse\")\n",
    "rmse = evaluator_rmse.evaluate(predictions)\n",
    "print(rmse)"
   ]
  },
  {
   "cell_type": "code",
   "execution_count": 63,
   "metadata": {},
   "outputs": [
    {
     "name": "stdout",
     "output_type": "stream",
     "text": [
      "0.10761381601200759\n"
     ]
    }
   ],
   "source": [
    "evaluator_r2 = RegressionEvaluator(labelCol=\"Home_Score\", predictionCol=\"Home_Score_Prediction\", metricName=\"r2\")\n",
    "r2 = evaluator_r2.evaluate(predictions)\n",
    "print(r2)"
   ]
  },
  {
   "cell_type": "markdown",
   "metadata": {},
   "source": [
    "## Away Score"
   ]
  },
  {
   "cell_type": "code",
   "execution_count": 35,
   "metadata": {},
   "outputs": [
    {
     "name": "stdout",
     "output_type": "stream",
     "text": [
      "+--------------------+----------+\n",
      "|            features|Away_Score|\n",
      "+--------------------+----------+\n",
      "|(88,[0,1,2,3,4,5,...|         1|\n",
      "|(88,[0,1,2,3,4,5,...|         0|\n",
      "|(88,[0,1,2,3,4,5,...|         1|\n",
      "|(88,[0,1,2,3,4,5,...|         1|\n",
      "|(88,[0,1,2,3,4,5,...|         0|\n",
      "+--------------------+----------+\n",
      "only showing top 5 rows\n",
      "\n"
     ]
    }
   ],
   "source": [
    "model_df = output_vector.select(\"features\",\"Away_Score\")\n",
    "model_df.show(5)\n",
    "training_df, test_df = model_df.randomSplit([0.7, 0.3])"
   ]
  },
  {
   "cell_type": "code",
   "execution_count": 36,
   "metadata": {},
   "outputs": [],
   "source": [
    "linearRegression = LinearRegression(featuresCol = \"features\",labelCol=\"Away_Score\",predictionCol=\"Away_Score_Prediction\").fit(training_df)\n",
    "predictions = linearRegression.transform(test_df)"
   ]
  },
  {
   "cell_type": "code",
   "execution_count": 37,
   "metadata": {},
   "outputs": [
    {
     "name": "stdout",
     "output_type": "stream",
     "text": [
      "+--------------------+----------+---------------------+\n",
      "|            features|Away_Score|Away_Score_Prediction|\n",
      "+--------------------+----------+---------------------+\n",
      "|(88,[0,1,2,3,4,5,...|         1|   1.4283298630807402|\n",
      "|(88,[0,1,2,3,4,5,...|         0|   1.5881559034310821|\n",
      "|(88,[0,1,2,3,4,5,...|         2|   1.3943305780648938|\n",
      "|(88,[0,1,2,3,4,5,...|         2|   1.3946211681927596|\n",
      "|(88,[0,1,2,3,4,5,...|         0|   1.4005098491808234|\n",
      "+--------------------+----------+---------------------+\n",
      "only showing top 5 rows\n",
      "\n"
     ]
    }
   ],
   "source": [
    "predictions.show(5)"
   ]
  },
  {
   "cell_type": "code",
   "execution_count": 38,
   "metadata": {},
   "outputs": [
    {
     "name": "stdout",
     "output_type": "stream",
     "text": [
      "1.2526407540438125\n"
     ]
    }
   ],
   "source": [
    "evaluator_rmse = RegressionEvaluator(labelCol=\"Away_Score\", predictionCol=\"Away_Score_Prediction\", metricName=\"rmse\")\n",
    "rmse = evaluator_rmse.evaluate(predictions)\n",
    "print(rmse)"
   ]
  },
  {
   "cell_type": "code",
   "execution_count": 39,
   "metadata": {},
   "outputs": [
    {
     "name": "stdout",
     "output_type": "stream",
     "text": [
      "0.08198555186562761\n"
     ]
    }
   ],
   "source": [
    "evaluator_r2 = RegressionEvaluator(labelCol=\"Away_Score\", predictionCol=\"Away_Score_Prediction\", metricName=\"r2\")\n",
    "r2 = evaluator_r2.evaluate(predictions)\n",
    "print(r2)"
   ]
  },
  {
   "cell_type": "markdown",
   "metadata": {},
   "source": [
    "# Decision tree regression"
   ]
  },
  {
   "cell_type": "markdown",
   "metadata": {},
   "source": [
    "## Home Score:"
   ]
  },
  {
   "cell_type": "code",
   "execution_count": 40,
   "metadata": {},
   "outputs": [],
   "source": [
    "from pyspark.ml.regression import DecisionTreeRegressor"
   ]
  },
  {
   "cell_type": "code",
   "execution_count": 41,
   "metadata": {},
   "outputs": [
    {
     "name": "stdout",
     "output_type": "stream",
     "text": [
      "+--------------------+----------+\n",
      "|            features|Home_Score|\n",
      "+--------------------+----------+\n",
      "|(88,[0,1,2,3,4,5,...|         1|\n",
      "|(88,[0,1,2,3,4,5,...|         1|\n",
      "|(88,[0,1,2,3,4,5,...|         1|\n",
      "|(88,[0,1,2,3,4,5,...|         2|\n",
      "|(88,[0,1,2,3,4,5,...|         5|\n",
      "+--------------------+----------+\n",
      "only showing top 5 rows\n",
      "\n"
     ]
    }
   ],
   "source": [
    "model_df = output_vector.select(\"features\",\"Home_Score\")\n",
    "model_df.show(5)\n",
    "training_df, test_df = model_df.randomSplit([0.7, 0.3])"
   ]
  },
  {
   "cell_type": "code",
   "execution_count": 42,
   "metadata": {},
   "outputs": [],
   "source": [
    "dt = DecisionTreeRegressor(featuresCol = \"features\",labelCol=\"Home_Score\",predictionCol=\"Home_Score_Prediction\")\n",
    "dt_model = dt.fit(training_df)"
   ]
  },
  {
   "cell_type": "code",
   "execution_count": 43,
   "metadata": {},
   "outputs": [],
   "source": [
    "predictions = dt_model.transform(test_df)"
   ]
  },
  {
   "cell_type": "code",
   "execution_count": 44,
   "metadata": {},
   "outputs": [
    {
     "name": "stdout",
     "output_type": "stream",
     "text": [
      "+--------------------+----------+---------------------+\n",
      "|            features|Home_Score|Home_Score_Prediction|\n",
      "+--------------------+----------+---------------------+\n",
      "|(88,[0,1,2,3,4,5,...|         0|   1.0503597122302157|\n",
      "|(88,[0,1,2,3,4,5,...|         0|   1.6993243243243243|\n",
      "|(88,[0,1,2,3,4,5,...|         0|   1.6993243243243243|\n",
      "|(88,[0,1,2,3,4,5,...|         3|   1.3397435897435896|\n",
      "|(88,[0,1,2,3,4,5,...|         1|   1.3397435897435896|\n",
      "+--------------------+----------+---------------------+\n",
      "only showing top 5 rows\n",
      "\n"
     ]
    }
   ],
   "source": [
    "predictions.show(5)"
   ]
  },
  {
   "cell_type": "code",
   "execution_count": 45,
   "metadata": {},
   "outputs": [
    {
     "name": "stdout",
     "output_type": "stream",
     "text": [
      "1.4623142317990825\n"
     ]
    }
   ],
   "source": [
    "evaluator_rmse = RegressionEvaluator(labelCol=\"Home_Score\", predictionCol=\"Home_Score_Prediction\", metricName=\"rmse\")\n",
    "rmse = evaluator_rmse.evaluate(predictions)\n",
    "print(rmse)"
   ]
  },
  {
   "cell_type": "code",
   "execution_count": 46,
   "metadata": {},
   "outputs": [
    {
     "name": "stdout",
     "output_type": "stream",
     "text": [
      "-0.17303838602609933\n"
     ]
    }
   ],
   "source": [
    "evaluator_r2 = RegressionEvaluator(labelCol=\"Home_Score\", predictionCol=\"Home_Score_Prediction\", metricName=\"r2\")\n",
    "r2 = evaluator_r2.evaluate(predictions)\n",
    "print(r2)"
   ]
  },
  {
   "cell_type": "markdown",
   "metadata": {},
   "source": [
    "## Away Score"
   ]
  },
  {
   "cell_type": "code",
   "execution_count": 47,
   "metadata": {},
   "outputs": [
    {
     "name": "stdout",
     "output_type": "stream",
     "text": [
      "+--------------------+----------+\n",
      "|            features|Away_Score|\n",
      "+--------------------+----------+\n",
      "|(88,[0,1,2,3,4,5,...|         1|\n",
      "|(88,[0,1,2,3,4,5,...|         0|\n",
      "|(88,[0,1,2,3,4,5,...|         1|\n",
      "|(88,[0,1,2,3,4,5,...|         1|\n",
      "|(88,[0,1,2,3,4,5,...|         0|\n",
      "+--------------------+----------+\n",
      "only showing top 5 rows\n",
      "\n"
     ]
    }
   ],
   "source": [
    "model_df = output_vector.select(\"features\",\"Away_Score\")\n",
    "model_df.show(5)\n",
    "training_df, test_df = model_df.randomSplit([0.7, 0.3])"
   ]
  },
  {
   "cell_type": "code",
   "execution_count": 48,
   "metadata": {},
   "outputs": [],
   "source": [
    "dt = DecisionTreeRegressor(featuresCol = \"features\",labelCol=\"Away_Score\",predictionCol=\"Away_Score_Prediction\")\n",
    "dt_model = dt.fit(training_df)"
   ]
  },
  {
   "cell_type": "code",
   "execution_count": 49,
   "metadata": {},
   "outputs": [
    {
     "name": "stdout",
     "output_type": "stream",
     "text": [
      "+--------------------+----------+---------------------+\n",
      "|            features|Away_Score|Away_Score_Prediction|\n",
      "+--------------------+----------+---------------------+\n",
      "|(88,[0,1,2,3,4,5,...|         4|    1.243353783231084|\n",
      "|(88,[0,1,2,3,4,5,...|         1|    1.243353783231084|\n",
      "|(88,[0,1,2,3,4,5,...|         0|   1.0339285714285715|\n",
      "|(88,[0,1,2,3,4,5,...|         1|   1.0339285714285715|\n",
      "|(88,[0,1,2,3,4,5,...|         2|   1.0339285714285715|\n",
      "+--------------------+----------+---------------------+\n",
      "only showing top 5 rows\n",
      "\n"
     ]
    }
   ],
   "source": [
    "predictions = dt_model.transform(test_df)\n",
    "predictions.show(5)"
   ]
  },
  {
   "cell_type": "code",
   "execution_count": 50,
   "metadata": {},
   "outputs": [
    {
     "name": "stdout",
     "output_type": "stream",
     "text": [
      "1.333916409241543\n"
     ]
    }
   ],
   "source": [
    "evaluator_rmse = RegressionEvaluator(labelCol=\"Away_Score\", predictionCol=\"Away_Score_Prediction\", metricName=\"rmse\")\n",
    "rmse = evaluator_rmse.evaluate(predictions)\n",
    "print(rmse)"
   ]
  },
  {
   "cell_type": "code",
   "execution_count": 51,
   "metadata": {},
   "outputs": [
    {
     "name": "stdout",
     "output_type": "stream",
     "text": [
      "-0.2042152238253554\n"
     ]
    }
   ],
   "source": [
    "evaluator_r2 = RegressionEvaluator(labelCol=\"Away_Score\", predictionCol=\"Away_Score_Prediction\", metricName=\"r2\")\n",
    "r2 = evaluator_r2.evaluate(predictions)\n",
    "print(r2)"
   ]
  },
  {
   "cell_type": "code",
   "execution_count": null,
   "metadata": {},
   "outputs": [],
   "source": []
  }
 ],
 "metadata": {
  "kernelspec": {
   "display_name": "Python 3",
   "language": "python",
   "name": "python3"
  },
  "language_info": {
   "codemirror_mode": {
    "name": "ipython",
    "version": 3
   },
   "file_extension": ".py",
   "mimetype": "text/x-python",
   "name": "python",
   "nbconvert_exporter": "python",
   "pygments_lexer": "ipython3",
   "version": "3.11.5"
  }
 },
 "nbformat": 4,
 "nbformat_minor": 2
}
