{
 "cells": [
  {
   "cell_type": "markdown",
   "metadata": {},
   "source": [
    "<h2>Nhập data vào Mysql</h2>\n"
   ]
  },
  {
   "cell_type": "markdown",
   "metadata": {},
   "source": [
    "<h5>Phần này sẽ tiến hành đưa data vào hệ quản trị cơ sở dữ liệu MySQL</h5>"
   ]
  },
  {
   "cell_type": "code",
   "execution_count": 2,
   "metadata": {},
   "outputs": [],
   "source": [
    "import pandas as pd\n",
    "import pymysql\n",
    "from sqlalchemy import create_engine\n",
    "from concurrent.futures import ThreadPoolExecutor"
   ]
  },
  {
   "cell_type": "code",
   "execution_count": 4,
   "metadata": {},
   "outputs": [],
   "source": [
    "hostname = \"localhost\"\n",
    "database = \"football\"\n",
    "username = \"root\"\n",
    "password = \"123456\"\n",
    "\n",
    "engine = create_engine(\"mysql+pymysql://{user}:{pw}@{host}/{db}\".format(host=hostname, \n",
    "                                                                        db=database, \n",
    "                                                                        user=username, \n",
    "                                                                        pw=password))\n",
    "\n",
    "connection = pymysql.connect(\n",
    "    host = hostname,\n",
    "    user = username,\n",
    "    password = password,\n",
    "    database = database\n",
    ")"
   ]
  },
  {
   "cell_type": "code",
   "execution_count": null,
   "metadata": {},
   "outputs": [],
   "source": [
    "dataframes_dict = {\n",
    "    # \"tablename\":\"path\",\n",
    "    \"matchs_dataset_model\": \"./dataset_model/matchs_dataset_model.csv\",\n",
    "    \"fbref_matchgoals_modified\": \"./fbref_modified/fbref_matchgoals_modified.csv\",\n",
    "    \"fbref_matchinfos_modified\": \"./fbref_modified/fbref_matchinfos_modified.csv\",\n",
    "    \"fbref_matchplayerstats_modified\": \"./fbref_modified/fbref_matchplayerstats_modified.csv\",\n",
    "    \"fbref_matchsquad_modified\": \"./fbref_modified/fbref_matchsquad_modified.csv\",\n",
    "    \"fbref_matchstats_modified\": \"./fbref_modified/fbref_matchstats_modified.csv\",\n",
    "    \"matchsquad_players\": \"./merge/matchsquad_players_completed.csv\",\n",
    "    \"sofifa_players_attr_modified\": \"./sofifa_modified/sofifa_players_attr_modified.csv\",\n",
    "    \"sofifa_players_infos_modified\": \"./sofifa_modified/sofifa_players_infos_modified.csv\"\n",
    "}\n",
    "\n",
    "def process_dataframe(df_name, file_path):\n",
    "    df = pd.read_csv(file_path)\n",
    "    # If want to replace all data, use if_exists=\"replace\"\n",
    "    df.to_sql(df_name, engine, if_exists=\"replace\", index=True,index_label=\"id\")\n",
    "    # If want to append data, use if_exists=\"append\"\n",
    "    # df.to_sql(df_name, engine, if_exists=\"append\", index=True,index_label=\"id\")\n",
    "    \n",
    "\n",
    "# Create a ThreadPoolExecutor with the desired number of threads\n",
    "executor = ThreadPoolExecutor(max_workers=4)\n",
    "\n",
    "# Submit each dataframe processing task to the executor\n",
    "futures = [executor.submit(process_dataframe, df_name, file_path) for df_name, file_path \n",
    "           in dataframes_dict.items()]\n",
    "\n",
    "# Wait for all tasks to complete\n",
    "for future in futures:\n",
    "    future.result()\n",
    "\n",
    "connection.close()\n",
    "engine.dispose()"
   ]
  }
 ],
 "metadata": {
  "kernelspec": {
   "display_name": "my_env_1",
   "language": "python",
   "name": "python3"
  },
  "language_info": {
   "codemirror_mode": {
    "name": "ipython",
    "version": 3
   },
   "file_extension": ".py",
   "mimetype": "text/x-python",
   "name": "python",
   "nbconvert_exporter": "python",
   "pygments_lexer": "ipython3",
   "version": "3.11.5"
  }
 },
 "nbformat": 4,
 "nbformat_minor": 2
}
