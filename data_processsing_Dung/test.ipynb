{
 "cells": [
  {
   "cell_type": "code",
   "execution_count": 1,
   "metadata": {},
   "outputs": [
    {
     "name": "stdout",
     "output_type": "stream",
     "text": [
      "  month  days_in_month\n",
      "5  June             30\n",
      "6  July             31\n"
     ]
    }
   ],
   "source": [
    "import pandas as pd\n",
    "\n",
    "data = {'month': ['January','February','March','April','May','June','July','August','September','October','November','December'],\n",
    "        'days_in_month': [31,28,31,30,31,30,31,31,30,31,30,31]\n",
    "        }\n",
    "\n",
    "df = pd.DataFrame(data, columns = ['month', 'days_in_month'])\n",
    "\n",
    "contain_values = df[df['month'].str.contains('Ju')]\n",
    "print (contain_values)"
   ]
  }
 ],
 "metadata": {
  "kernelspec": {
   "display_name": "Python 3",
   "language": "python",
   "name": "python3"
  },
  "language_info": {
   "codemirror_mode": {
    "name": "ipython",
    "version": 3
   },
   "file_extension": ".py",
   "mimetype": "text/x-python",
   "name": "python",
   "nbconvert_exporter": "python",
   "pygments_lexer": "ipython3",
   "version": "3.11.5"
  }
 },
 "nbformat": 4,
 "nbformat_minor": 2
}
