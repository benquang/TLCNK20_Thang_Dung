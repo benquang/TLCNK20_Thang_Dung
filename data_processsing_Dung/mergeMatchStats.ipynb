{
 "cells": [
  {
   "cell_type": "code",
   "execution_count": 37,
   "metadata": {},
   "outputs": [],
   "source": [
    "from pyspark.sql import SparkSession\n",
    "import pyspark.pandas as ps\n",
    "spark = SparkSession\\\n",
    "    .builder\\\n",
    "    .appName(\"MergeDataset\")\\\n",
    "    .getOrCreate()"
   ]
  },
  {
   "cell_type": "code",
   "execution_count": 51,
   "metadata": {},
   "outputs": [
    {
     "name": "stderr",
     "output_type": "stream",
     "text": [
      "c:\\Users\\super\\AppData\\Local\\Programs\\Python\\Python311\\Lib\\site-packages\\pyspark\\pandas\\utils.py:1016: PandasAPIOnSparkAdviceWarning: If `index_col` is not specified for `read_csv`, the default index is attached which can cause additional overhead.\n",
      "  warnings.warn(message, PandasAPIOnSparkAdviceWarning)\n"
     ]
    }
   ],
   "source": [
    "fbref_MatchStats = ps.read_csv('./data/fbref_MatchStats.csv')\n",
    "fbref_MatchStats['fbrefMatchId'] = fbref_MatchStats['fbrefMatchId'].astype(str)"
   ]
  },
  {
   "cell_type": "code",
   "execution_count": 52,
   "metadata": {},
   "outputs": [],
   "source": [
    "def Fbref_MergeHomeAwayMatchStats(fbref_MatchStats):\n",
    "    fbref_MatchStats.rename(\n",
    "        columns={\n",
    "            'touches44':'touches',\n",
    "            'Touches21':'Touches',\n",
    "        }\n",
    "    )\n",
    "    home_MatchStats = fbref_MatchStats.loc[fbref_MatchStats['is_home_team'] == 'Yes']\n",
    "    away_MatchStats = fbref_MatchStats.loc[fbref_MatchStats['is_home_team'] == 'No']\n",
    "    home_columns = ['home_' + column for column in home_MatchStats.columns.tolist()]\n",
    "    away_columns = ['away_' + column for column in away_MatchStats.columns.tolist()]\n",
    "    home_MatchStats.columns = home_columns\n",
    "    away_MatchStats.columns = away_columns\n",
    "    home_MatchStats['home_fbrefMatchId'] = home_MatchStats['home_fbrefMatchId'].astype(str)\n",
    "    away_MatchStats['away_fbrefMatchId'] = away_MatchStats['away_fbrefMatchId'].astype(str)\n",
    "    merged_MatchStats = ps.merge(home_MatchStats, away_MatchStats, left_on='home_fbrefMatchId',right_on = 'away_fbrefMatchId', how = 'inner')\n",
    "    \n",
    "    return merged_MatchStats"
   ]
  },
  {
   "cell_type": "code",
   "execution_count": 53,
   "metadata": {},
   "outputs": [
    {
     "name": "stderr",
     "output_type": "stream",
     "text": [
      "c:\\Users\\super\\AppData\\Local\\Programs\\Python\\Python311\\Lib\\site-packages\\pyspark\\pandas\\utils.py:1016: PandasAPIOnSparkAdviceWarning: `to_pandas` loads all data into the driver's memory. It should only be used if the resulting pandas DataFrame is expected to be small.\n",
      "  warnings.warn(message, PandasAPIOnSparkAdviceWarning)\n"
     ]
    }
   ],
   "source": [
    "merged_MatchStats = Fbref_MergeHomeAwayMatchStats(fbref_MatchStats)\n",
    "merged_MatchStats.head(2)\n",
    "merged_MatchStats.to_pandas().to_csv('./data/fbref_MergedMatchStats.csv',index=False,encoding='utf-8-sig')\n",
    "    "
   ]
  },
  {
   "cell_type": "code",
   "execution_count": null,
   "metadata": {},
   "outputs": [],
   "source": [
    "# spark.stop()"
   ]
  }
 ],
 "metadata": {
  "kernelspec": {
   "display_name": "Python 3",
   "language": "python",
   "name": "python3"
  },
  "language_info": {
   "codemirror_mode": {
    "name": "ipython",
    "version": 3
   },
   "file_extension": ".py",
   "mimetype": "text/x-python",
   "name": "python",
   "nbconvert_exporter": "python",
   "pygments_lexer": "ipython3",
   "version": "3.11.5"
  }
 },
 "nbformat": 4,
 "nbformat_minor": 2
}
