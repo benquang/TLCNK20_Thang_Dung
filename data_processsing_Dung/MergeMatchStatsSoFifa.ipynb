{
 "cells": [
  {
   "cell_type": "code",
   "execution_count": 3,
   "metadata": {},
   "outputs": [],
   "source": [
    "from pyspark.sql import SparkSession\n",
    "import pyspark.pandas as ps\n",
    "import pandas as pd\n",
    "pd.options.mode.chained_assignment = None"
   ]
  },
  {
   "cell_type": "code",
   "execution_count": 7,
   "metadata": {},
   "outputs": [],
   "source": [
    "MergedSoFifaFbref = pd.read_csv('./data/MergedSoFifaFbref.csv',keep_default_na=False)\n",
    "fbref_MergedMatchStats = pd.read_csv('./data/fbref_MergedMatchStats.csv',keep_default_na=False)"
   ]
  },
  {
   "cell_type": "code",
   "execution_count": null,
   "metadata": {},
   "outputs": [
    {
     "data": {
      "text/html": [
       "<div>\n",
       "<style scoped>\n",
       "    .dataframe tbody tr th:only-of-type {\n",
       "        vertical-align: middle;\n",
       "    }\n",
       "\n",
       "    .dataframe tbody tr th {\n",
       "        vertical-align: top;\n",
       "    }\n",
       "\n",
       "    .dataframe thead th {\n",
       "        text-align: right;\n",
       "    }\n",
       "</style>\n",
       "<table border=\"1\" class=\"dataframe\">\n",
       "  <thead>\n",
       "    <tr style=\"text-align: right;\">\n",
       "      <th></th>\n",
       "      <th>home_Ast</th>\n",
       "      <th>home_Blocks</th>\n",
       "      <th>home_Carries</th>\n",
       "      <th>home_Carries_PrgC</th>\n",
       "      <th>home_CrdR</th>\n",
       "      <th>home_CrdY</th>\n",
       "      <th>home_GCA</th>\n",
       "      <th>home_Gls</th>\n",
       "      <th>home_Int</th>\n",
       "      <th>home_PK</th>\n",
       "      <th>...</th>\n",
       "      <th>away_offsides</th>\n",
       "      <th>away_possession</th>\n",
       "      <th>away_score</th>\n",
       "      <th>away_tackles</th>\n",
       "      <th>away_team</th>\n",
       "      <th>away_throw_ins</th>\n",
       "      <th>away_total_players_stats</th>\n",
       "      <th>away_touches44</th>\n",
       "      <th>away_xAG</th>\n",
       "      <th>away_xG</th>\n",
       "    </tr>\n",
       "  </thead>\n",
       "  <tbody>\n",
       "    <tr>\n",
       "      <th>0</th>\n",
       "      <td>0</td>\n",
       "      <td>4</td>\n",
       "      <td>295</td>\n",
       "      <td>21</td>\n",
       "      <td>1</td>\n",
       "      <td>1</td>\n",
       "      <td>1</td>\n",
       "      <td>1</td>\n",
       "      <td>4</td>\n",
       "      <td>0</td>\n",
       "      <td>...</td>\n",
       "      <td>1</td>\n",
       "      <td>51%</td>\n",
       "      <td>4</td>\n",
       "      <td>15</td>\n",
       "      <td>West Ham United</td>\n",
       "      <td>12</td>\n",
       "      <td>14</td>\n",
       "      <td>621</td>\n",
       "      <td>0.9</td>\n",
       "      <td>3.1</td>\n",
       "    </tr>\n",
       "  </tbody>\n",
       "</table>\n",
       "<p>1 rows × 94 columns</p>\n",
       "</div>"
      ],
      "text/plain": [
       "   home_Ast  home_Blocks  home_Carries  home_Carries_PrgC  home_CrdR  \\\n",
       "0         0            4           295                 21          1   \n",
       "\n",
       "   home_CrdY  home_GCA  home_Gls  home_Int  home_PK  ...  away_offsides  \\\n",
       "0          1         1         1         4        0  ...              1   \n",
       "\n",
       "   away_possession  away_score  away_tackles        away_team  away_throw_ins  \\\n",
       "0              51%           4            15  West Ham United              12   \n",
       "\n",
       "   away_total_players_stats  away_touches44  away_xAG  away_xG  \n",
       "0                        14             621       0.9      3.1  \n",
       "\n",
       "[1 rows x 94 columns]"
      ]
     },
     "execution_count": 3,
     "metadata": {},
     "output_type": "execute_result"
    }
   ],
   "source": [
    "fbref_MergedMatchStats.head(1)\n"
   ]
  },
  {
   "cell_type": "code",
   "execution_count": null,
   "metadata": {},
   "outputs": [
    {
     "data": {
      "text/plain": [
       "Index(['home_Ast', 'home_Blocks', 'home_Carries', 'home_Carries_PrgC',\n",
       "       'home_CrdR', 'home_CrdY', 'home_GCA', 'home_Gls', 'home_Int', 'home_PK',\n",
       "       'home_PKatt', 'home_Passes_Att', 'home_Passes_Cmp',\n",
       "       'home_Passes_CmpPercentage', 'home_Passes_PrgP', 'home_SCA', 'home_Sh',\n",
       "       'home_SoT', 'home_Take_Ons_Att', 'home_Take_Ons_Succ', 'home_Tkl',\n",
       "       'home_Touches21', 'home_aerials_won', 'home_captain', 'home_clearances',\n",
       "       'home_corners', 'home_crosses', 'home_fbrefMatchId', 'home_formation',\n",
       "       'home_fouls', 'home_goal_kicks', 'home_interceptions',\n",
       "       'home_is_home_team', 'home_long_balls', 'home_manager', 'home_minutes',\n",
       "       'home_npxG', 'home_offsides', 'home_possession', 'home_score',\n",
       "       'home_tackles', 'home_team', 'home_throw_ins',\n",
       "       'home_total_players_stats', 'home_touches44', 'home_xAG', 'home_xG',\n",
       "       'away_Ast', 'away_Blocks', 'away_Carries', 'away_Carries_PrgC',\n",
       "       'away_CrdR', 'away_CrdY', 'away_GCA', 'away_Gls', 'away_Int', 'away_PK',\n",
       "       'away_PKatt', 'away_Passes_Att', 'away_Passes_Cmp',\n",
       "       'away_Passes_CmpPercentage', 'away_Passes_PrgP', 'away_SCA', 'away_Sh',\n",
       "       'away_SoT', 'away_Take_Ons_Att', 'away_Take_Ons_Succ', 'away_Tkl',\n",
       "       'away_Touches21', 'away_aerials_won', 'away_captain', 'away_clearances',\n",
       "       'away_corners', 'away_crosses', 'away_fbrefMatchId', 'away_formation',\n",
       "       'away_fouls', 'away_goal_kicks', 'away_interceptions',\n",
       "       'away_is_home_team', 'away_long_balls', 'away_manager', 'away_minutes',\n",
       "       'away_npxG', 'away_offsides', 'away_possession', 'away_score',\n",
       "       'away_tackles', 'away_team', 'away_throw_ins',\n",
       "       'away_total_players_stats', 'away_touches44', 'away_xAG', 'away_xG'],\n",
       "      dtype='object')"
      ]
     },
     "execution_count": 4,
     "metadata": {},
     "output_type": "execute_result"
    }
   ],
   "source": [
    "fbref_MergedMatchStats.columns"
   ]
  },
  {
   "cell_type": "code",
   "execution_count": 9,
   "metadata": {},
   "outputs": [
    {
     "name": "stderr",
     "output_type": "stream",
     "text": [
      "C:\\Users\\super\\AppData\\Local\\Temp\\ipykernel_4240\\702448448.py:75: FutureWarning: The behavior of DataFrame concatenation with empty or all-NA entries is deprecated. In a future version, this will no longer exclude empty or all-NA columns when determining the result dtypes. To retain the old behavior, exclude the relevant entries before the concat operation.\n",
      "  df_MergeMatchStatsSoFifa = pd.concat([df_MergeMatchStatsSoFifa,matchStat_row],ignore_index=True)\n"
     ]
    }
   ],
   "source": [
    "def MergeMatchStatsSoFifa(MergedSoFifaFbref,fbref_MergedMatchStats):\n",
    "    columns_MergeMatchStatsSoFifa = fbref_MergedMatchStats.columns.values.tolist()\n",
    "    columns_MergeMatchStatsSoFifa.extend(['home_attack_rating','home_mid_rating','home_defend_rating','away_attack_rating','away_mid_rating','away_defend_rating'])\n",
    "    df_MergeMatchStatsSoFifa = pd.DataFrame(columns=columns_MergeMatchStatsSoFifa)\n",
    "    attack_line = [\"LS\", \"ST\", \"RS\",\"LW\", \"LF\", \"CF\", \"RF\", \"RW\"]\n",
    "    mid_line = [\"LAM\", \"CAM\", \"RAM\",\"LM\", \"LCM\", \"CM\", \"RCM\", \"RM\",\"LDM\", \"CDM\", \"RDM\"]\n",
    "    defend_line = [\"LB\", \"LCB\", \"CB\", \"RCB\", \"RB\",\"LWB\",\"RWB\"]\n",
    "\n",
    "    for i in range(0,len(fbref_MergedMatchStats)):\n",
    "    # for i in range(0,10):\n",
    "        matchStat = fbref_MergedMatchStats.iloc[i]\n",
    "        matchStat_row = fbref_MergedMatchStats.loc[i:i]\n",
    "        home_squad = MergedSoFifaFbref.loc[(MergedSoFifaFbref['fbrefMatchId']==matchStat['home_fbrefMatchId']) & (MergedSoFifaFbref['team']==matchStat['home_team'])]\n",
    "        away_squad = MergedSoFifaFbref.loc[(MergedSoFifaFbref['fbrefMatchId']==matchStat['away_fbrefMatchId']) & (MergedSoFifaFbref['team']==matchStat['away_team'])]\n",
    "        home_attack_rating = []\n",
    "        home_mid_rating = []\n",
    "        home_defend_rating = []\n",
    "        away_attack_rating = []\n",
    "        away_mid_rating = []\n",
    "        away_defend_rating = []\n",
    "        for i in range (0,len(home_squad)):\n",
    "            player = home_squad.iloc[i]\n",
    "            all_positions = player['all_positions']\n",
    "            position = all_positions.split(' ')[0]\n",
    "            if position in attack_line:\n",
    "                home_attack_rating.append(player['overall_rating'])\n",
    "            elif position in mid_line:\n",
    "                home_mid_rating.append(player['overall_rating'])\n",
    "            elif position in defend_line:\n",
    "                home_defend_rating.append(player['overall_rating'])\n",
    "        \n",
    "        for i in range(0,len(away_squad)):\n",
    "            player = away_squad.iloc[i]\n",
    "            all_positions = player['all_positions']\n",
    "            position = all_positions.split(' ')[0]\n",
    "            if position in attack_line:\n",
    "                away_attack_rating.append(player['overall_rating'])\n",
    "            elif position in mid_line:\n",
    "                away_mid_rating.append(player['overall_rating'])\n",
    "            elif position in defend_line:\n",
    "                away_defend_rating.append(player['overall_rating'])\n",
    "        home_attack_rating = list(map(int,home_attack_rating))\n",
    "        home_mid_rating = list(map(int,home_mid_rating))\n",
    "        home_defend_rating = list(map(int,home_defend_rating))\n",
    "        away_attack_rating = list(map(int,away_attack_rating))\n",
    "        away_mid_rating = list(map(int,away_mid_rating))\n",
    "        away_defend_rating = list(map(int,away_defend_rating))\n",
    "\n",
    "        if (len(home_attack_rating) == 0):\n",
    "            home_attack_rating = 0\n",
    "        else: home_attack_rating = sum(home_attack_rating)/len(home_attack_rating)\n",
    "        if (len(home_mid_rating) == 0):\n",
    "            home_mid_rating = 0\n",
    "        else: home_mid_rating = sum(home_mid_rating)/len(home_mid_rating)\n",
    "        if (len(home_defend_rating) == 0):\n",
    "            home_defend_rating = 0\n",
    "        else: home_defend_rating = sum(home_defend_rating)/len(home_defend_rating)\n",
    "        if (len(away_attack_rating) == 0):\n",
    "            away_attack_rating = 0\n",
    "        else: away_attack_rating = sum(away_attack_rating)/len(away_attack_rating)\n",
    "        if (len(away_mid_rating) == 0):\n",
    "            away_mid_rating = 0\n",
    "        else: away_mid_rating = sum(away_mid_rating)/len(away_mid_rating)\n",
    "        if (len(away_defend_rating) == 0):\n",
    "            away_defend_rating = 0\n",
    "        else: away_defend_rating = sum(away_defend_rating)/len(away_defend_rating)\n",
    "        \n",
    "        matchStat_row.loc[:,'home_attack_rating'] = round(home_attack_rating,2) \n",
    "        matchStat_row.loc[:,'home_mid_rating'] = round(home_mid_rating,2) \n",
    "        matchStat_row.loc[:,'home_defend_rating'] = round(home_defend_rating,2)\n",
    "        matchStat_row.loc[:,'away_attack_rating'] = round(away_attack_rating,2)\n",
    "        matchStat_row.loc[:,'away_mid_rating'] = round(away_mid_rating,2)\n",
    "        matchStat_row.loc[:,'away_defend_rating'] = round(away_defend_rating,2)\n",
    "        \n",
    "        df_MergeMatchStatsSoFifa = pd.concat([df_MergeMatchStatsSoFifa,matchStat_row],ignore_index=True)\n",
    "\n",
    "    df_MergeMatchStatsSoFifa.to_csv('./data/MergeMatchStatsSoFifa.csv',index=False,encoding='utf-8-sig')\n",
    "\n",
    "MergeMatchStatsSoFifa(MergedSoFifaFbref,fbref_MergedMatchStats)"
   ]
  },
  {
   "cell_type": "code",
   "execution_count": null,
   "metadata": {},
   "outputs": [],
   "source": []
  }
 ],
 "metadata": {
  "kernelspec": {
   "display_name": "Python 3",
   "language": "python",
   "name": "python3"
  },
  "language_info": {
   "codemirror_mode": {
    "name": "ipython",
    "version": 3
   },
   "file_extension": ".py",
   "mimetype": "text/x-python",
   "name": "python",
   "nbconvert_exporter": "python",
   "pygments_lexer": "ipython3",
   "version": "3.11.5"
  }
 },
 "nbformat": 4,
 "nbformat_minor": 2
}
