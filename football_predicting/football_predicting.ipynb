{
 "cells": [
  {
   "cell_type": "markdown",
   "metadata": {},
   "source": [
    "<h2>Xây dựng mô hình dự đoán các trận đấu</h2>\n"
   ]
  },
  {
   "cell_type": "markdown",
   "metadata": {},
   "source": [
    "<h5>Phần này sẽ kết hợp các kỹ thuật và phương pháp trong Machine Learning để xây dựng một mô hình dự đoán kết quả của các trận đấu trong tương lai, sử dụng Spark Machine Learning</h5>"
   ]
  },
  {
   "cell_type": "markdown",
   "metadata": {},
   "source": [
    "<h4>1. Các thư viện và model được sử dụng</h4>"
   ]
  },
  {
   "cell_type": "markdown",
   "metadata": {},
   "source": [
    "Các thư viện bên ngoài "
   ]
  },
  {
   "cell_type": "code",
   "execution_count": 1,
   "metadata": {},
   "outputs": [],
   "source": [
    "import pandas as pd\n",
    "import matplotlib.pyplot as plt\n"
   ]
  },
  {
   "cell_type": "markdown",
   "metadata": {},
   "source": [
    "Các thư viện trong Spark Machine Learning"
   ]
  },
  {
   "cell_type": "code",
   "execution_count": 2,
   "metadata": {},
   "outputs": [],
   "source": [
    "#import findspark\n",
    "#import pyspark\n",
    "\n",
    "from pyspark.sql import SparkSession\n",
    "from pyspark.sql.functions import monotonically_increasing_id, lit\n",
    "\n",
    "from pyspark.ml.classification import LogisticRegression, DecisionTreeClassifier, NaiveBayes, RandomForestClassifier\n",
    "from pyspark.ml.feature import OneHotEncoder,StringIndexer,VectorAssembler\n",
    "#from pyspark.ml.regression import LinearRegression, DecisionTreeRegressor\n",
    "from pyspark.ml.evaluation import MulticlassClassificationEvaluator\n",
    "\n",
    "from pyspark.ml.stat import ChiSquareTest\n",
    "from pyspark.sql.types import *"
   ]
  },
  {
   "cell_type": "markdown",
   "metadata": {},
   "source": [
    "<h4>2. Phân tích dữ liệu</h4>"
   ]
  },
  {
   "cell_type": "markdown",
   "metadata": {},
   "source": [
    "Lấy dữ liệu đã được chuẩn bị cho xây dựng model"
   ]
  },
  {
   "cell_type": "code",
   "execution_count": 3,
   "metadata": {},
   "outputs": [
    {
     "data": {
      "text/html": [
       "<div>\n",
       "<style scoped>\n",
       "    .dataframe tbody tr th:only-of-type {\n",
       "        vertical-align: middle;\n",
       "    }\n",
       "\n",
       "    .dataframe tbody tr th {\n",
       "        vertical-align: top;\n",
       "    }\n",
       "\n",
       "    .dataframe thead th {\n",
       "        text-align: right;\n",
       "    }\n",
       "</style>\n",
       "<table border=\"1\" class=\"dataframe\">\n",
       "  <thead>\n",
       "    <tr style=\"text-align: right;\">\n",
       "      <th></th>\n",
       "      <th>Match_Id</th>\n",
       "      <th>Match_Date</th>\n",
       "      <th>Home_Team</th>\n",
       "      <th>Home_Manager</th>\n",
       "      <th>Home_Captain</th>\n",
       "      <th>Home_Formation</th>\n",
       "      <th>Home_Possession</th>\n",
       "      <th>Home_Fouls</th>\n",
       "      <th>Home_Corners</th>\n",
       "      <th>Home_Crosses</th>\n",
       "      <th>...</th>\n",
       "      <th>Away_Att_Take_Ons</th>\n",
       "      <th>Away_Succ_Take_Ons</th>\n",
       "      <th>Home_Attack</th>\n",
       "      <th>Home_Midfield</th>\n",
       "      <th>Home_Defense</th>\n",
       "      <th>Away_Attack</th>\n",
       "      <th>Away_Midfield</th>\n",
       "      <th>Away_Defense</th>\n",
       "      <th>Home_Score</th>\n",
       "      <th>Away_Score</th>\n",
       "    </tr>\n",
       "  </thead>\n",
       "  <tbody>\n",
       "    <tr>\n",
       "      <th>0</th>\n",
       "      <td>8c6293a3</td>\n",
       "      <td>2023-10-23</td>\n",
       "      <td>Tottenham Hotspur</td>\n",
       "      <td>Ange Postecoglou</td>\n",
       "      <td>Son Heung-min</td>\n",
       "      <td>4231</td>\n",
       "      <td>65.0</td>\n",
       "      <td>9.0</td>\n",
       "      <td>8.5</td>\n",
       "      <td>21.0</td>\n",
       "      <td>...</td>\n",
       "      <td>15.0</td>\n",
       "      <td>8.5</td>\n",
       "      <td>78.909091</td>\n",
       "      <td>79.636364</td>\n",
       "      <td>77.000000</td>\n",
       "      <td>74.400000</td>\n",
       "      <td>76.588235</td>\n",
       "      <td>74.875000</td>\n",
       "      <td>2</td>\n",
       "      <td>0</td>\n",
       "    </tr>\n",
       "    <tr>\n",
       "      <th>1</th>\n",
       "      <td>7efcc598</td>\n",
       "      <td>2023-10-22</td>\n",
       "      <td>Aston Villa</td>\n",
       "      <td>Unai Emery</td>\n",
       "      <td>John McGinn</td>\n",
       "      <td>442</td>\n",
       "      <td>46.0</td>\n",
       "      <td>14.0</td>\n",
       "      <td>5.5</td>\n",
       "      <td>18.5</td>\n",
       "      <td>...</td>\n",
       "      <td>11.5</td>\n",
       "      <td>7.5</td>\n",
       "      <td>72.714286</td>\n",
       "      <td>77.944444</td>\n",
       "      <td>78.333333</td>\n",
       "      <td>74.000000</td>\n",
       "      <td>78.916667</td>\n",
       "      <td>77.800000</td>\n",
       "      <td>4</td>\n",
       "      <td>1</td>\n",
       "    </tr>\n",
       "    <tr>\n",
       "      <th>2</th>\n",
       "      <td>d95b42eb</td>\n",
       "      <td>2023-10-21</td>\n",
       "      <td>Sheffield United</td>\n",
       "      <td>Paul Heckingbottom</td>\n",
       "      <td>Oliver Norwood</td>\n",
       "      <td>442</td>\n",
       "      <td>44.0</td>\n",
       "      <td>9.5</td>\n",
       "      <td>4.0</td>\n",
       "      <td>14.5</td>\n",
       "      <td>...</td>\n",
       "      <td>20.0</td>\n",
       "      <td>10.5</td>\n",
       "      <td>69.400000</td>\n",
       "      <td>71.615385</td>\n",
       "      <td>69.181818</td>\n",
       "      <td>75.833333</td>\n",
       "      <td>79.588235</td>\n",
       "      <td>79.800000</td>\n",
       "      <td>1</td>\n",
       "      <td>2</td>\n",
       "    </tr>\n",
       "    <tr>\n",
       "      <th>3</th>\n",
       "      <td>21625dde</td>\n",
       "      <td>2023-10-21</td>\n",
       "      <td>Newcastle United</td>\n",
       "      <td>Eddie Howe</td>\n",
       "      <td>Jamaal Lascelles</td>\n",
       "      <td>433</td>\n",
       "      <td>58.5</td>\n",
       "      <td>12.5</td>\n",
       "      <td>3.5</td>\n",
       "      <td>15.5</td>\n",
       "      <td>...</td>\n",
       "      <td>20.0</td>\n",
       "      <td>9.5</td>\n",
       "      <td>78.100000</td>\n",
       "      <td>80.888889</td>\n",
       "      <td>75.272727</td>\n",
       "      <td>72.833333</td>\n",
       "      <td>71.333333</td>\n",
       "      <td>76.857143</td>\n",
       "      <td>4</td>\n",
       "      <td>0</td>\n",
       "    </tr>\n",
       "    <tr>\n",
       "      <th>4</th>\n",
       "      <td>e747ddb3</td>\n",
       "      <td>2023-10-21</td>\n",
       "      <td>Liverpool</td>\n",
       "      <td>Jürgen Klopp</td>\n",
       "      <td>Virgil van Dijk</td>\n",
       "      <td>433</td>\n",
       "      <td>45.0</td>\n",
       "      <td>18.5</td>\n",
       "      <td>3.0</td>\n",
       "      <td>9.5</td>\n",
       "      <td>...</td>\n",
       "      <td>25.0</td>\n",
       "      <td>11.0</td>\n",
       "      <td>82.800000</td>\n",
       "      <td>80.846154</td>\n",
       "      <td>79.125000</td>\n",
       "      <td>74.800000</td>\n",
       "      <td>75.200000</td>\n",
       "      <td>74.692308</td>\n",
       "      <td>2</td>\n",
       "      <td>0</td>\n",
       "    </tr>\n",
       "    <tr>\n",
       "      <th>...</th>\n",
       "      <td>...</td>\n",
       "      <td>...</td>\n",
       "      <td>...</td>\n",
       "      <td>...</td>\n",
       "      <td>...</td>\n",
       "      <td>...</td>\n",
       "      <td>...</td>\n",
       "      <td>...</td>\n",
       "      <td>...</td>\n",
       "      <td>...</td>\n",
       "      <td>...</td>\n",
       "      <td>...</td>\n",
       "      <td>...</td>\n",
       "      <td>...</td>\n",
       "      <td>...</td>\n",
       "      <td>...</td>\n",
       "      <td>...</td>\n",
       "      <td>...</td>\n",
       "      <td>...</td>\n",
       "      <td>...</td>\n",
       "      <td>...</td>\n",
       "    </tr>\n",
       "    <tr>\n",
       "      <th>1929</th>\n",
       "      <td>f74a4680</td>\n",
       "      <td>2018-09-01</td>\n",
       "      <td>Manchester City</td>\n",
       "      <td>Pep Guardiola</td>\n",
       "      <td>David Silva</td>\n",
       "      <td>4132</td>\n",
       "      <td>73.5</td>\n",
       "      <td>8.5</td>\n",
       "      <td>9.5</td>\n",
       "      <td>27.0</td>\n",
       "      <td>...</td>\n",
       "      <td>8.5</td>\n",
       "      <td>2.5</td>\n",
       "      <td>85.250000</td>\n",
       "      <td>83.250000</td>\n",
       "      <td>83.000000</td>\n",
       "      <td>75.750000</td>\n",
       "      <td>73.230769</td>\n",
       "      <td>73.333333</td>\n",
       "      <td>2</td>\n",
       "      <td>1</td>\n",
       "    </tr>\n",
       "    <tr>\n",
       "      <th>1930</th>\n",
       "      <td>95fc9c84</td>\n",
       "      <td>2018-09-01</td>\n",
       "      <td>Chelsea</td>\n",
       "      <td>Maurizio Sarri</td>\n",
       "      <td>César Azpilicueta</td>\n",
       "      <td>433</td>\n",
       "      <td>71.0</td>\n",
       "      <td>10.0</td>\n",
       "      <td>5.0</td>\n",
       "      <td>19.0</td>\n",
       "      <td>...</td>\n",
       "      <td>18.5</td>\n",
       "      <td>9.0</td>\n",
       "      <td>85.500000</td>\n",
       "      <td>82.000000</td>\n",
       "      <td>81.750000</td>\n",
       "      <td>74.500000</td>\n",
       "      <td>75.538462</td>\n",
       "      <td>74.666667</td>\n",
       "      <td>2</td>\n",
       "      <td>0</td>\n",
       "    </tr>\n",
       "    <tr>\n",
       "      <th>1931</th>\n",
       "      <td>51055c21</td>\n",
       "      <td>2018-09-01</td>\n",
       "      <td>Brighton &amp; Hove Albion</td>\n",
       "      <td>Chris Hughton</td>\n",
       "      <td>Lewis Dunk</td>\n",
       "      <td>4411</td>\n",
       "      <td>32.5</td>\n",
       "      <td>15.0</td>\n",
       "      <td>4.0</td>\n",
       "      <td>12.0</td>\n",
       "      <td>...</td>\n",
       "      <td>12.5</td>\n",
       "      <td>7.5</td>\n",
       "      <td>76.000000</td>\n",
       "      <td>74.357143</td>\n",
       "      <td>75.666667</td>\n",
       "      <td>75.250000</td>\n",
       "      <td>76.909091</td>\n",
       "      <td>73.000000</td>\n",
       "      <td>2</td>\n",
       "      <td>2</td>\n",
       "    </tr>\n",
       "    <tr>\n",
       "      <th>1932</th>\n",
       "      <td>db5e61cc</td>\n",
       "      <td>2018-08-25</td>\n",
       "      <td>Liverpool</td>\n",
       "      <td>Jürgen Klopp</td>\n",
       "      <td>James Milner</td>\n",
       "      <td>433</td>\n",
       "      <td>63.5</td>\n",
       "      <td>13.5</td>\n",
       "      <td>6.0</td>\n",
       "      <td>22.0</td>\n",
       "      <td>...</td>\n",
       "      <td>7.0</td>\n",
       "      <td>4.5</td>\n",
       "      <td>84.833333</td>\n",
       "      <td>81.555556</td>\n",
       "      <td>80.500000</td>\n",
       "      <td>76.000000</td>\n",
       "      <td>74.357143</td>\n",
       "      <td>75.000000</td>\n",
       "      <td>1</td>\n",
       "      <td>0</td>\n",
       "    </tr>\n",
       "    <tr>\n",
       "      <th>1933</th>\n",
       "      <td>a25a3f33</td>\n",
       "      <td>2018-08-25</td>\n",
       "      <td>Wolverhampton Wanderers</td>\n",
       "      <td>Nuno Espírito Santo</td>\n",
       "      <td>Conor Coady</td>\n",
       "      <td>343</td>\n",
       "      <td>57.5</td>\n",
       "      <td>8.0</td>\n",
       "      <td>6.0</td>\n",
       "      <td>27.0</td>\n",
       "      <td>...</td>\n",
       "      <td>19.0</td>\n",
       "      <td>13.5</td>\n",
       "      <td>74.428571</td>\n",
       "      <td>75.200000</td>\n",
       "      <td>73.222222</td>\n",
       "      <td>86.000000</td>\n",
       "      <td>85.300000</td>\n",
       "      <td>83.000000</td>\n",
       "      <td>1</td>\n",
       "      <td>1</td>\n",
       "    </tr>\n",
       "  </tbody>\n",
       "</table>\n",
       "<p>1934 rows × 92 columns</p>\n",
       "</div>"
      ],
      "text/plain": [
       "      Match_Id  Match_Date                Home_Team         Home_Manager  \\\n",
       "0     8c6293a3  2023-10-23        Tottenham Hotspur     Ange Postecoglou   \n",
       "1     7efcc598  2023-10-22              Aston Villa           Unai Emery   \n",
       "2     d95b42eb  2023-10-21         Sheffield United   Paul Heckingbottom   \n",
       "3     21625dde  2023-10-21         Newcastle United           Eddie Howe   \n",
       "4     e747ddb3  2023-10-21                Liverpool         Jürgen Klopp   \n",
       "...        ...         ...                      ...                  ...   \n",
       "1929  f74a4680  2018-09-01          Manchester City        Pep Guardiola   \n",
       "1930  95fc9c84  2018-09-01                  Chelsea       Maurizio Sarri   \n",
       "1931  51055c21  2018-09-01   Brighton & Hove Albion        Chris Hughton   \n",
       "1932  db5e61cc  2018-08-25                Liverpool         Jürgen Klopp   \n",
       "1933  a25a3f33  2018-08-25  Wolverhampton Wanderers  Nuno Espírito Santo   \n",
       "\n",
       "           Home_Captain  Home_Formation  Home_Possession  Home_Fouls  \\\n",
       "0         Son Heung-min            4231             65.0         9.0   \n",
       "1           John McGinn             442             46.0        14.0   \n",
       "2        Oliver Norwood             442             44.0         9.5   \n",
       "3      Jamaal Lascelles             433             58.5        12.5   \n",
       "4       Virgil van Dijk             433             45.0        18.5   \n",
       "...                 ...             ...              ...         ...   \n",
       "1929        David Silva            4132             73.5         8.5   \n",
       "1930  César Azpilicueta             433             71.0        10.0   \n",
       "1931         Lewis Dunk            4411             32.5        15.0   \n",
       "1932       James Milner             433             63.5        13.5   \n",
       "1933        Conor Coady             343             57.5         8.0   \n",
       "\n",
       "      Home_Corners  Home_Crosses  ...  Away_Att_Take_Ons  Away_Succ_Take_Ons  \\\n",
       "0              8.5          21.0  ...               15.0                 8.5   \n",
       "1              5.5          18.5  ...               11.5                 7.5   \n",
       "2              4.0          14.5  ...               20.0                10.5   \n",
       "3              3.5          15.5  ...               20.0                 9.5   \n",
       "4              3.0           9.5  ...               25.0                11.0   \n",
       "...            ...           ...  ...                ...                 ...   \n",
       "1929           9.5          27.0  ...                8.5                 2.5   \n",
       "1930           5.0          19.0  ...               18.5                 9.0   \n",
       "1931           4.0          12.0  ...               12.5                 7.5   \n",
       "1932           6.0          22.0  ...                7.0                 4.5   \n",
       "1933           6.0          27.0  ...               19.0                13.5   \n",
       "\n",
       "      Home_Attack  Home_Midfield  Home_Defense  Away_Attack  Away_Midfield  \\\n",
       "0       78.909091      79.636364     77.000000    74.400000      76.588235   \n",
       "1       72.714286      77.944444     78.333333    74.000000      78.916667   \n",
       "2       69.400000      71.615385     69.181818    75.833333      79.588235   \n",
       "3       78.100000      80.888889     75.272727    72.833333      71.333333   \n",
       "4       82.800000      80.846154     79.125000    74.800000      75.200000   \n",
       "...           ...            ...           ...          ...            ...   \n",
       "1929    85.250000      83.250000     83.000000    75.750000      73.230769   \n",
       "1930    85.500000      82.000000     81.750000    74.500000      75.538462   \n",
       "1931    76.000000      74.357143     75.666667    75.250000      76.909091   \n",
       "1932    84.833333      81.555556     80.500000    76.000000      74.357143   \n",
       "1933    74.428571      75.200000     73.222222    86.000000      85.300000   \n",
       "\n",
       "      Away_Defense  Home_Score  Away_Score  \n",
       "0        74.875000           2           0  \n",
       "1        77.800000           4           1  \n",
       "2        79.800000           1           2  \n",
       "3        76.857143           4           0  \n",
       "4        74.692308           2           0  \n",
       "...            ...         ...         ...  \n",
       "1929     73.333333           2           1  \n",
       "1930     74.666667           2           0  \n",
       "1931     73.000000           2           2  \n",
       "1932     75.000000           1           0  \n",
       "1933     83.000000           1           1  \n",
       "\n",
       "[1934 rows x 92 columns]"
      ]
     },
     "execution_count": 3,
     "metadata": {},
     "output_type": "execute_result"
    }
   ],
   "source": [
    "dataset_model = pd.read_csv('./data/matchs_dataset_model.csv',encoding='utf-8-sig')\n",
    "dataset_model"
   ]
  },
  {
   "cell_type": "markdown",
   "metadata": {},
   "source": [
    "Thêm attribute Result thể hiện kết quả trận đấu cho đội sân nhà với 3 trường hợp: Win, Draw, Lose"
   ]
  },
  {
   "cell_type": "code",
   "execution_count": 4,
   "metadata": {},
   "outputs": [],
   "source": [
    "list_result = ['Win' if home_score > away_score \n",
    "               else 'Draw' if home_score == away_score \n",
    "               else 'Lose' for home_score, away_score \n",
    "               in zip(dataset_model['Home_Score'], dataset_model['Away_Score'])]"
   ]
  },
  {
   "cell_type": "code",
   "execution_count": 5,
   "metadata": {},
   "outputs": [
    {
     "data": {
      "text/html": [
       "<div>\n",
       "<style scoped>\n",
       "    .dataframe tbody tr th:only-of-type {\n",
       "        vertical-align: middle;\n",
       "    }\n",
       "\n",
       "    .dataframe tbody tr th {\n",
       "        vertical-align: top;\n",
       "    }\n",
       "\n",
       "    .dataframe thead th {\n",
       "        text-align: right;\n",
       "    }\n",
       "</style>\n",
       "<table border=\"1\" class=\"dataframe\">\n",
       "  <thead>\n",
       "    <tr style=\"text-align: right;\">\n",
       "      <th></th>\n",
       "      <th>Match_Id</th>\n",
       "      <th>Match_Date</th>\n",
       "      <th>Home_Team</th>\n",
       "      <th>Home_Manager</th>\n",
       "      <th>Home_Captain</th>\n",
       "      <th>Home_Formation</th>\n",
       "      <th>Home_Possession</th>\n",
       "      <th>Home_Fouls</th>\n",
       "      <th>Home_Corners</th>\n",
       "      <th>Home_Crosses</th>\n",
       "      <th>...</th>\n",
       "      <th>Away_Succ_Take_Ons</th>\n",
       "      <th>Home_Attack</th>\n",
       "      <th>Home_Midfield</th>\n",
       "      <th>Home_Defense</th>\n",
       "      <th>Away_Attack</th>\n",
       "      <th>Away_Midfield</th>\n",
       "      <th>Away_Defense</th>\n",
       "      <th>Home_Score</th>\n",
       "      <th>Away_Score</th>\n",
       "      <th>Result</th>\n",
       "    </tr>\n",
       "  </thead>\n",
       "  <tbody>\n",
       "    <tr>\n",
       "      <th>0</th>\n",
       "      <td>8c6293a3</td>\n",
       "      <td>2023-10-23</td>\n",
       "      <td>Tottenham Hotspur</td>\n",
       "      <td>Ange Postecoglou</td>\n",
       "      <td>Son Heung-min</td>\n",
       "      <td>4231</td>\n",
       "      <td>65.0</td>\n",
       "      <td>9.0</td>\n",
       "      <td>8.5</td>\n",
       "      <td>21.0</td>\n",
       "      <td>...</td>\n",
       "      <td>8.5</td>\n",
       "      <td>78.909091</td>\n",
       "      <td>79.636364</td>\n",
       "      <td>77.000000</td>\n",
       "      <td>74.400000</td>\n",
       "      <td>76.588235</td>\n",
       "      <td>74.875000</td>\n",
       "      <td>2</td>\n",
       "      <td>0</td>\n",
       "      <td>Win</td>\n",
       "    </tr>\n",
       "    <tr>\n",
       "      <th>1</th>\n",
       "      <td>7efcc598</td>\n",
       "      <td>2023-10-22</td>\n",
       "      <td>Aston Villa</td>\n",
       "      <td>Unai Emery</td>\n",
       "      <td>John McGinn</td>\n",
       "      <td>442</td>\n",
       "      <td>46.0</td>\n",
       "      <td>14.0</td>\n",
       "      <td>5.5</td>\n",
       "      <td>18.5</td>\n",
       "      <td>...</td>\n",
       "      <td>7.5</td>\n",
       "      <td>72.714286</td>\n",
       "      <td>77.944444</td>\n",
       "      <td>78.333333</td>\n",
       "      <td>74.000000</td>\n",
       "      <td>78.916667</td>\n",
       "      <td>77.800000</td>\n",
       "      <td>4</td>\n",
       "      <td>1</td>\n",
       "      <td>Win</td>\n",
       "    </tr>\n",
       "    <tr>\n",
       "      <th>2</th>\n",
       "      <td>d95b42eb</td>\n",
       "      <td>2023-10-21</td>\n",
       "      <td>Sheffield United</td>\n",
       "      <td>Paul Heckingbottom</td>\n",
       "      <td>Oliver Norwood</td>\n",
       "      <td>442</td>\n",
       "      <td>44.0</td>\n",
       "      <td>9.5</td>\n",
       "      <td>4.0</td>\n",
       "      <td>14.5</td>\n",
       "      <td>...</td>\n",
       "      <td>10.5</td>\n",
       "      <td>69.400000</td>\n",
       "      <td>71.615385</td>\n",
       "      <td>69.181818</td>\n",
       "      <td>75.833333</td>\n",
       "      <td>79.588235</td>\n",
       "      <td>79.800000</td>\n",
       "      <td>1</td>\n",
       "      <td>2</td>\n",
       "      <td>Lose</td>\n",
       "    </tr>\n",
       "    <tr>\n",
       "      <th>3</th>\n",
       "      <td>21625dde</td>\n",
       "      <td>2023-10-21</td>\n",
       "      <td>Newcastle United</td>\n",
       "      <td>Eddie Howe</td>\n",
       "      <td>Jamaal Lascelles</td>\n",
       "      <td>433</td>\n",
       "      <td>58.5</td>\n",
       "      <td>12.5</td>\n",
       "      <td>3.5</td>\n",
       "      <td>15.5</td>\n",
       "      <td>...</td>\n",
       "      <td>9.5</td>\n",
       "      <td>78.100000</td>\n",
       "      <td>80.888889</td>\n",
       "      <td>75.272727</td>\n",
       "      <td>72.833333</td>\n",
       "      <td>71.333333</td>\n",
       "      <td>76.857143</td>\n",
       "      <td>4</td>\n",
       "      <td>0</td>\n",
       "      <td>Win</td>\n",
       "    </tr>\n",
       "    <tr>\n",
       "      <th>4</th>\n",
       "      <td>e747ddb3</td>\n",
       "      <td>2023-10-21</td>\n",
       "      <td>Liverpool</td>\n",
       "      <td>Jürgen Klopp</td>\n",
       "      <td>Virgil van Dijk</td>\n",
       "      <td>433</td>\n",
       "      <td>45.0</td>\n",
       "      <td>18.5</td>\n",
       "      <td>3.0</td>\n",
       "      <td>9.5</td>\n",
       "      <td>...</td>\n",
       "      <td>11.0</td>\n",
       "      <td>82.800000</td>\n",
       "      <td>80.846154</td>\n",
       "      <td>79.125000</td>\n",
       "      <td>74.800000</td>\n",
       "      <td>75.200000</td>\n",
       "      <td>74.692308</td>\n",
       "      <td>2</td>\n",
       "      <td>0</td>\n",
       "      <td>Win</td>\n",
       "    </tr>\n",
       "    <tr>\n",
       "      <th>...</th>\n",
       "      <td>...</td>\n",
       "      <td>...</td>\n",
       "      <td>...</td>\n",
       "      <td>...</td>\n",
       "      <td>...</td>\n",
       "      <td>...</td>\n",
       "      <td>...</td>\n",
       "      <td>...</td>\n",
       "      <td>...</td>\n",
       "      <td>...</td>\n",
       "      <td>...</td>\n",
       "      <td>...</td>\n",
       "      <td>...</td>\n",
       "      <td>...</td>\n",
       "      <td>...</td>\n",
       "      <td>...</td>\n",
       "      <td>...</td>\n",
       "      <td>...</td>\n",
       "      <td>...</td>\n",
       "      <td>...</td>\n",
       "      <td>...</td>\n",
       "    </tr>\n",
       "    <tr>\n",
       "      <th>1929</th>\n",
       "      <td>f74a4680</td>\n",
       "      <td>2018-09-01</td>\n",
       "      <td>Manchester City</td>\n",
       "      <td>Pep Guardiola</td>\n",
       "      <td>David Silva</td>\n",
       "      <td>4132</td>\n",
       "      <td>73.5</td>\n",
       "      <td>8.5</td>\n",
       "      <td>9.5</td>\n",
       "      <td>27.0</td>\n",
       "      <td>...</td>\n",
       "      <td>2.5</td>\n",
       "      <td>85.250000</td>\n",
       "      <td>83.250000</td>\n",
       "      <td>83.000000</td>\n",
       "      <td>75.750000</td>\n",
       "      <td>73.230769</td>\n",
       "      <td>73.333333</td>\n",
       "      <td>2</td>\n",
       "      <td>1</td>\n",
       "      <td>Win</td>\n",
       "    </tr>\n",
       "    <tr>\n",
       "      <th>1930</th>\n",
       "      <td>95fc9c84</td>\n",
       "      <td>2018-09-01</td>\n",
       "      <td>Chelsea</td>\n",
       "      <td>Maurizio Sarri</td>\n",
       "      <td>César Azpilicueta</td>\n",
       "      <td>433</td>\n",
       "      <td>71.0</td>\n",
       "      <td>10.0</td>\n",
       "      <td>5.0</td>\n",
       "      <td>19.0</td>\n",
       "      <td>...</td>\n",
       "      <td>9.0</td>\n",
       "      <td>85.500000</td>\n",
       "      <td>82.000000</td>\n",
       "      <td>81.750000</td>\n",
       "      <td>74.500000</td>\n",
       "      <td>75.538462</td>\n",
       "      <td>74.666667</td>\n",
       "      <td>2</td>\n",
       "      <td>0</td>\n",
       "      <td>Win</td>\n",
       "    </tr>\n",
       "    <tr>\n",
       "      <th>1931</th>\n",
       "      <td>51055c21</td>\n",
       "      <td>2018-09-01</td>\n",
       "      <td>Brighton &amp; Hove Albion</td>\n",
       "      <td>Chris Hughton</td>\n",
       "      <td>Lewis Dunk</td>\n",
       "      <td>4411</td>\n",
       "      <td>32.5</td>\n",
       "      <td>15.0</td>\n",
       "      <td>4.0</td>\n",
       "      <td>12.0</td>\n",
       "      <td>...</td>\n",
       "      <td>7.5</td>\n",
       "      <td>76.000000</td>\n",
       "      <td>74.357143</td>\n",
       "      <td>75.666667</td>\n",
       "      <td>75.250000</td>\n",
       "      <td>76.909091</td>\n",
       "      <td>73.000000</td>\n",
       "      <td>2</td>\n",
       "      <td>2</td>\n",
       "      <td>Draw</td>\n",
       "    </tr>\n",
       "    <tr>\n",
       "      <th>1932</th>\n",
       "      <td>db5e61cc</td>\n",
       "      <td>2018-08-25</td>\n",
       "      <td>Liverpool</td>\n",
       "      <td>Jürgen Klopp</td>\n",
       "      <td>James Milner</td>\n",
       "      <td>433</td>\n",
       "      <td>63.5</td>\n",
       "      <td>13.5</td>\n",
       "      <td>6.0</td>\n",
       "      <td>22.0</td>\n",
       "      <td>...</td>\n",
       "      <td>4.5</td>\n",
       "      <td>84.833333</td>\n",
       "      <td>81.555556</td>\n",
       "      <td>80.500000</td>\n",
       "      <td>76.000000</td>\n",
       "      <td>74.357143</td>\n",
       "      <td>75.000000</td>\n",
       "      <td>1</td>\n",
       "      <td>0</td>\n",
       "      <td>Win</td>\n",
       "    </tr>\n",
       "    <tr>\n",
       "      <th>1933</th>\n",
       "      <td>a25a3f33</td>\n",
       "      <td>2018-08-25</td>\n",
       "      <td>Wolverhampton Wanderers</td>\n",
       "      <td>Nuno Espírito Santo</td>\n",
       "      <td>Conor Coady</td>\n",
       "      <td>343</td>\n",
       "      <td>57.5</td>\n",
       "      <td>8.0</td>\n",
       "      <td>6.0</td>\n",
       "      <td>27.0</td>\n",
       "      <td>...</td>\n",
       "      <td>13.5</td>\n",
       "      <td>74.428571</td>\n",
       "      <td>75.200000</td>\n",
       "      <td>73.222222</td>\n",
       "      <td>86.000000</td>\n",
       "      <td>85.300000</td>\n",
       "      <td>83.000000</td>\n",
       "      <td>1</td>\n",
       "      <td>1</td>\n",
       "      <td>Draw</td>\n",
       "    </tr>\n",
       "  </tbody>\n",
       "</table>\n",
       "<p>1934 rows × 93 columns</p>\n",
       "</div>"
      ],
      "text/plain": [
       "      Match_Id  Match_Date                Home_Team         Home_Manager  \\\n",
       "0     8c6293a3  2023-10-23        Tottenham Hotspur     Ange Postecoglou   \n",
       "1     7efcc598  2023-10-22              Aston Villa           Unai Emery   \n",
       "2     d95b42eb  2023-10-21         Sheffield United   Paul Heckingbottom   \n",
       "3     21625dde  2023-10-21         Newcastle United           Eddie Howe   \n",
       "4     e747ddb3  2023-10-21                Liverpool         Jürgen Klopp   \n",
       "...        ...         ...                      ...                  ...   \n",
       "1929  f74a4680  2018-09-01          Manchester City        Pep Guardiola   \n",
       "1930  95fc9c84  2018-09-01                  Chelsea       Maurizio Sarri   \n",
       "1931  51055c21  2018-09-01   Brighton & Hove Albion        Chris Hughton   \n",
       "1932  db5e61cc  2018-08-25                Liverpool         Jürgen Klopp   \n",
       "1933  a25a3f33  2018-08-25  Wolverhampton Wanderers  Nuno Espírito Santo   \n",
       "\n",
       "           Home_Captain  Home_Formation  Home_Possession  Home_Fouls  \\\n",
       "0         Son Heung-min            4231             65.0         9.0   \n",
       "1           John McGinn             442             46.0        14.0   \n",
       "2        Oliver Norwood             442             44.0         9.5   \n",
       "3      Jamaal Lascelles             433             58.5        12.5   \n",
       "4       Virgil van Dijk             433             45.0        18.5   \n",
       "...                 ...             ...              ...         ...   \n",
       "1929        David Silva            4132             73.5         8.5   \n",
       "1930  César Azpilicueta             433             71.0        10.0   \n",
       "1931         Lewis Dunk            4411             32.5        15.0   \n",
       "1932       James Milner             433             63.5        13.5   \n",
       "1933        Conor Coady             343             57.5         8.0   \n",
       "\n",
       "      Home_Corners  Home_Crosses  ...  Away_Succ_Take_Ons  Home_Attack  \\\n",
       "0              8.5          21.0  ...                 8.5    78.909091   \n",
       "1              5.5          18.5  ...                 7.5    72.714286   \n",
       "2              4.0          14.5  ...                10.5    69.400000   \n",
       "3              3.5          15.5  ...                 9.5    78.100000   \n",
       "4              3.0           9.5  ...                11.0    82.800000   \n",
       "...            ...           ...  ...                 ...          ...   \n",
       "1929           9.5          27.0  ...                 2.5    85.250000   \n",
       "1930           5.0          19.0  ...                 9.0    85.500000   \n",
       "1931           4.0          12.0  ...                 7.5    76.000000   \n",
       "1932           6.0          22.0  ...                 4.5    84.833333   \n",
       "1933           6.0          27.0  ...                13.5    74.428571   \n",
       "\n",
       "      Home_Midfield  Home_Defense  Away_Attack  Away_Midfield  Away_Defense  \\\n",
       "0         79.636364     77.000000    74.400000      76.588235     74.875000   \n",
       "1         77.944444     78.333333    74.000000      78.916667     77.800000   \n",
       "2         71.615385     69.181818    75.833333      79.588235     79.800000   \n",
       "3         80.888889     75.272727    72.833333      71.333333     76.857143   \n",
       "4         80.846154     79.125000    74.800000      75.200000     74.692308   \n",
       "...             ...           ...          ...            ...           ...   \n",
       "1929      83.250000     83.000000    75.750000      73.230769     73.333333   \n",
       "1930      82.000000     81.750000    74.500000      75.538462     74.666667   \n",
       "1931      74.357143     75.666667    75.250000      76.909091     73.000000   \n",
       "1932      81.555556     80.500000    76.000000      74.357143     75.000000   \n",
       "1933      75.200000     73.222222    86.000000      85.300000     83.000000   \n",
       "\n",
       "      Home_Score  Away_Score  Result  \n",
       "0              2           0     Win  \n",
       "1              4           1     Win  \n",
       "2              1           2    Lose  \n",
       "3              4           0     Win  \n",
       "4              2           0     Win  \n",
       "...          ...         ...     ...  \n",
       "1929           2           1     Win  \n",
       "1930           2           0     Win  \n",
       "1931           2           2    Draw  \n",
       "1932           1           0     Win  \n",
       "1933           1           1    Draw  \n",
       "\n",
       "[1934 rows x 93 columns]"
      ]
     },
     "execution_count": 5,
     "metadata": {},
     "output_type": "execute_result"
    }
   ],
   "source": [
    "dataset_model['Result'] = list_result\n",
    "dataset_model"
   ]
  },
  {
   "cell_type": "code",
   "execution_count": 6,
   "metadata": {},
   "outputs": [],
   "source": [
    "dataset_model.to_csv('./data/matchs_with_result.csv',index=False,encoding='utf-8-sig')"
   ]
  },
  {
   "cell_type": "markdown",
   "metadata": {},
   "source": [
    "Kiểm tra số row thiếu dữ liệu, số thuộc tính input từ Home_Team đến Away_Defense"
   ]
  },
  {
   "cell_type": "code",
   "execution_count": 7,
   "metadata": {},
   "outputs": [
    {
     "name": "stdout",
     "output_type": "stream",
     "text": [
      "Tổng số trận: 1934\n",
      "Số trận bị thiếu dữ liệu: 0\n",
      "Số thuộc tính input: 88\n"
     ]
    }
   ],
   "source": [
    "nan_rows = dataset_model.isna().sum(axis=1)\n",
    "num_nan_rows = len(nan_rows[nan_rows > 0])\n",
    "print(\"Tổng số trận:\", len(dataset_model))\n",
    "print(\"Số trận bị thiếu dữ liệu:\", num_nan_rows)\n",
    "print(\"Số thuộc tính input:\", (dataset_model.columns.get_loc(\"Away_Defense\") \n",
    "                               - dataset_model.columns.get_loc(\"Home_Team\")) + 1)"
   ]
  },
  {
   "cell_type": "markdown",
   "metadata": {},
   "source": [
    "Trực quan hóa dữ liệu một vài thuộc tính"
   ]
  },
  {
   "cell_type": "code",
   "execution_count": 8,
   "metadata": {},
   "outputs": [
    {
     "data": {
      "text/plain": [
       "<Axes: >"
      ]
     },
     "execution_count": 8,
     "metadata": {},
     "output_type": "execute_result"
    },
    {
     "data": {
      "image/png": "[encoded data removed]",
      "text/plain": [
       "<Figure size 640x480 with 1 Axes>"
      ]
     },
     "metadata": {},
     "output_type": "display_data"
    }
   ],
   "source": [
    "dataset_model['Home_Attack'].hist()"
   ]
  },
  {
   "cell_type": "markdown",
   "metadata": {},
   "source": [
    "- Chỉ số tấn công của các team tập trung nhiều ở mức 75 - 80"
   ]
  },
  {
   "cell_type": "code",
   "execution_count": 9,
   "metadata": {},
   "outputs": [
    {
     "data": {
      "text/plain": [
       "<Axes: >"
      ]
     },
     "execution_count": 9,
     "metadata": {},
     "output_type": "execute_result"
    },
    {
     "data": {
      "image/png": "[encoded data removed]",
      "text/plain": [
       "<Figure size 640x480 with 1 Axes>"
      ]
     },
     "metadata": {},
     "output_type": "display_data"
    }
   ],
   "source": [
    "dataset_model['Home_Midfield'].hist()"
   ]
  },
  {
   "cell_type": "markdown",
   "metadata": {},
   "source": [
    "- Chỉ số hàng tiền vệ ở các team có mật độ dày hơn và tập trung nhiều từ 72.5 - 77.5"
   ]
  },
  {
   "cell_type": "code",
   "execution_count": 10,
   "metadata": {},
   "outputs": [
    {
     "data": {
      "text/plain": [
       "<Axes: >"
      ]
     },
     "execution_count": 10,
     "metadata": {},
     "output_type": "execute_result"
    },
    {
     "data": {
      "image/png": "[encoded data removed]",
      "text/plain": [
       "<Figure size 640x480 with 1 Axes>"
      ]
     },
     "metadata": {},
     "output_type": "display_data"
    }
   ],
   "source": [
    "dataset_model['Home_Defense'].hist()"
   ]
  },
  {
   "cell_type": "markdown",
   "metadata": {},
   "source": [
    "- Chỉ số phòng thủ của các team tập trung nhiều ở mức từ 72.5 - 77.5"
   ]
  },
  {
   "cell_type": "code",
   "execution_count": 11,
   "metadata": {},
   "outputs": [
    {
     "data": {
      "image/png": "[encoded data removed]",
      "text/plain": [
       "<Figure size 640x480 with 1 Axes>"
      ]
     },
     "metadata": {},
     "output_type": "display_data"
    }
   ],
   "source": [
    "result_frequency = dataset_model['Result'].value_counts()\n",
    "\n",
    "plt.bar(result_frequency.index, result_frequency.values)\n",
    "plt.xlabel('Result')\n",
    "plt.ylabel('Frequency')\n",
    "plt.title('Frequency of Home Team Result')\n",
    "plt.show()"
   ]
  },
  {
   "cell_type": "markdown",
   "metadata": {},
   "source": [
    "<h4>3. Kiểm tra mối tương quan, biến đổi thuộc tính</h4>"
   ]
  },
  {
   "cell_type": "markdown",
   "metadata": {},
   "source": [
    "Khởi chạy một phiên làm việc với SparkSession"
   ]
  },
  {
   "cell_type": "code",
   "execution_count": 12,
   "metadata": {},
   "outputs": [],
   "source": [
    "spark = (SparkSession\n",
    "         .builder\n",
    "         .appName(\"Classifications Technique\")\n",
    "         .getOrCreate())"
   ]
  },
  {
   "cell_type": "code",
   "execution_count": 13,
   "metadata": {},
   "outputs": [
    {
     "name": "stdout",
     "output_type": "stream",
     "text": [
      "+--------+----------+-----------------+------------------+----------------+--------------+---------------+----------+------------+------------+----------------+---------------+-------------+---------------+--------------+---------------+------------------------+------------+--------+--------+-------+-----------+-------+--------+---------+---------+------------+--------+--------+-----------+------------------+------------------+------------------+--------+--------+---------------+---------------+-----------------------+----------------+--------------------+-----------------+-----------------+------------------+-----------------+------------+---------------+--------------+---------------+----------+------------+------------+----------------+---------------+-------------+---------------+--------------+---------------+------------------------+------------+--------+--------+-------+-----------+-------+--------+---------+---------+------------+--------+--------+-----------+------------------+------------------+------------------+--------+--------+---------------+---------------+-----------------------+----------------+--------------------+-----------------+-----------------+------------------+-----------------+-----------------+-----------------+-----------------+-----------------+-----------------+----------+----------+------+\n",
      "|Match_Id|Match_Date|        Home_Team|      Home_Manager|    Home_Captain|Home_Formation|Home_Possession|Home_Fouls|Home_Corners|Home_Crosses|Home_Aerials_Won|Home_Clearances|Home_Offsides|Home_Goal_Kicks|Home_Throw_Ins|Home_Long_Balls|Home_Total_Players_Stats|Home_Minutes|Home_Gls|Home_Ast|Home_PK|Home_PK_Att|Home_Sh|Home_SoT|Home_CrdY|Home_CrdR|Home_Touches|Home_Tkl|Home_Int|Home_Blocks|           Home_xG|         Home_npxG|          Home_xAG|Home_SCA|Home_GCA|Home_Cmp_Passes|Home_Att_Passes|Home_Cmp_percent_Passes|Home_PrgP_Passes|Home_Carries_Carries|Home_PrgC_Carries|Home_Att_Take_Ons|Home_Succ_Take_Ons|        Away_Team|Away_Manager|   Away_Captain|Away_Formation|Away_Possession|Away_Fouls|Away_Corners|Away_Crosses|Away_Aerials_Won|Away_Clearances|Away_Offsides|Away_Goal_Kicks|Away_Throw_Ins|Away_Long_Balls|Away_Total_Players_Stats|Away_Minutes|Away_Gls|Away_Ast|Away_PK|Away_PK_Att|Away_Sh|Away_SoT|Away_CrdY|Away_CrdR|Away_Touches|Away_Tkl|Away_Int|Away_Blocks|           Away_xG|         Away_npxG|          Away_xAG|Away_SCA|Away_GCA|Away_Cmp_Passes|Away_Att_Passes|Away_Cmp_percent_Passes|Away_PrgP_Passes|Away_Carries_Carries|Away_PrgC_Carries|Away_Att_Take_Ons|Away_Succ_Take_Ons|      Home_Attack|    Home_Midfield|     Home_Defense|      Away_Attack|    Away_Midfield|     Away_Defense|Home_Score|Away_Score|Result|\n",
      "+--------+----------+-----------------+------------------+----------------+--------------+---------------+----------+------------+------------+----------------+---------------+-------------+---------------+--------------+---------------+------------------------+------------+--------+--------+-------+-----------+-------+--------+---------+---------+------------+--------+--------+-----------+------------------+------------------+------------------+--------+--------+---------------+---------------+-----------------------+----------------+--------------------+-----------------+-----------------+------------------+-----------------+------------+---------------+--------------+---------------+----------+------------+------------+----------------+---------------+-------------+---------------+--------------+---------------+------------------------+------------+--------+--------+-------+-----------+-------+--------+---------+---------+------------+--------+--------+-----------+------------------+------------------+------------------+--------+--------+---------------+---------------+-----------------------+----------------+--------------------+-----------------+-----------------+------------------+-----------------+-----------------+-----------------+-----------------+-----------------+-----------------+----------+----------+------+\n",
      "|8c6293a3|2023-10-23|Tottenham Hotspur|  Ange Postecoglou|   Son Heung-min|          4231|           65.0|       9.0|         8.5|        21.0|            11.5|           22.0|          4.0|            6.5|          24.5|           40.5|                    16.0|       967.0|     1.0|     1.0|    0.0|        0.0|   19.5|     6.0|      4.0|      0.5|       790.0|    21.5|    10.0|       14.5|               2.1|               2.1|1.7000000000000002|    35.5|     2.0|          565.5|          660.5|                  85.45|            71.5|               483.0|             24.5|             26.0|               9.0|           Fulham| Marco Silva|       Tim Ream|          4231|           58.0|      11.5|         8.5|        25.5|            14.5|            9.0|          2.0|            2.5|          25.0|           75.0|                    15.5|       990.0|     1.0|     0.5|    0.0|        0.0|   15.0|     4.5|      1.0|      0.0|       708.0|    20.0|    12.5|       11.5|              1.65|              1.65|               1.4|    25.0|     2.0|          487.5|          599.0|                  81.25|            47.0|               434.5|             27.5|             15.0|               8.5| 78.9090909090909|79.63636363636364|             77.0|             74.4|76.58823529411765|           74.875|         2|         0|   Win|\n",
      "|7efcc598|2023-10-22|      Aston Villa|        Unai Emery|     John McGinn|           442|           46.0|      14.0|         5.5|        18.5|             5.5|           11.0|          0.5|            6.5|          18.5|           52.5|                    14.0|       990.0|     3.0|     2.5|    0.0|        0.0|   18.5|     6.5|      3.0|      0.0|       493.0|    14.0|     7.5|       11.0|               1.6|               1.6|              1.25|    31.5|     5.5|          311.0|          397.0|                  78.25|            34.0|               275.5|             13.5|             16.5|               4.5|  West Ham United| David Moyes|     Kurt Zouma|          4231|           44.0|       8.5|         5.5|        17.0|            16.0|           14.0|          2.0|           10.0|          14.5|           69.0|                    14.0|       990.0|     2.0|     2.0|    0.0|        0.0|   12.5|     5.5|      2.0|      0.0|       535.0|    13.5|     7.5|       16.0|1.7000000000000002|1.7000000000000002|1.4500000000000002|    23.5|     4.0|          348.0|          443.0|                   77.2|            33.5|               345.5|             20.0|             11.5|               7.5|72.71428571428571|77.94444444444444|78.33333333333333|             74.0|78.91666666666667|             77.8|         4|         1|   Win|\n",
      "|d95b42eb|2023-10-21| Sheffield United|Paul Heckingbottom|  Oliver Norwood|           442|           44.0|       9.5|         4.0|        14.5|            16.5|           28.0|          2.0|            9.0|          21.0|           73.5|                    15.5|       990.0|     0.0|     0.0|    0.0|        0.0|   10.5|     2.0|      1.5|      0.0|       552.5|    17.0|     6.0|       18.5|0.8500000000000001|0.8500000000000001|               0.5|    18.0|     0.0|          328.5|          437.5|      74.19999999999999|            33.5|               242.0|              8.0|             15.5|               6.5|Manchester United|Erik ten Hag|Bruno Fernandes|          4231|           70.5|      10.0|         8.5|        34.5|            11.5|           11.0|          3.0|            4.0|          32.0|           66.5|                    16.0|       990.0|     1.0|     0.5|    0.0|        0.0|   20.0|     5.5|      1.5|      0.0|       824.0|    18.0|     7.0|        8.0|              1.35|              1.35|              1.15|    37.0|     1.5|          608.0|          721.5|                  84.15|            76.0|               527.5|             27.0|             20.0|              10.5|             69.4|71.61538461538461|69.18181818181819|75.83333333333333|79.58823529411765|             79.8|         1|         2|  Lose|\n",
      "|21625dde|2023-10-21| Newcastle United|        Eddie Howe|Jamaal Lascelles|           433|           58.5|      12.5|         3.5|        15.5|            17.0|           14.5|          1.0|            3.0|          18.5|           59.5|                    14.5|       990.0|     2.0|     1.0|    0.5|        0.5|   14.5|     4.5|      2.0|      0.0|       694.5|    14.5|     3.5|       14.5|               2.6|               2.2|               1.4|    27.0|     3.0|          497.0|          599.0|                   82.7|            41.5|               351.5|             19.0|             15.0|               7.5|   Crystal Palace| Roy Hodgson|      Joel Ward|           433|           37.5|       7.5|         3.5|        11.5|            11.5|           30.5|          0.0|            8.0|          14.5|           53.0|                    13.0|       990.0|     0.5|     0.0|    0.0|        0.0|    8.0|     2.0|      1.0|      0.0|       538.5|    22.0|    11.5|       13.0|0.8500000000000001|0.8500000000000001|              0.75|    14.5|     1.0|          324.5|          404.5|                   76.5|            27.0|               276.5|             13.0|             20.0|               9.5|             78.1|80.88888888888889|75.27272727272727|72.83333333333333|71.33333333333333|76.85714285714286|         4|         0|   Win|\n",
      "|e747ddb3|2023-10-21|        Liverpool|      Jürgen Klopp| Virgil van Dijk|           433|           45.0|      18.5|         3.0|         9.5|             7.5|           21.5|          0.5|            4.0|          18.0|           57.5|                    15.0|       946.5|     1.5|     1.0|    0.5|        0.5|   12.5|     3.5|      4.0|      1.0|       581.0|    18.5|     8.5|       16.0|1.7999999999999998|1.4500000000000002|              1.35|    25.0|     3.0|          382.5|          465.0|      81.69999999999999|            33.5|               353.0|             15.0|             17.5|               7.0|          Everton|  Sean Dyche|James Tarkowski|          4411|           57.5|      11.0|         5.5|        28.5|            26.5|           17.0|          2.0|            8.0|          30.0|           89.0|                    14.5|       990.0|     2.0|     0.5|    0.0|        0.0|   24.0|     6.0|      0.5|      0.0|       695.5|    25.5|     5.0|       18.5|               3.1|               3.1|              1.85|    41.0|     2.0|          417.0|          546.0|                   76.1|            40.0|               358.5|             21.0|             25.0|              11.0|             82.8|80.84615384615384|           79.125|             74.8|             75.2| 74.6923076923077|         2|         0|   Win|\n",
      "+--------+----------+-----------------+------------------+----------------+--------------+---------------+----------+------------+------------+----------------+---------------+-------------+---------------+--------------+---------------+------------------------+------------+--------+--------+-------+-----------+-------+--------+---------+---------+------------+--------+--------+-----------+------------------+------------------+------------------+--------+--------+---------------+---------------+-----------------------+----------------+--------------------+-----------------+-----------------+------------------+-----------------+------------+---------------+--------------+---------------+----------+------------+------------+----------------+---------------+-------------+---------------+--------------+---------------+------------------------+------------+--------+--------+-------+-----------+-------+--------+---------+---------+------------+--------+--------+-----------+------------------+------------------+------------------+--------+--------+---------------+---------------+-----------------------+----------------+--------------------+-----------------+-----------------+------------------+-----------------+-----------------+-----------------+-----------------+-----------------+-----------------+----------+----------+------+\n",
      "only showing top 5 rows\n",
      "\n"
     ]
    }
   ],
   "source": [
    "matches = (spark.read\n",
    "            .option(\"HEADER\", True)\n",
    "            .option(\"inferSchema\", True)\n",
    "            .csv(\"./data/matchs_with_result.csv\")\n",
    "           )\n",
    "matches.show(5)"
   ]
  },
  {
   "cell_type": "markdown",
   "metadata": {},
   "source": [
    "Sử dụng phương pháp One-hot Encoding để biến đổi một số thuộc tính sang numeric"
   ]
  },
  {
   "cell_type": "code",
   "execution_count": 14,
   "metadata": {},
   "outputs": [],
   "source": [
    "#Attributes không dùng tới\n",
    "unused_cols = ['Match_Id', 'Match_Date', 'Home_Manager', 'Home_Captain', \n",
    "               'Away_Manager', 'Away_Captain', 'Home_Score', 'Away_Score']\n",
    "#Output\n",
    "output_cols = ['Result']"
   ]
  },
  {
   "cell_type": "markdown",
   "metadata": {},
   "source": [
    "- Chọn các input và các input cần được One-hot Encoding"
   ]
  },
  {
   "cell_type": "code",
   "execution_count": 15,
   "metadata": {},
   "outputs": [],
   "source": [
    "input_cols = [column for column in matches.columns \n",
    "              if column not in output_cols and column not in unused_cols]\n",
    "encode_cols = ['Home_Team','Away_Team','Home_Formation','Away_Formation']"
   ]
  },
  {
   "cell_type": "code",
   "execution_count": 16,
   "metadata": {},
   "outputs": [],
   "source": [
    "def EncodedData(matches, unused_cols, output_cols, encode_cols):\n",
    "    #String Indexer\n",
    "    indexer = StringIndexer(inputCols=encode_cols, outputCols = [encode_col+ \"_Index\" for encode_col in encode_cols])\n",
    "    encoded_df = indexer.fit(matches).transform(matches)\n",
    "\n",
    "    #OneHot Encoder\n",
    "    encodeer = OneHotEncoder(inputCols=[encode_col+\"_Index\" for encode_col in encode_cols],\n",
    "                             outputCols=[encode_col+\"_Onehot\" for encode_col in encode_cols])\n",
    "    encoded_df = encodeer.fit(encoded_df).transform(encoded_df)\n",
    "\n",
    "    #Lấy ra những cột bị Index\n",
    "    indexed_cols = [encode_col +\"_Index\" for encode_col in encode_cols]\n",
    "\n",
    "    #Những cột được assembled là những cột không nằm trong unused_cols và indexed_cols và encode_cols và output_cols\n",
    "    vector_assembled_input_cols = [col for col in encoded_df.columns \n",
    "                                            if col not in unused_cols\n",
    "                                            and col not in indexed_cols\n",
    "                                            and col not in encode_cols\n",
    "                                            and col not in output_cols\n",
    "                                            ]\n",
    "    assembler = VectorAssembler(inputCols=vector_assembled_input_cols,outputCol=\"Features\")\n",
    "    encoded_df = assembler.transform(encoded_df.select('*'))\n",
    "    return encoded_df"
   ]
  },
  {
   "cell_type": "markdown",
   "metadata": {},
   "source": [
    "- Tập data sau quá trình One-hot Encoding"
   ]
  },
  {
   "cell_type": "code",
   "execution_count": 17,
   "metadata": {},
   "outputs": [
    {
     "name": "stdout",
     "output_type": "stream",
     "text": [
      "+--------+----------+--------------------+-------------------+------------------+--------------+---------------+----------+------------+------------+----------------+---------------+-------------+---------------+--------------+---------------+------------------------+------------+--------+--------+-------+-----------+-------+--------+---------+---------+------------+--------+--------+-----------+------------------+------------------+------------------+--------+--------+---------------+---------------+-----------------------+----------------+--------------------+-----------------+-----------------+------------------+--------------------+-------------------+------------------+--------------+---------------+----------+------------+------------+----------------+---------------+-------------+---------------+--------------+---------------+------------------------+------------+--------+--------+-------+-----------+-------+--------+---------+---------+------------+--------+--------+-----------+------------------+------------------+------------------+--------+--------+---------------+---------------+-----------------------+----------------+--------------------+-----------------+-----------------+------------------+-----------------+-----------------+-----------------+-----------------+-----------------+-----------------+----------+----------+------+---------------+---------------+--------------------+--------------------+----------------+----------------+---------------------+---------------------+--------------------+\n",
      "|Match_Id|Match_Date|           Home_Team|       Home_Manager|      Home_Captain|Home_Formation|Home_Possession|Home_Fouls|Home_Corners|Home_Crosses|Home_Aerials_Won|Home_Clearances|Home_Offsides|Home_Goal_Kicks|Home_Throw_Ins|Home_Long_Balls|Home_Total_Players_Stats|Home_Minutes|Home_Gls|Home_Ast|Home_PK|Home_PK_Att|Home_Sh|Home_SoT|Home_CrdY|Home_CrdR|Home_Touches|Home_Tkl|Home_Int|Home_Blocks|           Home_xG|         Home_npxG|          Home_xAG|Home_SCA|Home_GCA|Home_Cmp_Passes|Home_Att_Passes|Home_Cmp_percent_Passes|Home_PrgP_Passes|Home_Carries_Carries|Home_PrgC_Carries|Home_Att_Take_Ons|Home_Succ_Take_Ons|           Away_Team|       Away_Manager|      Away_Captain|Away_Formation|Away_Possession|Away_Fouls|Away_Corners|Away_Crosses|Away_Aerials_Won|Away_Clearances|Away_Offsides|Away_Goal_Kicks|Away_Throw_Ins|Away_Long_Balls|Away_Total_Players_Stats|Away_Minutes|Away_Gls|Away_Ast|Away_PK|Away_PK_Att|Away_Sh|Away_SoT|Away_CrdY|Away_CrdR|Away_Touches|Away_Tkl|Away_Int|Away_Blocks|           Away_xG|         Away_npxG|          Away_xAG|Away_SCA|Away_GCA|Away_Cmp_Passes|Away_Att_Passes|Away_Cmp_percent_Passes|Away_PrgP_Passes|Away_Carries_Carries|Away_PrgC_Carries|Away_Att_Take_Ons|Away_Succ_Take_Ons|      Home_Attack|    Home_Midfield|     Home_Defense|      Away_Attack|    Away_Midfield|     Away_Defense|Home_Score|Away_Score|Result|Home_Team_Index|Away_Team_Index|Home_Formation_Index|Away_Formation_Index|Home_Team_Onehot|Away_Team_Onehot|Home_Formation_Onehot|Away_Formation_Onehot|            Features|\n",
      "+--------+----------+--------------------+-------------------+------------------+--------------+---------------+----------+------------+------------+----------------+---------------+-------------+---------------+--------------+---------------+------------------------+------------+--------+--------+-------+-----------+-------+--------+---------+---------+------------+--------+--------+-----------+------------------+------------------+------------------+--------+--------+---------------+---------------+-----------------------+----------------+--------------------+-----------------+-----------------+------------------+--------------------+-------------------+------------------+--------------+---------------+----------+------------+------------+----------------+---------------+-------------+---------------+--------------+---------------+------------------------+------------+--------+--------+-------+-----------+-------+--------+---------+---------+------------+--------+--------+-----------+------------------+------------------+------------------+--------+--------+---------------+---------------+-----------------------+----------------+--------------------+-----------------+-----------------+------------------+-----------------+-----------------+-----------------+-----------------+-----------------+-----------------+----------+----------+------+---------------+---------------+--------------------+--------------------+----------------+----------------+---------------------+---------------------+--------------------+\n",
      "|8c6293a3|2023-10-23|   Tottenham Hotspur|   Ange Postecoglou|     Son Heung-min|          4231|           65.0|       9.0|         8.5|        21.0|            11.5|           22.0|          4.0|            6.5|          24.5|           40.5|                    16.0|       967.0|     1.0|     1.0|    0.0|        0.0|   19.5|     6.0|      4.0|      0.5|       790.0|    21.5|    10.0|       14.5|               2.1|               2.1|1.7000000000000002|    35.5|     2.0|          565.5|          660.5|                  85.45|            71.5|               483.0|             24.5|             26.0|               9.0|              Fulham|        Marco Silva|          Tim Ream|          4231|           58.0|      11.5|         8.5|        25.5|            14.5|            9.0|          2.0|            2.5|          25.0|           75.0|                    15.5|       990.0|     1.0|     0.5|    0.0|        0.0|   15.0|     4.5|      1.0|      0.0|       708.0|    20.0|    12.5|       11.5|              1.65|              1.65|               1.4|    25.0|     2.0|          487.5|          599.0|                  81.25|            47.0|               434.5|             27.5|             15.0|               8.5| 78.9090909090909|79.63636363636364|             77.0|             74.4|76.58823529411765|           74.875|         2|         0|   Win|            7.0|           16.0|                 0.0|                 0.0|  (27,[7],[1.0])| (27,[16],[1.0])|       (19,[0],[1.0])|       (18,[0],[1.0])|(171,[0,1,2,3,4,5...|\n",
      "|7efcc598|2023-10-22|         Aston Villa|         Unai Emery|       John McGinn|           442|           46.0|      14.0|         5.5|        18.5|             5.5|           11.0|          0.5|            6.5|          18.5|           52.5|                    14.0|       990.0|     3.0|     2.5|    0.0|        0.0|   18.5|     6.5|      3.0|      0.0|       493.0|    14.0|     7.5|       11.0|               1.6|               1.6|              1.25|    31.5|     5.5|          311.0|          397.0|                  78.25|            34.0|               275.5|             13.5|             16.5|               4.5|     West Ham United|        David Moyes|        Kurt Zouma|          4231|           44.0|       8.5|         5.5|        17.0|            16.0|           14.0|          2.0|           10.0|          14.5|           69.0|                    14.0|       990.0|     2.0|     2.0|    0.0|        0.0|   12.5|     5.5|      2.0|      0.0|       535.0|    13.5|     7.5|       16.0|1.7000000000000002|1.7000000000000002|1.4500000000000002|    23.5|     4.0|          348.0|          443.0|                   77.2|            33.5|               345.5|             20.0|             11.5|               7.5|72.71428571428571|77.94444444444444|78.33333333333333|             74.0|78.91666666666667|             77.8|         4|         1|   Win|           15.0|           11.0|                 2.0|                 0.0| (27,[15],[1.0])| (27,[11],[1.0])|       (19,[2],[1.0])|       (18,[0],[1.0])|(171,[0,1,2,3,4,5...|\n",
      "|d95b42eb|2023-10-21|    Sheffield United| Paul Heckingbottom|    Oliver Norwood|           442|           44.0|       9.5|         4.0|        14.5|            16.5|           28.0|          2.0|            9.0|          21.0|           73.5|                    15.5|       990.0|     0.0|     0.0|    0.0|        0.0|   10.5|     2.0|      1.5|      0.0|       552.5|    17.0|     6.0|       18.5|0.8500000000000001|0.8500000000000001|               0.5|    18.0|     0.0|          328.5|          437.5|      74.19999999999999|            33.5|               242.0|              8.0|             15.5|               6.5|   Manchester United|       Erik ten Hag|   Bruno Fernandes|          4231|           70.5|      10.0|         8.5|        34.5|            11.5|           11.0|          3.0|            4.0|          32.0|           66.5|                    16.0|       990.0|     1.0|     0.5|    0.0|        0.0|   20.0|     5.5|      1.5|      0.0|       824.0|    18.0|     7.0|        8.0|              1.35|              1.35|              1.15|    37.0|     1.5|          608.0|          721.5|                  84.15|            76.0|               527.5|             27.0|             20.0|              10.5|             69.4|71.61538461538461|69.18181818181819|75.83333333333333|79.58823529411765|             79.8|         1|         2|  Lose|           21.0|            7.0|                 2.0|                 0.0| (27,[21],[1.0])|  (27,[7],[1.0])|       (19,[2],[1.0])|       (18,[0],[1.0])|(171,[0,1,2,3,4,5...|\n",
      "|21625dde|2023-10-21|    Newcastle United|         Eddie Howe|  Jamaal Lascelles|           433|           58.5|      12.5|         3.5|        15.5|            17.0|           14.5|          1.0|            3.0|          18.5|           59.5|                    14.5|       990.0|     2.0|     1.0|    0.5|        0.5|   14.5|     4.5|      2.0|      0.0|       694.5|    14.5|     3.5|       14.5|               2.6|               2.2|               1.4|    27.0|     3.0|          497.0|          599.0|                   82.7|            41.5|               351.5|             19.0|             15.0|               7.5|      Crystal Palace|        Roy Hodgson|         Joel Ward|           433|           37.5|       7.5|         3.5|        11.5|            11.5|           30.5|          0.0|            8.0|          14.5|           53.0|                    13.0|       990.0|     0.5|     0.0|    0.0|        0.0|    8.0|     2.0|      1.0|      0.0|       538.5|    22.0|    11.5|       13.0|0.8500000000000001|0.8500000000000001|              0.75|    14.5|     1.0|          324.5|          404.5|                   76.5|            27.0|               276.5|             13.0|             20.0|               9.5|             78.1|80.88888888888889|75.27272727272727|72.83333333333333|71.33333333333333|76.85714285714286|         4|         0|   Win|            6.0|            5.0|                 1.0|                 1.0|  (27,[6],[1.0])|  (27,[5],[1.0])|       (19,[1],[1.0])|       (18,[1],[1.0])|(171,[0,1,2,3,4,5...|\n",
      "|e747ddb3|2023-10-21|           Liverpool|       Jürgen Klopp|   Virgil van Dijk|           433|           45.0|      18.5|         3.0|         9.5|             7.5|           21.5|          0.5|            4.0|          18.0|           57.5|                    15.0|       946.5|     1.5|     1.0|    0.5|        0.5|   12.5|     3.5|      4.0|      1.0|       581.0|    18.5|     8.5|       16.0|1.7999999999999998|1.4500000000000002|              1.35|    25.0|     3.0|          382.5|          465.0|      81.69999999999999|            33.5|               353.0|             15.0|             17.5|               7.0|             Everton|         Sean Dyche|   James Tarkowski|          4411|           57.5|      11.0|         5.5|        28.5|            26.5|           17.0|          2.0|            8.0|          30.0|           89.0|                    14.5|       990.0|     2.0|     0.5|    0.0|        0.0|   24.0|     6.0|      0.5|      0.0|       695.5|    25.5|     5.0|       18.5|               3.1|               3.1|              1.85|    41.0|     2.0|          417.0|          546.0|                   76.1|            40.0|               358.5|             21.0|             25.0|              11.0|             82.8|80.84615384615384|           79.125|             74.8|             75.2| 74.6923076923077|         2|         0|   Win|           11.0|            6.0|                 1.0|                 6.0| (27,[11],[1.0])|  (27,[6],[1.0])|       (19,[1],[1.0])|       (18,[6],[1.0])|(171,[0,1,2,3,4,5...|\n",
      "|007b352e|2023-10-21|         Bournemouth|      Andoni Iraola|              Neto|          4231|           47.5|      13.0|         6.5|        16.5|            11.0|           17.5|          1.0|            7.5|          20.5|           64.5|                    16.0|       990.0|     0.0|     0.0|    0.0|        0.0|    9.5|     2.0|      1.0|      0.0|       582.5|    18.0|     7.5|       14.0|0.6499999999999999|0.6499999999999999|              0.55|    18.0|     0.0|          361.0|          457.0|                   79.0|            31.5|               341.0|             22.5|             27.0|              13.0|Wolverhampton Wan...|        Gary O'Neil|        Max Kilman|           343|           39.5|      18.5|         1.0|         8.0|             7.5|           27.0|          2.5|            8.0|          11.5|           54.5|                    15.0|       989.5|     1.0|     1.0|    0.0|        0.0|    5.5|     2.0|      4.5|      0.5|       450.0|    12.5|     7.5|       16.5|              1.05|              1.05|               1.0|     9.5|     2.0|          261.5|          344.5|                   75.8|            16.0|               271.5|             16.0|             16.0|               9.0|             73.2|74.29411764705883|           73.875|73.85714285714286|72.35714285714286|             75.5|         1|         2|  Lose|           16.0|            2.0|                 0.0|                 3.0| (27,[16],[1.0])|  (27,[2],[1.0])|       (19,[0],[1.0])|       (18,[3],[1.0])|(171,[0,1,2,3,4,5...|\n",
      "|a1c336e2|2023-10-21|             Chelsea|Mauricio Pochettino|   Conor Gallagher|          4231|           53.0|      10.0|         2.0|         8.5|             8.5|           19.0|          3.0|            1.5|          17.5|           49.5|                    15.0|       990.0|     2.5|     1.5|    0.5|        0.5|    9.5|     4.0|      4.0|      0.0|       705.5|    23.0|     8.5|       11.5|1.7999999999999998|               1.4|              1.05|    16.0|     4.5|          524.0|          595.5|                  87.45|            31.5|               447.5|             19.0|             20.0|               8.0|             Arsenal|       Mikel Arteta|   Martin Ødegaard|           433|           53.0|       9.0|         5.5|         7.5|             7.0|           11.5|          1.0|            3.5|          14.5|           47.5|                    15.5|       990.0|     2.5|     1.0|    1.0|        1.0|   12.5|     4.0|      1.5|      0.0|       662.0|    24.0|     9.0|       16.5|              1.95|              1.15|               0.7|    25.5|     4.5|          474.5|          549.5|                  86.35|            32.5|               435.5|             16.5|             18.5|               8.5|75.55555555555556|77.92307692307692|            77.25|79.76923076923077|83.07692307692308|           79.625|         2|         2|  Draw|            5.0|           10.0|                 0.0|                 1.0|  (27,[5],[1.0])| (27,[10],[1.0])|       (19,[0],[1.0])|       (18,[1],[1.0])|(171,[0,1,2,3,4,5...|\n",
      "|52781f37|2023-10-21|           Brentford|       Thomas Frank|Christian Nørgaard|           433|           47.5|      13.5|         8.0|        18.5|            17.0|           27.5|          0.5|            7.5|          19.5|           63.0|                    15.0|       990.0|     1.0|     1.0|    0.0|        0.0|   14.5|     3.0|      3.5|      0.0|       607.0|    14.5|    13.0|       10.5|              1.35|              1.35|               1.1|    24.5|     1.0|          388.5|          494.0|                   77.1|            36.0|               348.0|             19.0|             10.0|               5.0|             Burnley|    Vincent Kompany|       Josh Cullen|          4231|           44.5|       8.5|         6.5|        10.5|            16.5|           24.0|          3.5|            8.5|          20.5|           75.5|                    15.5|       990.0|     1.5|     1.5|    0.0|        0.0|   12.0|     3.5|      2.0|      0.0|       559.0|    19.5|     5.5|       10.5|              0.95|              0.95|               0.8|    21.0|     3.0|          333.0|          442.0|                  75.45|            18.5|               306.5|             15.0|             23.5|               8.0|           69.625|70.92307692307692|             74.0|           72.125|73.44444444444444|72.88888888888889|         3|         0|   Win|           20.0|           15.0|                 1.0|                 0.0| (27,[20],[1.0])| (27,[15],[1.0])|       (19,[1],[1.0])|       (18,[0],[1.0])|(171,[0,1,2,3,4,5...|\n",
      "|d1671efa|2023-10-21|   Nottingham Forest|       Steve Cooper|      Serge Aurier|           433|           44.5|       9.0|         4.0|        15.0|            14.0|           31.5|          2.0|            8.5|          16.5|           64.5|                    16.0|       972.5|     0.5|     0.5|    0.0|        0.0|   11.0|     3.0|      2.0|      0.5|       596.5|    18.5|     7.5|       14.0|               0.8|               0.8|               0.6|    19.0|     1.0|          390.0|          482.5|                   80.5|            30.0|               316.0|             14.0|             16.5|               9.0|          Luton Town|        Rob Edwards|       Tom Lockyer|           442|           41.5|      15.0|         6.0|        28.5|            22.0|           21.0|          3.5|           10.0|          25.0|           93.5|                    15.0|       990.0|     0.5|     0.5|    0.0|        0.0|   15.0|     2.0|      3.0|      0.0|       501.5|    20.0|    10.0|       15.0|              1.05|              1.05|              0.75|    26.5|     1.0|          243.5|          371.5|                  65.25|            29.0|               203.5|             15.0|             17.5|               8.5|             74.0|74.84615384615384|74.42857142857143|70.28571428571429|             72.2|71.72727272727273|         2|         2|  Draw|           23.0|           27.0|                 1.0|                 2.0| (27,[23],[1.0])|      (27,[],[])|       (19,[1],[1.0])|       (18,[2],[1.0])|(171,[0,1,2,3,4,5...|\n",
      "|b782a834|2023-10-21|     Manchester City|      Pep Guardiola|       Kyle Walker|          3241|           59.5|       9.5|         5.0|        15.5|             5.0|           11.5|          0.0|            4.0|          19.0|           44.5|                    14.0|       990.0|     0.5|     0.0|    0.0|        0.0|   13.5|     4.0|      3.5|      0.0|       685.0|    18.5|     4.5|        8.5|               0.7|               0.7|              0.55|    24.0|     1.0|          512.5|          597.0|      85.80000000000001|            48.0|               439.5|             27.5|             19.0|              10.0|Brighton & Hove A...|   Roberto De Zerbi|        Lewis Dunk|          4231|           53.5|      16.5|         5.5|        12.0|             6.5|           13.5|          3.5|            2.5|          15.0|           43.5|                    15.0|       990.0|     1.5|     1.0|    0.0|        0.0|   12.5|     3.0|      2.5|      0.0|       605.0|    18.0|    10.5|       12.5|               2.0|               2.0|               1.5|    24.0|     2.5|          428.0|          502.0|                   85.1|            33.0|               386.0|             18.0|             25.0|              11.5|             81.7|             80.8|             80.8|75.33333333333333|74.46666666666667|           77.125|         2|         1|   Win|            2.0|            3.0|                17.0|                 0.0|  (27,[2],[1.0])|  (27,[3],[1.0])|      (19,[17],[1.0])|       (18,[0],[1.0])|(171,[0,1,2,3,4,5...|\n",
      "|59cd18ae|2023-10-08|             Arsenal|       Mikel Arteta|   Martin Ødegaard|           433|           52.0|      11.0|         8.5|        12.0|            11.5|           13.0|          1.0|            2.5|          14.5|           49.0|                    15.5|       990.0|     2.5|     0.5|    1.5|        1.5|   12.5|     5.0|      2.0|      0.0|       607.5|    26.0|    10.0|       17.0|              2.75|1.5499999999999998|               0.8|    24.5|     4.0|          420.5|          493.5|                   84.8|            31.5|               381.5|             18.5|             17.0|               9.0|     Manchester City|      Pep Guardiola|       Kyle Walker|           433|           62.5|       8.5|         6.0|        16.0|             4.5|           14.5|          0.0|            5.5|          20.0|           50.5|                    14.0|       967.5|     1.5|     1.0|    0.0|        0.0|   15.0|     6.0|      3.5|      0.5|       710.5|    11.5|     5.0|        8.5|               1.1|               1.1|0.8500000000000001|    27.5|     3.0|          541.0|          622.0|                   87.0|            49.5|               463.5|             26.0|             19.0|              10.0|79.36363636363636|82.28571428571429|           79.625| 80.0909090909091|79.53846153846153|             80.8|         1|         0|   Win|            0.0|            1.0|                 1.0|                 1.0|  (27,[0],[1.0])|  (27,[1],[1.0])|       (19,[1],[1.0])|       (18,[1],[1.0])|(171,[0,1,2,3,4,5...|\n",
      "|3b1ec657|2023-10-08|Brighton & Hove A...|   Roberto De Zerbi|        Lewis Dunk|          4231|           61.0|      16.5|         3.5|        11.5|             9.5|           13.5|          3.5|            0.0|          13.0|           47.5|                    16.0|       990.0|     1.5|     1.5|    0.0|        0.0|   12.0|     3.5|      3.5|      0.0|       664.0|    21.5|     9.0|       11.0|1.7999999999999998|1.7999999999999998|1.7000000000000002|    21.5|     3.0|          473.5|          550.0|                   86.1|            35.5|               402.5|             15.0|             22.0|               8.5|           Liverpool|       Jürgen Klopp|   Virgil van Dijk|           433|           49.5|      14.5|         6.0|        15.5|            17.5|           22.0|          1.5|            3.0|          20.0|           61.5|                    15.5|       946.5|     2.0|     1.5|    0.5|        0.5|   16.5|     5.0|      3.0|      1.0|       674.0|    16.0|     7.5|       16.5|              2.15|              1.75|1.7000000000000002|    31.5|     3.5|          457.0|          548.5|                  82.05|            48.5|               444.5|             23.5|             21.0|               8.0|75.33333333333333|73.33333333333333|77.14285714285714|             79.5|             80.5|75.41666666666667|         2|         2|  Draw|            1.0|            0.0|                 0.0|                 1.0|  (27,[1],[1.0])|  (27,[0],[1.0])|       (19,[0],[1.0])|       (18,[1],[1.0])|(171,[0,1,2,3,4,5...|\n",
      "|3292ed35|2023-10-08|Wolverhampton Wan...|        Gary O'Neil|        Max Kilman|           343|           37.5|      17.5|         0.5|         6.0|            13.0|           34.0|          1.5|           11.5|          11.0|           64.0|                    15.5|       964.0|     1.0|     0.5|    0.0|        0.0|    3.0|     2.0|      3.5|      0.5|       472.5|    13.0|     7.0|       20.5|               0.5|               0.5|              0.25|     4.5|     1.0|          252.0|          343.0|                  73.65|            15.0|               283.0|             11.5|             19.0|               8.5|         Aston Villa|         Unai Emery|       John McGinn|           442|           43.0|      15.0|         6.0|        14.5|             6.0|           14.0|          0.5|            7.0|          19.0|           60.5|                    15.0|       990.0|     3.0|     2.0|    0.0|        0.0|   17.0|     8.0|      3.5|      0.0|       505.0|    21.0|     6.5|       14.5|              1.35|              1.35|               1.0|    26.0|     5.0|          308.0|          390.5|                  78.75|            30.0|               305.5|             18.0|             22.0|               8.5|76.33333333333333|74.78571428571429|75.85714285714286|76.33333333333333|79.11764705882354|78.33333333333333|         1|         1|  Draw|            4.0|           14.0|                 3.0|                 2.0|  (27,[4],[1.0])| (27,[14],[1.0])|       (19,[3],[1.0])|       (18,[2],[1.0])|(171,[0,1,2,3,4,5...|\n",
      "|017c9ca5|2023-10-08|     West Ham United|        David Moyes|        Kurt Zouma|          4231|           44.5|       9.5|         5.5|        18.0|            12.5|           24.5|          1.5|           11.0|          16.5|           63.5|                    14.5|       990.0|     1.5|     1.5|    0.0|        0.0|   15.5|     6.0|      1.5|      0.0|       582.5|    20.0|     7.5|       20.5|              1.65|              1.65|              1.35|    28.5|     3.0|          375.0|          464.0|      80.30000000000001|            28.5|               327.5|             16.5|             16.5|              11.5|    Newcastle United|         Eddie Howe|  Jamaal Lascelles|           433|           55.5|       7.5|         5.0|        17.5|            15.0|            9.0|          1.0|            4.0|          17.5|           56.5|                    15.5|       990.0|     5.0|     3.5|    0.5|        0.5|   20.5|    10.5|      0.5|      0.0|       716.0|    20.0|     5.5|       15.5|              3.55|              3.15|               2.2|    36.0|     8.0|          495.0|          597.5|                   82.6|            47.0|               395.0|             18.5|             17.0|               9.5|74.33333333333333| 78.6923076923077|            77.75|78.42857142857143|           80.375|74.57142857142857|         2|         2|  Draw|            8.0|            8.0|                 0.0|                 1.0|  (27,[8],[1.0])|  (27,[8],[1.0])|       (19,[0],[1.0])|       (18,[1],[1.0])|(171,[0,1,2,3,4,5...|\n",
      "|497b9558|2023-10-07|             Everton|         Sean Dyche|   James Tarkowski|          4411|           55.0|      10.0|         3.5|        26.0|            29.0|           18.0|          1.5|            6.0|          29.5|           86.0|                    14.0|       990.0|     2.0|     1.5|    0.0|        0.0|   20.5|     5.0|      1.0|      0.0|       693.5|    19.5|     6.0|       18.0|               2.8|               2.8|              1.95|    36.0|     3.5|          434.5|          561.0|      77.44999999999999|            42.5|               364.0|             19.5|             19.0|               7.0|         Bournemouth|      Andoni Iraola|              Neto|          4231|           41.0|      14.0|         5.0|        12.0|             3.5|           10.0|          1.5|            4.5|          16.0|           55.0|                    16.0|       990.0|     0.5|     0.5|    0.0|        0.0|   10.0|     2.0|      1.5|      0.0|       498.0|    19.5|     9.5|       13.0|0.8500000000000001|0.8500000000000001|              0.45|    16.5|     0.0|          300.0|          388.5|      77.05000000000001|            23.5|               322.0|             21.0|             30.5|              15.0|             74.8|74.92307692307692| 74.6923076923077|72.66666666666667|75.16666666666667|74.16666666666667|         3|         0|   Win|           10.0|           17.0|                 6.0|                 0.0| (27,[10],[1.0])| (27,[17],[1.0])|       (19,[6],[1.0])|       (18,[0],[1.0])|(171,[0,1,2,3,4,5...|\n",
      "|d021f28f|2023-10-07|          Luton Town|        Rob Edwards|       Tom Lockyer|           442|           41.0|      12.0|         6.5|        21.5|            30.0|           23.5|          3.0|           14.0|          27.5|          103.5|                    14.5|       990.0|     1.5|     1.0|    0.0|        0.0|   13.5|     2.0|      2.5|      0.0|       518.5|    19.0|     9.0|       14.0|               1.1|               1.1|               0.7|    24.5|     2.5|          232.0|          379.0|                   60.2|            27.5|               198.5|             12.5|             18.0|               7.0|   Tottenham Hotspur|   Ange Postecoglou|     Son Heung-min|          4231|           58.5|      15.0|         7.5|        19.5|             8.0|           18.5|          3.5|            6.5|          18.5|           32.0|                    15.0|       990.0|     1.5|     1.5|    0.0|        0.0|   18.5|     6.5|      4.5|      0.0|       714.0|    25.5|     8.5|       12.0|              1.85|              1.85|              1.35|    34.0|     3.0|          516.5|          602.0|                   85.4|            56.5|               439.5|             22.5|             21.5|               7.5|70.28571428571429|             71.5|69.84615384615384|79.55555555555556|79.53846153846153|78.41666666666667|         0|         1|  Lose|           27.0|            9.0|                 2.0|                 0.0|      (27,[],[])|  (27,[9],[1.0])|       (19,[2],[1.0])|       (18,[0],[1.0])|(171,[0,1,2,3,4,5...|\n",
      "|5006142a|2023-10-07|   Manchester United|       Erik ten Hag|   Bruno Fernandes|          4231|           58.0|      11.0|         7.5|        22.5|            10.5|           20.0|          2.5|            5.0|          23.5|           58.5|                    14.5|       990.0|     0.5|     0.5|    0.0|        0.0|   15.0|     3.5|      2.5|      0.0|       729.0|    22.5|     5.5|        9.5|              1.15|              1.15|               1.0|    26.0|     1.0|          515.0|          623.5|                   81.6|            55.5|               421.5|             24.0|             15.5|               7.5|           Brentford|       Thomas Frank|Christian Nørgaard|           352|           58.0|       9.5|         6.0|        20.0|            21.0|           13.5|          2.0|            8.5|          22.5|           64.0|                    15.5|       990.0|     1.0|     1.0|    0.0|        0.0|   15.0|     2.5|      2.0|      0.0|       734.5|    15.5|     8.5|       10.5|              1.35|              1.35|              0.95|    25.5|     2.0|          517.5|          633.0|                  81.75|            49.0|               477.5|             18.0|             16.5|               6.0|75.83333333333333|80.11111111111111|             78.5|           69.625|70.92307692307692|74.07692307692308|         2|         1|   Win|            3.0|           20.0|                 0.0|                 4.0|  (27,[3],[1.0])| (27,[20],[1.0])|       (19,[0],[1.0])|       (18,[4],[1.0])|(171,[0,1,2,3,4,5...|\n",
      "|cfd83ca3|2023-10-07|             Burnley|    Vincent Kompany|    Josh Brownhill|           433|           49.0|      10.5|         4.5|         9.0|            15.0|           30.5|          3.0|           10.5|          20.0|           83.5|                    15.5|       990.0|     1.0|     1.0|    0.0|        0.0|   11.0|     3.0|      2.5|      0.0|       598.5|    14.0|     5.5|       15.0|               0.9|               0.9|               0.8|    18.0|     2.0|          352.0|          476.0|                   73.7|            19.0|               330.0|             16.5|             22.0|               8.5|             Chelsea|Mauricio Pochettino|   Conor Gallagher|           433|           48.5|      10.5|         3.0|         9.0|            11.0|           28.5|          7.0|            3.0|          17.5|           48.0|                    15.5|       973.5|     1.0|     0.5|    0.0|        0.0|   10.5|     4.0|      3.0|      0.5|       610.5|    23.5|     6.0|       12.5|               1.5|               1.5|              1.15|    15.5|     1.5|          410.5|          492.5|                  83.35|            31.0|               413.0|             26.0|             20.5|               8.5|             71.0|72.36842105263158|72.54545454545455|           77.625|             77.0|77.57142857142857|         1|         4|  Lose|           14.0|            4.0|                 1.0|                 1.0| (27,[14],[1.0])|  (27,[4],[1.0])|       (19,[1],[1.0])|       (18,[1],[1.0])|(171,[0,1,2,3,4,5...|\n",
      "|ffc59ea8|2023-10-07|              Fulham|        Marco Silva|          Tim Ream|           433|           52.5|      15.0|         5.0|        20.0|            12.5|           12.5|          1.5|            3.0|          18.0|           65.0|                    14.5|       990.0|     0.0|     0.0|    0.0|        0.0|   10.0|     4.0|      1.5|      0.0|       665.0|    21.5|    11.0|        9.5|0.8500000000000001|0.8500000000000001|              0.75|    19.0|     0.0|          467.0|          559.5|                   83.2|            48.5|               379.5|             22.5|             11.5|               5.0|    Sheffield United| Paul Heckingbottom|      Chris Basham|           352|           45.0|      10.5|         3.0|        12.0|            12.0|           22.0|          3.0|            7.0|          19.5|           63.0|                    15.5|       990.0|     0.0|     0.0|    0.0|        0.0|   12.5|     1.5|      2.5|      0.0|       591.0|    16.5|     6.5|       13.0|               1.0|               1.0|              0.65|    22.0|     0.0|          384.5|          483.5|      79.44999999999999|            38.5|               278.5|             11.0|             15.0|               7.5|             74.4|76.58823529411765|75.22222222222223|             69.4|71.72727272727273|70.46153846153847|         3|         1|   Win|           17.0|           21.0|                 1.0|                 4.0| (27,[17],[1.0])| (27,[21],[1.0])|       (19,[1],[1.0])|       (18,[4],[1.0])|(171,[0,1,2,3,4,5...|\n",
      "|1828106c|2023-10-07|      Crystal Palace|        Roy Hodgson|        Marc Guéhi|           433|           37.0|       9.0|         3.5|        12.5|            13.0|           32.0|          1.5|            8.5|          18.5|           57.5|                    13.0|       990.0|     0.5|     0.0|    0.0|        0.0|    7.5|     2.5|      2.5|      0.0|       516.5|    20.0|    11.0|       13.0|               0.6|               0.6|               0.5|    13.5|     1.0|          288.5|          384.5|                   72.9|            25.0|               248.0|             11.5|             26.0|              12.5|   Nottingham Forest|       Steve Cooper|      Serge Aurier|           433|           42.0|      11.5|         3.5|        14.5|            11.0|           27.0|          2.5|            7.0|          16.5|           56.5|                    16.0|       972.5|     0.5|     0.5|    0.0|        0.0|    8.0|     2.0|      5.0|      0.5|       552.0|    17.5|     7.0|       13.0|              0.75|              0.75|              0.65|    14.0|     1.0|          353.0|          446.5|                  79.05|            31.0|               317.0|             16.0|             11.0|               6.5|             72.5|69.55555555555556|             76.0|74.33333333333333|77.44444444444444|             75.0|         0|         0|  Draw|            9.0|           23.0|                 1.0|                 1.0|  (27,[9],[1.0])| (27,[23],[1.0])|       (19,[1],[1.0])|       (18,[1],[1.0])|(171,[0,1,2,3,4,5...|\n",
      "+--------+----------+--------------------+-------------------+------------------+--------------+---------------+----------+------------+------------+----------------+---------------+-------------+---------------+--------------+---------------+------------------------+------------+--------+--------+-------+-----------+-------+--------+---------+---------+------------+--------+--------+-----------+------------------+------------------+------------------+--------+--------+---------------+---------------+-----------------------+----------------+--------------------+-----------------+-----------------+------------------+--------------------+-------------------+------------------+--------------+---------------+----------+------------+------------+----------------+---------------+-------------+---------------+--------------+---------------+------------------------+------------+--------+--------+-------+-----------+-------+--------+---------+---------+------------+--------+--------+-----------+------------------+------------------+------------------+--------+--------+---------------+---------------+-----------------------+----------------+--------------------+-----------------+-----------------+------------------+-----------------+-----------------+-----------------+-----------------+-----------------+-----------------+----------+----------+------+---------------+---------------+--------------------+--------------------+----------------+----------------+---------------------+---------------------+--------------------+\n",
      "only showing top 20 rows\n",
      "\n"
     ]
    }
   ],
   "source": [
    "encoded_matches = EncodedData(matches,unused_cols,output_cols,encode_cols)\n",
    "encoded_matches.show()"
   ]
  },
  {
   "cell_type": "code",
   "execution_count": 18,
   "metadata": {},
   "outputs": [
    {
     "data": {
      "text/plain": [
       "[('Match_Id', 'string'),\n",
       " ('Match_Date', 'date'),\n",
       " ('Home_Team', 'string'),\n",
       " ('Home_Manager', 'string'),\n",
       " ('Home_Captain', 'string'),\n",
       " ('Home_Formation', 'int'),\n",
       " ('Home_Possession', 'double'),\n",
       " ('Home_Fouls', 'double'),\n",
       " ('Home_Corners', 'double'),\n",
       " ('Home_Crosses', 'double'),\n",
       " ('Home_Aerials_Won', 'double'),\n",
       " ('Home_Clearances', 'double'),\n",
       " ('Home_Offsides', 'double'),\n",
       " ('Home_Goal_Kicks', 'double'),\n",
       " ('Home_Throw_Ins', 'double'),\n",
       " ('Home_Long_Balls', 'double'),\n",
       " ('Home_Total_Players_Stats', 'double'),\n",
       " ('Home_Minutes', 'double'),\n",
       " ('Home_Gls', 'double'),\n",
       " ('Home_Ast', 'double'),\n",
       " ('Home_PK', 'double'),\n",
       " ('Home_PK_Att', 'double'),\n",
       " ('Home_Sh', 'double'),\n",
       " ('Home_SoT', 'double'),\n",
       " ('Home_CrdY', 'double'),\n",
       " ('Home_CrdR', 'double'),\n",
       " ('Home_Touches', 'double'),\n",
       " ('Home_Tkl', 'double'),\n",
       " ('Home_Int', 'double'),\n",
       " ('Home_Blocks', 'double'),\n",
       " ('Home_xG', 'double'),\n",
       " ('Home_npxG', 'double'),\n",
       " ('Home_xAG', 'double'),\n",
       " ('Home_SCA', 'double'),\n",
       " ('Home_GCA', 'double'),\n",
       " ('Home_Cmp_Passes', 'double'),\n",
       " ('Home_Att_Passes', 'double'),\n",
       " ('Home_Cmp_percent_Passes', 'double'),\n",
       " ('Home_PrgP_Passes', 'double'),\n",
       " ('Home_Carries_Carries', 'double'),\n",
       " ('Home_PrgC_Carries', 'double'),\n",
       " ('Home_Att_Take_Ons', 'double'),\n",
       " ('Home_Succ_Take_Ons', 'double'),\n",
       " ('Away_Team', 'string'),\n",
       " ('Away_Manager', 'string'),\n",
       " ('Away_Captain', 'string'),\n",
       " ('Away_Formation', 'int'),\n",
       " ('Away_Possession', 'double'),\n",
       " ('Away_Fouls', 'double'),\n",
       " ('Away_Corners', 'double'),\n",
       " ('Away_Crosses', 'double'),\n",
       " ('Away_Aerials_Won', 'double'),\n",
       " ('Away_Clearances', 'double'),\n",
       " ('Away_Offsides', 'double'),\n",
       " ('Away_Goal_Kicks', 'double'),\n",
       " ('Away_Throw_Ins', 'double'),\n",
       " ('Away_Long_Balls', 'double'),\n",
       " ('Away_Total_Players_Stats', 'double'),\n",
       " ('Away_Minutes', 'double'),\n",
       " ('Away_Gls', 'double'),\n",
       " ('Away_Ast', 'double'),\n",
       " ('Away_PK', 'double'),\n",
       " ('Away_PK_Att', 'double'),\n",
       " ('Away_Sh', 'double'),\n",
       " ('Away_SoT', 'double'),\n",
       " ('Away_CrdY', 'double'),\n",
       " ('Away_CrdR', 'double'),\n",
       " ('Away_Touches', 'double'),\n",
       " ('Away_Tkl', 'double'),\n",
       " ('Away_Int', 'double'),\n",
       " ('Away_Blocks', 'double'),\n",
       " ('Away_xG', 'double'),\n",
       " ('Away_npxG', 'double'),\n",
       " ('Away_xAG', 'double'),\n",
       " ('Away_SCA', 'double'),\n",
       " ('Away_GCA', 'double'),\n",
       " ('Away_Cmp_Passes', 'double'),\n",
       " ('Away_Att_Passes', 'double'),\n",
       " ('Away_Cmp_percent_Passes', 'double'),\n",
       " ('Away_PrgP_Passes', 'double'),\n",
       " ('Away_Carries_Carries', 'double'),\n",
       " ('Away_PrgC_Carries', 'double'),\n",
       " ('Away_Att_Take_Ons', 'double'),\n",
       " ('Away_Succ_Take_Ons', 'double'),\n",
       " ('Home_Attack', 'double'),\n",
       " ('Home_Midfield', 'double'),\n",
       " ('Home_Defense', 'double'),\n",
       " ('Away_Attack', 'double'),\n",
       " ('Away_Midfield', 'double'),\n",
       " ('Away_Defense', 'double'),\n",
       " ('Home_Score', 'int'),\n",
       " ('Away_Score', 'int'),\n",
       " ('Result', 'string'),\n",
       " ('Home_Team_Index', 'double'),\n",
       " ('Away_Team_Index', 'double'),\n",
       " ('Home_Formation_Index', 'double'),\n",
       " ('Away_Formation_Index', 'double'),\n",
       " ('Home_Team_Onehot', 'vector'),\n",
       " ('Away_Team_Onehot', 'vector'),\n",
       " ('Home_Formation_Onehot', 'vector'),\n",
       " ('Away_Formation_Onehot', 'vector'),\n",
       " ('Features', 'vector')]"
      ]
     },
     "execution_count": 18,
     "metadata": {},
     "output_type": "execute_result"
    }
   ],
   "source": [
    "encoded_matches.dtypes"
   ]
  },
  {
   "cell_type": "markdown",
   "metadata": {},
   "source": [
    "Thêm attribute Label ứng với 3 nhãn Result: Win (0.0), Lose (1.0), Draw (2.0)"
   ]
  },
  {
   "cell_type": "code",
   "execution_count": 19,
   "metadata": {},
   "outputs": [
    {
     "name": "stdout",
     "output_type": "stream",
     "text": [
      "+--------+----------+-----------------+------------------+----------------+--------------+---------------+----------+------------+------------+----------------+---------------+-------------+---------------+--------------+---------------+------------------------+------------+--------+--------+-------+-----------+-------+--------+---------+---------+------------+--------+--------+-----------+------------------+------------------+------------------+--------+--------+---------------+---------------+-----------------------+----------------+--------------------+-----------------+-----------------+------------------+-----------------+------------+---------------+--------------+---------------+----------+------------+------------+----------------+---------------+-------------+---------------+--------------+---------------+------------------------+------------+--------+--------+-------+-----------+-------+--------+---------+---------+------------+--------+--------+-----------+------------------+------------------+------------------+--------+--------+---------------+---------------+-----------------------+----------------+--------------------+-----------------+-----------------+------------------+-----------------+-----------------+-----------------+-----------------+-----------------+-----------------+----------+----------+------+---------------+---------------+--------------------+--------------------+----------------+----------------+---------------------+---------------------+--------------------+-----+\n",
      "|Match_Id|Match_Date|        Home_Team|      Home_Manager|    Home_Captain|Home_Formation|Home_Possession|Home_Fouls|Home_Corners|Home_Crosses|Home_Aerials_Won|Home_Clearances|Home_Offsides|Home_Goal_Kicks|Home_Throw_Ins|Home_Long_Balls|Home_Total_Players_Stats|Home_Minutes|Home_Gls|Home_Ast|Home_PK|Home_PK_Att|Home_Sh|Home_SoT|Home_CrdY|Home_CrdR|Home_Touches|Home_Tkl|Home_Int|Home_Blocks|           Home_xG|         Home_npxG|          Home_xAG|Home_SCA|Home_GCA|Home_Cmp_Passes|Home_Att_Passes|Home_Cmp_percent_Passes|Home_PrgP_Passes|Home_Carries_Carries|Home_PrgC_Carries|Home_Att_Take_Ons|Home_Succ_Take_Ons|        Away_Team|Away_Manager|   Away_Captain|Away_Formation|Away_Possession|Away_Fouls|Away_Corners|Away_Crosses|Away_Aerials_Won|Away_Clearances|Away_Offsides|Away_Goal_Kicks|Away_Throw_Ins|Away_Long_Balls|Away_Total_Players_Stats|Away_Minutes|Away_Gls|Away_Ast|Away_PK|Away_PK_Att|Away_Sh|Away_SoT|Away_CrdY|Away_CrdR|Away_Touches|Away_Tkl|Away_Int|Away_Blocks|           Away_xG|         Away_npxG|          Away_xAG|Away_SCA|Away_GCA|Away_Cmp_Passes|Away_Att_Passes|Away_Cmp_percent_Passes|Away_PrgP_Passes|Away_Carries_Carries|Away_PrgC_Carries|Away_Att_Take_Ons|Away_Succ_Take_Ons|      Home_Attack|    Home_Midfield|     Home_Defense|      Away_Attack|    Away_Midfield|     Away_Defense|Home_Score|Away_Score|Result|Home_Team_Index|Away_Team_Index|Home_Formation_Index|Away_Formation_Index|Home_Team_Onehot|Away_Team_Onehot|Home_Formation_Onehot|Away_Formation_Onehot|            Features|Label|\n",
      "+--------+----------+-----------------+------------------+----------------+--------------+---------------+----------+------------+------------+----------------+---------------+-------------+---------------+--------------+---------------+------------------------+------------+--------+--------+-------+-----------+-------+--------+---------+---------+------------+--------+--------+-----------+------------------+------------------+------------------+--------+--------+---------------+---------------+-----------------------+----------------+--------------------+-----------------+-----------------+------------------+-----------------+------------+---------------+--------------+---------------+----------+------------+------------+----------------+---------------+-------------+---------------+--------------+---------------+------------------------+------------+--------+--------+-------+-----------+-------+--------+---------+---------+------------+--------+--------+-----------+------------------+------------------+------------------+--------+--------+---------------+---------------+-----------------------+----------------+--------------------+-----------------+-----------------+------------------+-----------------+-----------------+-----------------+-----------------+-----------------+-----------------+----------+----------+------+---------------+---------------+--------------------+--------------------+----------------+----------------+---------------------+---------------------+--------------------+-----+\n",
      "|8c6293a3|2023-10-23|Tottenham Hotspur|  Ange Postecoglou|   Son Heung-min|          4231|           65.0|       9.0|         8.5|        21.0|            11.5|           22.0|          4.0|            6.5|          24.5|           40.5|                    16.0|       967.0|     1.0|     1.0|    0.0|        0.0|   19.5|     6.0|      4.0|      0.5|       790.0|    21.5|    10.0|       14.5|               2.1|               2.1|1.7000000000000002|    35.5|     2.0|          565.5|          660.5|                  85.45|            71.5|               483.0|             24.5|             26.0|               9.0|           Fulham| Marco Silva|       Tim Ream|          4231|           58.0|      11.5|         8.5|        25.5|            14.5|            9.0|          2.0|            2.5|          25.0|           75.0|                    15.5|       990.0|     1.0|     0.5|    0.0|        0.0|   15.0|     4.5|      1.0|      0.0|       708.0|    20.0|    12.5|       11.5|              1.65|              1.65|               1.4|    25.0|     2.0|          487.5|          599.0|                  81.25|            47.0|               434.5|             27.5|             15.0|               8.5| 78.9090909090909|79.63636363636364|             77.0|             74.4|76.58823529411765|           74.875|         2|         0|   Win|            7.0|           16.0|                 0.0|                 0.0|  (27,[7],[1.0])| (27,[16],[1.0])|       (19,[0],[1.0])|       (18,[0],[1.0])|(171,[0,1,2,3,4,5...|  0.0|\n",
      "|7efcc598|2023-10-22|      Aston Villa|        Unai Emery|     John McGinn|           442|           46.0|      14.0|         5.5|        18.5|             5.5|           11.0|          0.5|            6.5|          18.5|           52.5|                    14.0|       990.0|     3.0|     2.5|    0.0|        0.0|   18.5|     6.5|      3.0|      0.0|       493.0|    14.0|     7.5|       11.0|               1.6|               1.6|              1.25|    31.5|     5.5|          311.0|          397.0|                  78.25|            34.0|               275.5|             13.5|             16.5|               4.5|  West Ham United| David Moyes|     Kurt Zouma|          4231|           44.0|       8.5|         5.5|        17.0|            16.0|           14.0|          2.0|           10.0|          14.5|           69.0|                    14.0|       990.0|     2.0|     2.0|    0.0|        0.0|   12.5|     5.5|      2.0|      0.0|       535.0|    13.5|     7.5|       16.0|1.7000000000000002|1.7000000000000002|1.4500000000000002|    23.5|     4.0|          348.0|          443.0|                   77.2|            33.5|               345.5|             20.0|             11.5|               7.5|72.71428571428571|77.94444444444444|78.33333333333333|             74.0|78.91666666666667|             77.8|         4|         1|   Win|           15.0|           11.0|                 2.0|                 0.0| (27,[15],[1.0])| (27,[11],[1.0])|       (19,[2],[1.0])|       (18,[0],[1.0])|(171,[0,1,2,3,4,5...|  0.0|\n",
      "|d95b42eb|2023-10-21| Sheffield United|Paul Heckingbottom|  Oliver Norwood|           442|           44.0|       9.5|         4.0|        14.5|            16.5|           28.0|          2.0|            9.0|          21.0|           73.5|                    15.5|       990.0|     0.0|     0.0|    0.0|        0.0|   10.5|     2.0|      1.5|      0.0|       552.5|    17.0|     6.0|       18.5|0.8500000000000001|0.8500000000000001|               0.5|    18.0|     0.0|          328.5|          437.5|      74.19999999999999|            33.5|               242.0|              8.0|             15.5|               6.5|Manchester United|Erik ten Hag|Bruno Fernandes|          4231|           70.5|      10.0|         8.5|        34.5|            11.5|           11.0|          3.0|            4.0|          32.0|           66.5|                    16.0|       990.0|     1.0|     0.5|    0.0|        0.0|   20.0|     5.5|      1.5|      0.0|       824.0|    18.0|     7.0|        8.0|              1.35|              1.35|              1.15|    37.0|     1.5|          608.0|          721.5|                  84.15|            76.0|               527.5|             27.0|             20.0|              10.5|             69.4|71.61538461538461|69.18181818181819|75.83333333333333|79.58823529411765|             79.8|         1|         2|  Lose|           21.0|            7.0|                 2.0|                 0.0| (27,[21],[1.0])|  (27,[7],[1.0])|       (19,[2],[1.0])|       (18,[0],[1.0])|(171,[0,1,2,3,4,5...|  1.0|\n",
      "|21625dde|2023-10-21| Newcastle United|        Eddie Howe|Jamaal Lascelles|           433|           58.5|      12.5|         3.5|        15.5|            17.0|           14.5|          1.0|            3.0|          18.5|           59.5|                    14.5|       990.0|     2.0|     1.0|    0.5|        0.5|   14.5|     4.5|      2.0|      0.0|       694.5|    14.5|     3.5|       14.5|               2.6|               2.2|               1.4|    27.0|     3.0|          497.0|          599.0|                   82.7|            41.5|               351.5|             19.0|             15.0|               7.5|   Crystal Palace| Roy Hodgson|      Joel Ward|           433|           37.5|       7.5|         3.5|        11.5|            11.5|           30.5|          0.0|            8.0|          14.5|           53.0|                    13.0|       990.0|     0.5|     0.0|    0.0|        0.0|    8.0|     2.0|      1.0|      0.0|       538.5|    22.0|    11.5|       13.0|0.8500000000000001|0.8500000000000001|              0.75|    14.5|     1.0|          324.5|          404.5|                   76.5|            27.0|               276.5|             13.0|             20.0|               9.5|             78.1|80.88888888888889|75.27272727272727|72.83333333333333|71.33333333333333|76.85714285714286|         4|         0|   Win|            6.0|            5.0|                 1.0|                 1.0|  (27,[6],[1.0])|  (27,[5],[1.0])|       (19,[1],[1.0])|       (18,[1],[1.0])|(171,[0,1,2,3,4,5...|  0.0|\n",
      "|e747ddb3|2023-10-21|        Liverpool|      Jürgen Klopp| Virgil van Dijk|           433|           45.0|      18.5|         3.0|         9.5|             7.5|           21.5|          0.5|            4.0|          18.0|           57.5|                    15.0|       946.5|     1.5|     1.0|    0.5|        0.5|   12.5|     3.5|      4.0|      1.0|       581.0|    18.5|     8.5|       16.0|1.7999999999999998|1.4500000000000002|              1.35|    25.0|     3.0|          382.5|          465.0|      81.69999999999999|            33.5|               353.0|             15.0|             17.5|               7.0|          Everton|  Sean Dyche|James Tarkowski|          4411|           57.5|      11.0|         5.5|        28.5|            26.5|           17.0|          2.0|            8.0|          30.0|           89.0|                    14.5|       990.0|     2.0|     0.5|    0.0|        0.0|   24.0|     6.0|      0.5|      0.0|       695.5|    25.5|     5.0|       18.5|               3.1|               3.1|              1.85|    41.0|     2.0|          417.0|          546.0|                   76.1|            40.0|               358.5|             21.0|             25.0|              11.0|             82.8|80.84615384615384|           79.125|             74.8|             75.2| 74.6923076923077|         2|         0|   Win|           11.0|            6.0|                 1.0|                 6.0| (27,[11],[1.0])|  (27,[6],[1.0])|       (19,[1],[1.0])|       (18,[6],[1.0])|(171,[0,1,2,3,4,5...|  0.0|\n",
      "+--------+----------+-----------------+------------------+----------------+--------------+---------------+----------+------------+------------+----------------+---------------+-------------+---------------+--------------+---------------+------------------------+------------+--------+--------+-------+-----------+-------+--------+---------+---------+------------+--------+--------+-----------+------------------+------------------+------------------+--------+--------+---------------+---------------+-----------------------+----------------+--------------------+-----------------+-----------------+------------------+-----------------+------------+---------------+--------------+---------------+----------+------------+------------+----------------+---------------+-------------+---------------+--------------+---------------+------------------------+------------+--------+--------+-------+-----------+-------+--------+---------+---------+------------+--------+--------+-----------+------------------+------------------+------------------+--------+--------+---------------+---------------+-----------------------+----------------+--------------------+-----------------+-----------------+------------------+-----------------+-----------------+-----------------+-----------------+-----------------+-----------------+----------+----------+------+---------------+---------------+--------------------+--------------------+----------------+----------------+---------------------+---------------------+--------------------+-----+\n",
      "only showing top 5 rows\n",
      "\n"
     ]
    }
   ],
   "source": [
    "class_indexer = StringIndexer(inputCol = 'Result', outputCol = 'Label')\n",
    "\n",
    "encoded_matches_label = class_indexer.fit(encoded_matches).transform(encoded_matches)\n",
    "\n",
    "encoded_matches_label.show(5)"
   ]
  },
  {
   "cell_type": "markdown",
   "metadata": {},
   "source": [
    "Kiểm tra mối tương quan"
   ]
  },
  {
   "cell_type": "code",
   "execution_count": 20,
   "metadata": {},
   "outputs": [],
   "source": [
    "selected_data = encoded_matches_label.select(\"Features\", \"Label\")\n",
    "\n",
    "test_result = ChiSquareTest.test(selected_data, \n",
    "                                 'Features', \n",
    "                                 'Label')"
   ]
  },
  {
   "cell_type": "code",
   "execution_count": 21,
   "metadata": {},
   "outputs": [
    {
     "name": "stdout",
     "output_type": "stream",
     "text": [
      "+--------------------+--------------------+--------------------+\n",
      "|             pValues|    degreesOfFreedom|          statistics|\n",
      "+--------------------+--------------------+--------------------+\n",
      "|[0.01389492244566...|[210, 64, 54, 140...|[257.624487692727...|\n",
      "+--------------------+--------------------+--------------------+\n",
      "\n"
     ]
    }
   ],
   "source": [
    "test_result.show()"
   ]
  },
  {
   "cell_type": "markdown",
   "metadata": {},
   "source": [
    "<h4>4. Xây dựng mô hình dự đoán với phương pháp Classification</h4>"
   ]
  },
  {
   "cell_type": "markdown",
   "metadata": {},
   "source": [
    "Các function hỗ trợ cho việc xây dựng tập train, test"
   ]
  },
  {
   "cell_type": "markdown",
   "metadata": {},
   "source": [
    "- Function Reduce_Matches() loại bỏ 20 trận đầu cho tập dữ liệu với mỗi lần gọi"
   ]
  },
  {
   "cell_type": "code",
   "execution_count": 22,
   "metadata": {},
   "outputs": [],
   "source": [
    "def Reduce_Matches(matches_df):\n",
    "\n",
    "    matches_df = matches_df.withColumn(\"id\", monotonically_increasing_id())\n",
    "\n",
    "    filtered_data = matches_df.filter(matches_df.id >= 10)\n",
    "    filtered_data = filtered_data.drop(\"id\")\n",
    "\n",
    "    return filtered_data"
   ]
  },
  {
   "cell_type": "markdown",
   "metadata": {},
   "source": [
    "- Function Train_Dataset() trả về tập train\n",
    "- Funtion Test_Dataset() trả về tập test với 20 trận mới nhất (20 row đầu tiên)"
   ]
  },
  {
   "cell_type": "code",
   "execution_count": 23,
   "metadata": {},
   "outputs": [],
   "source": [
    "def Train_Dataset(matches_df): \n",
    "\n",
    "    test_count = 10\n",
    "\n",
    "    encoded_test_matches = matches_df.limit(test_count)\n",
    "    encoded_train_matches = matches_df.subtract(encoded_test_matches)\n",
    "    \n",
    "    return encoded_train_matches\n",
    "\n",
    "def Test_Dataset(matches_df): \n",
    "\n",
    "    test_count = 10\n",
    "\n",
    "    encoded_test_matches = matches_df.limit(test_count)\n",
    "    #encoded_train_matches = matches_df.subtract(encoded_test_matches)\n",
    "    \n",
    "    return encoded_test_matches"
   ]
  },
  {
   "cell_type": "markdown",
   "metadata": {},
   "source": [
    "Funtion hỗ trợ các phương pháp đánh giá cho model"
   ]
  },
  {
   "cell_type": "code",
   "execution_count": 24,
   "metadata": {},
   "outputs": [],
   "source": [
    "def Measure_Function(predictions, measure):\n",
    "\n",
    "    evaluator = MulticlassClassificationEvaluator(labelCol=\"Label\")\n",
    "\n",
    "    measure_method = evaluator.evaluate(predictions, {evaluator.metricName: measure})\n",
    "\n",
    "    return measure_method\n",
    "\n",
    "    #print(\"Accuracy = %g\" % accuracy)\n",
    "    #print(\"Test Error = %g\" % (1.0 - accuracy))"
   ]
  },
  {
   "cell_type": "markdown",
   "metadata": {},
   "source": [
    "<h4>Logistic Regression</h4>"
   ]
  },
  {
   "cell_type": "markdown",
   "metadata": {},
   "source": [
    "- Xây dựng model dựa vào tập train"
   ]
  },
  {
   "cell_type": "code",
   "execution_count": 25,
   "metadata": {},
   "outputs": [],
   "source": [
    "def LogisticRegression_Func(X_train):\n",
    "    logit = LogisticRegression(featuresCol = \"Features\", labelCol = \"Label\")\n",
    "\n",
    "    logitModel = logit.fit(X_train)\n",
    "\n",
    "    return logitModel"
   ]
  },
  {
   "cell_type": "markdown",
   "metadata": {},
   "source": [
    "* Áp dụng model trên tập test"
   ]
  },
  {
   "cell_type": "code",
   "execution_count": 26,
   "metadata": {},
   "outputs": [],
   "source": [
    "def LogitRegres_Predictions(logitModel, X_test):\n",
    "\n",
    "    predictions = logitModel.transform(X_test)\n",
    "    \n",
    "    return predictions"
   ]
  },
  {
   "cell_type": "markdown",
   "metadata": {},
   "source": [
    "* Sử dụng phương pháp Cross Validation lần lượt dự đoán 10 trận mới nhất cho mỗi lần thực thi"
   ]
  },
  {
   "cell_type": "code",
   "execution_count": 27,
   "metadata": {},
   "outputs": [
    {
     "data": {
      "text/plain": [
       "1934"
      ]
     },
     "execution_count": 27,
     "metadata": {},
     "output_type": "execute_result"
    }
   ],
   "source": [
    "encoded_matches.count()"
   ]
  },
  {
   "cell_type": "code",
   "execution_count": 28,
   "metadata": {},
   "outputs": [],
   "source": [
    "matches_df = encoded_matches_label\n",
    "list_accuracy = []\n",
    "list_recall = []\n",
    "list_f1_score = []\n",
    "list_precision = []\n",
    "for i in range(0,30):\n",
    "\n",
    "    X_train = Train_Dataset(matches_df)\n",
    "    X_train = X_train.select('Features', 'Label')\n",
    "\n",
    "    X_test = Test_Dataset(matches_df)\n",
    "    X_test = X_test.select('Features', 'Label')\n",
    "\n",
    "    logitModel = LogisticRegression_Func(X_train)\n",
    "    predictions = LogitRegres_Predictions(logitModel, X_test)\n",
    "\n",
    "    accuracy = Measure_Function(predictions, \"accuracy\")\n",
    "    recall = Measure_Function(predictions, \"weightedRecall\")\n",
    "    f1_score = Measure_Function(predictions, \"f1\")\n",
    "    precision = Measure_Function(predictions, \"weightedPrecision\")\n",
    "\n",
    "    #print(\"Accuracy = %g\" % accuracy)\n",
    "\n",
    "    list_accuracy.append(accuracy)\n",
    "    list_recall.append(recall)\n",
    "    list_f1_score.append(f1_score)\n",
    "    list_precision.append(precision)\n",
    "\n",
    "    matches_df = Reduce_Matches(matches_df)"
   ]
  },
  {
   "cell_type": "markdown",
   "metadata": {},
   "source": [
    "* Đánh giá model với phương pháp Accuracy"
   ]
  },
  {
   "cell_type": "code",
   "execution_count": 29,
   "metadata": {},
   "outputs": [
    {
     "name": "stdout",
     "output_type": "stream",
     "text": [
      "Accuracy 30 times =  [0.8, 0.6, 0.2, 0.7, 0.5, 0.7, 0.6, 0.7, 0.5, 0.6, 0.3, 0.8, 0.4, 0.7, 0.5, 0.5, 0.3, 0.5, 0.5, 0.8, 0.7, 0.5, 0.5, 0.6, 0.3, 0.2, 0.5, 0.6, 0.3, 0.5]\n"
     ]
    },
    {
     "data": {
      "image/png": "[encoded data removed]",
      "text/plain": [
       "<Figure size 640x480 with 1 Axes>"
      ]
     },
     "metadata": {},
     "output_type": "display_data"
    }
   ],
   "source": [
    "print(\"Accuracy 30 times = \", list_accuracy)\n",
    "x = range(len(list_accuracy))\n",
    "plt.bar(x, list_accuracy)\n",
    "plt.xlabel('Times')\n",
    "plt.ylabel('Accuracy')\n",
    "plt.title('Accuracy với 30 lần thử nghiệm')\n",
    "plt.show()"
   ]
  },
  {
   "cell_type": "markdown",
   "metadata": {},
   "source": [
    "* Đánh giá model với phương pháp Recall"
   ]
  },
  {
   "cell_type": "code",
   "execution_count": 30,
   "metadata": {},
   "outputs": [
    {
     "name": "stdout",
     "output_type": "stream",
     "text": [
      "Recall 5 times =  [0.8, 0.6000000000000001, 0.2, 0.7000000000000001, 0.5, 0.7, 0.6, 0.7, 0.5, 0.6, 0.30000000000000004, 0.8, 0.4, 0.7, 0.5, 0.5, 0.30000000000000004, 0.5, 0.5, 0.8, 0.7, 0.5, 0.5, 0.6, 0.30000000000000004, 0.2, 0.5, 0.6000000000000001, 0.3, 0.5]\n"
     ]
    }
   ],
   "source": [
    "print(\"Recall 5 times = \", list_recall)"
   ]
  },
  {
   "cell_type": "markdown",
   "metadata": {},
   "source": [
    "* Đánh giá model với phương pháp F1_Score"
   ]
  },
  {
   "cell_type": "code",
   "execution_count": 31,
   "metadata": {},
   "outputs": [
    {
     "name": "stdout",
     "output_type": "stream",
     "text": [
      "F1_Score 5 times =  [0.7809523809523808, 0.45333333333333337, 0.2138888888888889, 0.6699999999999999, 0.4685714285714286, 0.6246153846153847, 0.6757575757575757, 0.7384615384615385, 0.48142857142857143, 0.54, 0.24, 0.8177777777777779, 0.42727272727272725, 0.69, 0.49696969696969695, 0.51, 0.28714285714285714, 0.5285714285714286, 0.48, 0.8038095238095239, 0.7, 0.5, 0.6666666666666666, 0.5545454545454545, 0.25, 0.1523809523809524, 0.5272727272727273, 0.5622222222222223, 0.35, 0.44999999999999996]\n"
     ]
    }
   ],
   "source": [
    "print(\"F1_Score 5 times = \", list_f1_score)"
   ]
  },
  {
   "cell_type": "markdown",
   "metadata": {},
   "source": [
    "* Đánh giá model với phương pháp Precision"
   ]
  },
  {
   "cell_type": "code",
   "execution_count": 32,
   "metadata": {},
   "outputs": [
    {
     "name": "stdout",
     "output_type": "stream",
     "text": [
      "Precision 5 times =  [0.8500000000000001, 0.3666666666666667, 0.24666666666666665, 0.7666666666666666, 0.4666666666666667, 0.6125, 0.9199999999999999, 0.7833333333333334, 0.67, 0.525, 0.2, 0.9, 0.45999999999999996, 0.719047619047619, 0.5333333333333333, 0.5833333333333334, 0.4066666666666666, 0.5666666666666667, 0.6666666666666667, 0.875, 0.7, 0.5, 1.0, 0.5166666666666667, 0.36666666666666664, 0.125, 0.61, 0.845, 0.42000000000000004, 0.42000000000000004]\n"
     ]
    }
   ],
   "source": [
    "print(\"Precision 5 times = \", list_precision)"
   ]
  },
  {
   "cell_type": "code",
   "execution_count": 33,
   "metadata": {},
   "outputs": [
    {
     "data": {
      "text/plain": [
       "[0.53, 0.53, 0.5213880378880378, 0.5873849206349208]"
      ]
     },
     "execution_count": 33,
     "metadata": {},
     "output_type": "execute_result"
    }
   ],
   "source": [
    "logistic_regress_metrics = [sum(list_accuracy) / len(list_accuracy),\n",
    "                            sum(list_recall) / len(list_recall),\n",
    "                            sum(list_f1_score) / len(list_f1_score),\n",
    "                            sum(list_precision) / len(list_precision)]\n",
    "logistic_regress_metrics"
   ]
  },
  {
   "cell_type": "markdown",
   "metadata": {},
   "source": [
    "<h4>Decision Tree</h4>"
   ]
  },
  {
   "cell_type": "code",
   "execution_count": 34,
   "metadata": {},
   "outputs": [
    {
     "data": {
      "text/plain": [
       "1934"
      ]
     },
     "execution_count": 34,
     "metadata": {},
     "output_type": "execute_result"
    }
   ],
   "source": [
    "encoded_matches.count()"
   ]
  },
  {
   "cell_type": "code",
   "execution_count": 35,
   "metadata": {},
   "outputs": [],
   "source": [
    "def DecisionTree_Func(X_train):\n",
    "    deci = DecisionTreeClassifier(featuresCol = \"Features\", labelCol = \"Label\")\n",
    "\n",
    "    deciModel = deci.fit(X_train)\n",
    "\n",
    "    return deciModel"
   ]
  },
  {
   "cell_type": "code",
   "execution_count": 36,
   "metadata": {},
   "outputs": [],
   "source": [
    "def DecisionTree_Predictions(deciModel, X_test):\n",
    "\n",
    "    predictions = deciModel.transform(X_test)\n",
    "    \n",
    "    return predictions"
   ]
  },
  {
   "cell_type": "code",
   "execution_count": 37,
   "metadata": {},
   "outputs": [],
   "source": [
    "matches_df = encoded_matches_label\n",
    "\n",
    "list_accuracy = []\n",
    "list_recall = []\n",
    "list_f1_score = []\n",
    "list_precision = []\n",
    "for i in range(0,30):\n",
    "\n",
    "    X_train = Train_Dataset(matches_df)\n",
    "    X_train = X_train.select('Features', 'Label')\n",
    "\n",
    "    X_test = Test_Dataset(matches_df)\n",
    "    X_test = X_test.select('Features', 'Label')\n",
    "\n",
    "    logitModel = DecisionTree_Func(X_train)\n",
    "    predictions = DecisionTree_Predictions(logitModel, X_test)\n",
    "\n",
    "    accuracy = Measure_Function(predictions, \"accuracy\")\n",
    "    recall = Measure_Function(predictions, \"weightedRecall\")\n",
    "    f1_score = Measure_Function(predictions, \"f1\")\n",
    "    precision = Measure_Function(predictions, \"weightedPrecision\")\n",
    "\n",
    "    #print(\"Accuracy = %g\" % accuracy)\n",
    "\n",
    "    list_accuracy.append(accuracy)\n",
    "    list_recall.append(recall)\n",
    "    list_f1_score.append(f1_score)\n",
    "    list_precision.append(precision)\n",
    "\n",
    "    matches_df = Reduce_Matches(matches_df)"
   ]
  },
  {
   "cell_type": "markdown",
   "metadata": {},
   "source": [
    "- Đánh giá model lần lượt với các độ đo Accuracy, Recall, F1-Score, Precision"
   ]
  },
  {
   "cell_type": "code",
   "execution_count": 38,
   "metadata": {},
   "outputs": [
    {
     "name": "stdout",
     "output_type": "stream",
     "text": [
      "Accuracy 30 times =  [0.6, 0.5, 0.4, 0.4, 0.4, 0.2, 0.3, 0.5, 0.5, 0.4, 0.5, 0.5, 0.9, 0.5, 0.5, 0.5, 0.7, 0.7, 0.3, 0.5, 0.3, 0.6, 0.5, 0.6, 0.6, 0.3, 0.4, 0.4, 0.5, 0.4]\n"
     ]
    },
    {
     "data": {
      "image/png": "[encoded data removed]",
      "text/plain": [
       "<Figure size 640x480 with 1 Axes>"
      ]
     },
     "metadata": {},
     "output_type": "display_data"
    }
   ],
   "source": [
    "print(\"Accuracy 30 times = \", list_accuracy)\n",
    "x = range(len(list_accuracy))\n",
    "plt.bar(x, list_accuracy)\n",
    "plt.xlabel('Times')\n",
    "plt.ylabel('Accuracy')\n",
    "plt.title('Accuracy với 30 lần thử nghiệm')\n",
    "plt.show()"
   ]
  },
  {
   "cell_type": "code",
   "execution_count": 39,
   "metadata": {},
   "outputs": [
    {
     "data": {
      "text/plain": [
       "[0.4800000000000001,\n",
       " 0.4800000000000001,\n",
       " 0.4592987382987383,\n",
       " 0.4952433862433862]"
      ]
     },
     "execution_count": 39,
     "metadata": {},
     "output_type": "execute_result"
    }
   ],
   "source": [
    "decision_tree_metrics = [sum(list_accuracy) / len(list_accuracy),\n",
    "                            sum(list_recall) / len(list_recall),\n",
    "                            sum(list_f1_score) / len(list_f1_score),\n",
    "                            sum(list_precision) / len(list_precision)]\n",
    "decision_tree_metrics"
   ]
  },
  {
   "cell_type": "markdown",
   "metadata": {},
   "source": [
    "<h4>Naive Bayes</h4>"
   ]
  },
  {
   "cell_type": "code",
   "execution_count": 40,
   "metadata": {},
   "outputs": [],
   "source": [
    "def NaiveBayes_Func(X_train):\n",
    "    naive_bayes = NaiveBayes(featuresCol = \"Features\", labelCol = \"Label\")\n",
    "\n",
    "    naive_bayes_Model = naive_bayes.fit(X_train)\n",
    "\n",
    "    return naive_bayes_Model"
   ]
  },
  {
   "cell_type": "code",
   "execution_count": 41,
   "metadata": {},
   "outputs": [],
   "source": [
    "def NaiveBayes_Predictions(naive_bayes_Model, X_test):\n",
    "\n",
    "    predictions = naive_bayes_Model.transform(X_test)\n",
    "    \n",
    "    return predictions"
   ]
  },
  {
   "cell_type": "code",
   "execution_count": 42,
   "metadata": {},
   "outputs": [],
   "source": [
    "matches_df = encoded_matches_label\n",
    "\n",
    "list_accuracy = []\n",
    "list_recall = []\n",
    "list_f1_score = []\n",
    "list_precision = []\n",
    "for i in range(0,30):\n",
    "\n",
    "    X_train = Train_Dataset(matches_df)\n",
    "    X_train = X_train.select('Features', 'Label')\n",
    "\n",
    "    X_test = Test_Dataset(matches_df)\n",
    "    X_test = X_test.select('Features', 'Label')\n",
    "\n",
    "    logitModel = NaiveBayes_Func(X_train)\n",
    "    predictions = NaiveBayes_Predictions(logitModel, X_test)\n",
    "\n",
    "    accuracy = Measure_Function(predictions, \"accuracy\")\n",
    "    recall = Measure_Function(predictions, \"weightedRecall\")\n",
    "    f1_score = Measure_Function(predictions, \"f1\")\n",
    "    precision = Measure_Function(predictions, \"weightedPrecision\")\n",
    "\n",
    "    #print(\"Accuracy = %g\" % accuracy)\n",
    "\n",
    "    list_accuracy.append(accuracy)\n",
    "    list_recall.append(recall)\n",
    "    list_f1_score.append(f1_score)\n",
    "    list_precision.append(precision)\n",
    "\n",
    "    matches_df = Reduce_Matches(matches_df)"
   ]
  },
  {
   "cell_type": "markdown",
   "metadata": {},
   "source": [
    "- Đánh giá model lần lượt với các độ đo Accuracy, Recall, F1-Score, Precision"
   ]
  },
  {
   "cell_type": "code",
   "execution_count": 43,
   "metadata": {},
   "outputs": [
    {
     "name": "stdout",
     "output_type": "stream",
     "text": [
      "Accuracy 30 times =  [0.5, 0.6, 0.3, 0.4, 0.6, 0.5, 0.5, 0.7, 0.4, 0.4, 0.6, 0.6, 0.3, 0.8, 0.7, 0.6, 0.5, 0.5, 0.4, 0.3, 0.3, 0.4, 0.6, 0.4, 0.5, 0.2, 0.5, 0.4, 0.2, 0.6]\n"
     ]
    },
    {
     "data": {
      "image/png": "[encoded data removed]",
      "text/plain": [
       "<Figure size 640x480 with 1 Axes>"
      ]
     },
     "metadata": {},
     "output_type": "display_data"
    }
   ],
   "source": [
    "print(\"Accuracy 30 times = \", list_accuracy)\n",
    "x = range(len(list_accuracy))\n",
    "plt.bar(x, list_accuracy)\n",
    "plt.xlabel('Times')\n",
    "plt.ylabel('Accuracy')\n",
    "plt.title('Accuracy với 30 lần thử nghiệm')\n",
    "plt.show()"
   ]
  },
  {
   "cell_type": "code",
   "execution_count": 44,
   "metadata": {},
   "outputs": [
    {
     "data": {
      "text/plain": [
       "[0.4766666666666667,\n",
       " 0.47666666666666674,\n",
       " 0.4729931549931551,\n",
       " 0.5229126984126984]"
      ]
     },
     "execution_count": 44,
     "metadata": {},
     "output_type": "execute_result"
    }
   ],
   "source": [
    "naive_bayes_metrics = [sum(list_accuracy) / len(list_accuracy),\n",
    "                            sum(list_recall) / len(list_recall),\n",
    "                            sum(list_f1_score) / len(list_f1_score),\n",
    "                            sum(list_precision) / len(list_precision)]\n",
    "naive_bayes_metrics"
   ]
  },
  {
   "cell_type": "markdown",
   "metadata": {},
   "source": [
    "<h4>Random Forest</h4>"
   ]
  },
  {
   "cell_type": "code",
   "execution_count": 45,
   "metadata": {},
   "outputs": [],
   "source": [
    "def Random_Forest_Func(X_train):\n",
    "    random_forest = RandomForestClassifier(featuresCol = \"Features\", labelCol = \"Label\")\n",
    "\n",
    "    random_forest_Model = random_forest.fit(X_train)\n",
    "\n",
    "    return random_forest_Model"
   ]
  },
  {
   "cell_type": "code",
   "execution_count": 46,
   "metadata": {},
   "outputs": [],
   "source": [
    "def Random_Forest_Predictions(random_forest_Model, X_test):\n",
    "\n",
    "    predictions = random_forest_Model.transform(X_test)\n",
    "    \n",
    "    return predictions"
   ]
  },
  {
   "cell_type": "code",
   "execution_count": 47,
   "metadata": {},
   "outputs": [],
   "source": [
    "matches_df = encoded_matches_label\n",
    "\n",
    "list_accuracy = []\n",
    "list_recall = []\n",
    "list_f1_score = []\n",
    "list_precision = []\n",
    "for i in range(0,30):\n",
    "\n",
    "    X_train = Train_Dataset(matches_df)\n",
    "    X_train = X_train.select('Features', 'Label')\n",
    "\n",
    "    X_test = Test_Dataset(matches_df)\n",
    "    X_test = X_test.select('Features', 'Label')\n",
    "\n",
    "    random_forest_Model = Random_Forest_Func(X_train)\n",
    "    predictions = Random_Forest_Predictions(random_forest_Model, X_test)\n",
    "\n",
    "    accuracy = Measure_Function(predictions, \"accuracy\")\n",
    "    recall = Measure_Function(predictions, \"weightedRecall\")\n",
    "    f1_score = Measure_Function(predictions, \"f1\")\n",
    "    precision = Measure_Function(predictions, \"weightedPrecision\")\n",
    "\n",
    "    #print(\"Accuracy = %g\" % accuracy)\n",
    "\n",
    "    list_accuracy.append(accuracy)\n",
    "    list_recall.append(recall)\n",
    "    list_f1_score.append(f1_score)\n",
    "    list_precision.append(precision)\n",
    "\n",
    "    matches_df = Reduce_Matches(matches_df)"
   ]
  },
  {
   "cell_type": "markdown",
   "metadata": {},
   "source": [
    "- Đánh giá model lần lượt với các độ đo Accuracy, Recall, F1-Score, Precision"
   ]
  },
  {
   "cell_type": "code",
   "execution_count": 48,
   "metadata": {},
   "outputs": [
    {
     "name": "stdout",
     "output_type": "stream",
     "text": [
      "Accuracy 30 times =  [0.7, 0.6, 0.4, 0.5, 0.6, 0.5, 0.6, 0.8, 0.4, 0.6, 0.5, 0.6, 0.8, 0.9, 0.6, 0.5, 0.6, 0.5, 0.5, 0.5, 0.5, 0.6, 0.9, 0.7, 0.5, 0.4, 0.3, 0.5, 0.4, 0.5]\n"
     ]
    },
    {
     "data": {
      "image/png": "[encoded data removed]",
      "text/plain": [
       "<Figure size 640x480 with 1 Axes>"
      ]
     },
     "metadata": {},
     "output_type": "display_data"
    }
   ],
   "source": [
    "print(\"Accuracy 30 times = \", list_accuracy)\n",
    "x = range(len(list_accuracy))\n",
    "plt.bar(x, list_accuracy)\n",
    "plt.xlabel('Times')\n",
    "plt.ylabel('Accuracy')\n",
    "plt.title('Accuracy với 30 lần thử nghiệm')\n",
    "plt.show()"
   ]
  },
  {
   "cell_type": "code",
   "execution_count": 49,
   "metadata": {},
   "outputs": [
    {
     "data": {
      "text/plain": [
       "[0.5666666666666667,\n",
       " 0.5666666666666667,\n",
       " 0.5086493845565053,\n",
       " 0.5015978835978836]"
      ]
     },
     "execution_count": 49,
     "metadata": {},
     "output_type": "execute_result"
    }
   ],
   "source": [
    "random_forest_metrics = [sum(list_accuracy) / len(list_accuracy),\n",
    "                            sum(list_recall) / len(list_recall),\n",
    "                            sum(list_f1_score) / len(list_f1_score),\n",
    "                            sum(list_precision) / len(list_precision)]\n",
    "random_forest_metrics"
   ]
  },
  {
   "cell_type": "markdown",
   "metadata": {},
   "source": [
    "<h4>5. Đánh giá, lựa chọn thuật toán tối ưu, chọn model tốt nhất</h4>"
   ]
  },
  {
   "cell_type": "markdown",
   "metadata": {},
   "source": [
    "Thêm trung bình các độ đo cho mỗi thuật toán"
   ]
  },
  {
   "cell_type": "code",
   "execution_count": 50,
   "metadata": {},
   "outputs": [],
   "source": [
    "logistic_regress_metrics.append(sum(logistic_regress_metrics)/len(logistic_regress_metrics))\n",
    "decision_tree_metrics.append(sum(decision_tree_metrics)/len(decision_tree_metrics))\n",
    "naive_bayes_metrics.append(sum(naive_bayes_metrics)/len(naive_bayes_metrics))\n",
    "random_forest_metrics.append(sum(random_forest_metrics)/len(random_forest_metrics))"
   ]
  },
  {
   "cell_type": "code",
   "execution_count": 51,
   "metadata": {},
   "outputs": [
    {
     "name": "stdout",
     "output_type": "stream",
     "text": [
      "+---------+-------------------+------------------+-------------------+------------------+\n",
      "|         |Logistic Regression|     Decision Tree|        Naive Bayes|     Random Forest|\n",
      "+---------+-------------------+------------------+-------------------+------------------+\n",
      "| Accuracy|               0.53|0.4800000000000001| 0.4766666666666667|0.5666666666666667|\n",
      "|   Recall|               0.53|0.4800000000000001|0.47666666666666674|0.5666666666666667|\n",
      "| F1-Score| 0.5213880378880378|0.4592987382987383| 0.4729931549931551|0.5086493845565053|\n",
      "|Precision| 0.5873849206349208|0.4952433862433862| 0.5229126984126984|0.5015978835978836|\n",
      "|  Average| 0.5421932396307396|0.4786355311355312|0.48730979668479674|0.5358951503719306|\n",
      "+---------+-------------------+------------------+-------------------+------------------+\n",
      "\n"
     ]
    }
   ],
   "source": [
    "column_names = [\"\",\"Logistic Regression\", \"Decision Tree\", \"Naive Bayes\", \"Random Forest\"]\n",
    "row_names = [\"Accuracy\", \"Recall\", \"F1-Score\", \"Precision\", \"Average\"]\n",
    "\n",
    "rows = []\n",
    "for row_name, list1_val, list2_val, list3_val, list4_val in zip(row_names, logistic_regress_metrics, decision_tree_metrics, \n",
    "                                                     naive_bayes_metrics, random_forest_metrics):\n",
    "    row = (row_name, list1_val, list2_val, list3_val, list4_val)\n",
    "    rows.append(row)\n",
    "\n",
    "metrics = spark.createDataFrame(rows, column_names)\n",
    "metrics.show()"
   ]
  },
  {
   "cell_type": "markdown",
   "metadata": {},
   "source": [
    "### Nhận xét:\n",
    "Qua 4 mô hình trên với 30 lần Cross Validation tương ứng với mỗi mô hình, ta nhận thấy rằng:\n",
    "\n",
    "- Accuracy và Recall của mỗi mô hình có giá trị tương đương nhau, vì Recall và Accuracy chỉ khác nhau nếu có ma trận nhầm lẫn, ở mô hình này không áp dụng ma trận nhầm lẫn.\n",
    "\n",
    "- Ta nhận thấy rằng, với mô hình hồi quy Logistic và Rừng ngẫu nhiên có độ đo cao hơn với hai mô hình còn lại.\n",
    "\n",
    "- Dù cho mô hình Rừng ngẫu nhiên cho ra độ chính xác cao hơn, nhưng tính phân lớp thì lại thấp hơn so với hồi quy Logistic.\n",
    "\n",
    "- Mô hình Rừng ngẫu nhiên thường sẽ có dự đoán chính xác hơn so với Cây quyết định do mô hình Rừng ngẫu nhiên được cấu thành nên bởi nhiều Cây quyết định.\n",
    "\n"
   ]
  },
  {
   "cell_type": "markdown",
   "metadata": {},
   "source": [
    "# Tối ưu mô hình"
   ]
  },
  {
   "cell_type": "markdown",
   "metadata": {},
   "source": [
    "Stochastic Gradient Descent"
   ]
  },
  {
   "cell_type": "markdown",
   "metadata": {},
   "source": [
    "Với regParam=0.08, elasticNetParam=0.6 ta có:"
   ]
  },
  {
   "cell_type": "code",
   "execution_count": 70,
   "metadata": {},
   "outputs": [],
   "source": [
    "def LogisticRegression_Optimize_Func(X_train):\n",
    "    logit = LogisticRegression(maxIter=10,featuresCol = \"Features\", labelCol = \"Label\",regParam=0.08, elasticNetParam=0.6)\n",
    "    logitModel = logit.fit(X_train)\n",
    "    return logitModel"
   ]
  },
  {
   "cell_type": "code",
   "execution_count": 71,
   "metadata": {},
   "outputs": [],
   "source": [
    "matches_df = encoded_matches_label\n",
    "\n",
    "list_accuracy = []\n",
    "list_recall = []\n",
    "list_f1_score = []\n",
    "list_precision = []\n",
    "for i in range(0,30):\n",
    "\n",
    "    X_train = Train_Dataset(matches_df)\n",
    "    X_train = X_train.select('Features', 'Label')\n",
    "\n",
    "    X_test = Test_Dataset(matches_df)\n",
    "    X_test = X_test.select('Features', 'Label')\n",
    "\n",
    "    logitModel = LogisticRegression_Optimize_Func(X_train)\n",
    "    predictions = LogitRegres_Predictions(logitModel, X_test)\n",
    "\n",
    "    accuracy = Measure_Function(predictions, \"accuracy\")\n",
    "    recall = Measure_Function(predictions, \"weightedRecall\")\n",
    "    f1_score = Measure_Function(predictions, \"f1\")\n",
    "    precision = Measure_Function(predictions, \"weightedPrecision\")\n",
    "\n",
    "    #print(\"Accuracy = %g\" % accuracy)\n",
    "\n",
    "    list_accuracy.append(accuracy)\n",
    "    list_recall.append(recall)\n",
    "    list_f1_score.append(f1_score)\n",
    "    list_precision.append(precision)\n",
    "\n",
    "    matches_df = Reduce_Matches(matches_df)\n"
   ]
  },
  {
   "cell_type": "code",
   "execution_count": 72,
   "metadata": {},
   "outputs": [
    {
     "name": "stdout",
     "output_type": "stream",
     "text": [
      "Accuracy 30 times =  [0.7, 0.6, 0.4, 0.6, 0.6, 0.7, 0.5, 0.7, 0.4, 0.7, 0.5, 0.7, 0.6, 0.8, 0.6, 0.7, 0.4, 0.4, 0.6, 0.5, 0.4, 0.5, 0.7, 0.7, 0.4, 0.5, 0.5, 0.4, 0.3, 0.4]\n"
     ]
    },
    {
     "data": {
      "image/png": "[encoded data removed]",
      "text/plain": [
       "<Figure size 640x480 with 1 Axes>"
      ]
     },
     "metadata": {},
     "output_type": "display_data"
    }
   ],
   "source": [
    "print(\"Accuracy 30 times = \", list_accuracy)\n",
    "x = range(len(list_accuracy))\n",
    "plt.bar(x, list_accuracy)\n",
    "plt.xlabel('Times')\n",
    "plt.ylabel('Accuracy')\n",
    "plt.title('Accuracy với 30 lần thử nghiệm')\n",
    "plt.show()"
   ]
  },
  {
   "cell_type": "code",
   "execution_count": 73,
   "metadata": {},
   "outputs": [],
   "source": [
    "logistic_optimize_metrics = [sum(list_accuracy) / len(list_accuracy),\n",
    "                            sum(list_recall) / len(list_recall),\n",
    "                            sum(list_f1_score) / len(list_f1_score),\n",
    "                            sum(list_precision) / len(list_precision)]\n"
   ]
  },
  {
   "cell_type": "code",
   "execution_count": 74,
   "metadata": {},
   "outputs": [
    {
     "name": "stdout",
     "output_type": "stream",
     "text": [
      "+---------+-------------------+------------------+-------------------+------------------+----------------------------+\n",
      "|         |Logistic Regression|     Decision Tree|        Naive Bayes|     Random Forest|Logistic Regression Optimize|\n",
      "+---------+-------------------+------------------+-------------------+------------------+----------------------------+\n",
      "| Accuracy|               0.53|0.4800000000000001| 0.4766666666666667|0.5666666666666667|          0.5499999999999999|\n",
      "|   Recall|               0.53|0.4800000000000001|0.47666666666666674|0.5666666666666667|                        0.55|\n",
      "| F1-Score| 0.5213880378880378|0.4592987382987383| 0.4729931549931551|0.5086493845565053|          0.4812577291989058|\n",
      "|Precision| 0.5873849206349208|0.4952433862433862| 0.5229126984126984|0.5015978835978836|         0.47665740740740736|\n",
      "+---------+-------------------+------------------+-------------------+------------------+----------------------------+\n",
      "\n"
     ]
    }
   ],
   "source": [
    "column_names = [\"\",\"Logistic Regression\", \"Decision Tree\", \"Naive Bayes\", \"Random Forest\",\"Logistic Regression Optimize\"]\n",
    "row_names = [\"Accuracy\", \"Recall\", \"F1-Score\", \"Precision\", \"Average\"]\n",
    "rows = []\n",
    "for row_name, list1_val, list2_val, list3_val, list4_val,list5_val in zip(row_names, logistic_regress_metrics, decision_tree_metrics, \n",
    "                                                     naive_bayes_metrics, random_forest_metrics,logistic_optimize_metrics):\n",
    "    row = (row_name, list1_val, list2_val, list3_val, list4_val,list5_val)\n",
    "    rows.append(row)\n",
    "\n",
    "metrics = spark.createDataFrame(rows, column_names)\n",
    "metrics.show()"
   ]
  },
  {
   "cell_type": "markdown",
   "metadata": {},
   "source": [
    "Với regParam=0.02, elasticNetParam=0.6 ta có:"
   ]
  },
  {
   "cell_type": "code",
   "execution_count": 75,
   "metadata": {},
   "outputs": [],
   "source": [
    "def LogisticRegression_Optimize_Func(X_train):\n",
    "    logit = LogisticRegression(maxIter=10,featuresCol = \"Features\", labelCol = \"Label\",regParam=0.02, elasticNetParam=0.6)\n",
    "    logitModel = logit.fit(X_train)\n",
    "    return logitModel"
   ]
  },
  {
   "cell_type": "code",
   "execution_count": 76,
   "metadata": {},
   "outputs": [],
   "source": [
    "matches_df = encoded_matches_label\n",
    "\n",
    "list_accuracy = []\n",
    "list_recall = []\n",
    "list_f1_score = []\n",
    "list_precision = []\n",
    "for i in range(0,30):\n",
    "\n",
    "    X_train = Train_Dataset(matches_df)\n",
    "    X_train = X_train.select('Features', 'Label')\n",
    "\n",
    "    X_test = Test_Dataset(matches_df)\n",
    "    X_test = X_test.select('Features', 'Label')\n",
    "\n",
    "    logitModel = LogisticRegression_Optimize_Func(X_train)\n",
    "    predictions = LogitRegres_Predictions(logitModel, X_test)\n",
    "\n",
    "    accuracy = Measure_Function(predictions, \"accuracy\")\n",
    "    recall = Measure_Function(predictions, \"weightedRecall\")\n",
    "    f1_score = Measure_Function(predictions, \"f1\")\n",
    "    precision = Measure_Function(predictions, \"weightedPrecision\")\n",
    "\n",
    "    #print(\"Accuracy = %g\" % accuracy)\n",
    "\n",
    "    list_accuracy.append(accuracy)\n",
    "    list_recall.append(recall)\n",
    "    list_f1_score.append(f1_score)\n",
    "    list_precision.append(precision)\n",
    "\n",
    "    matches_df = Reduce_Matches(matches_df)\n"
   ]
  },
  {
   "cell_type": "code",
   "execution_count": 77,
   "metadata": {},
   "outputs": [],
   "source": [
    "logistic_optimize_metrics = [sum(list_accuracy) / len(list_accuracy),\n",
    "                            sum(list_recall) / len(list_recall),\n",
    "                            sum(list_f1_score) / len(list_f1_score),\n",
    "                            sum(list_precision) / len(list_precision)]"
   ]
  },
  {
   "cell_type": "code",
   "execution_count": 78,
   "metadata": {},
   "outputs": [
    {
     "name": "stdout",
     "output_type": "stream",
     "text": [
      "+---------+-------------------+------------------+-------------------+------------------+----------------------------+\n",
      "|         |Logistic Regression|     Decision Tree|        Naive Bayes|     Random Forest|Logistic Regression Optimize|\n",
      "+---------+-------------------+------------------+-------------------+------------------+----------------------------+\n",
      "| Accuracy|               0.53|0.4800000000000001| 0.4766666666666667|0.5666666666666667|          0.5366666666666667|\n",
      "|   Recall|               0.53|0.4800000000000001|0.47666666666666674|0.5666666666666667|          0.5366666666666667|\n",
      "| F1-Score| 0.5213880378880378|0.4592987382987383| 0.4729931549931551|0.5086493845565053|         0.48224082018199677|\n",
      "|Precision| 0.5873849206349208|0.4952433862433862| 0.5229126984126984|0.5015978835978836|         0.47511640211640216|\n",
      "+---------+-------------------+------------------+-------------------+------------------+----------------------------+\n",
      "\n"
     ]
    }
   ],
   "source": [
    "column_names = [\"\",\"Logistic Regression\", \"Decision Tree\", \"Naive Bayes\", \"Random Forest\",\"Logistic Regression Optimize\"]\n",
    "row_names = [\"Accuracy\", \"Recall\", \"F1-Score\", \"Precision\", \"Average\"]\n",
    "rows = []\n",
    "for row_name, list1_val, list2_val, list3_val, list4_val,list5_val in zip(row_names, logistic_regress_metrics, decision_tree_metrics, \n",
    "                                                     naive_bayes_metrics, random_forest_metrics,logistic_optimize_metrics):\n",
    "    row = (row_name, list1_val, list2_val, list3_val, list4_val,list5_val)\n",
    "    rows.append(row)\n",
    "\n",
    "metrics = spark.createDataFrame(rows, column_names)\n",
    "metrics.show()"
   ]
  },
  {
   "cell_type": "markdown",
   "metadata": {},
   "source": [
    "Với regParam=0.08, elasticNetParam=0.2 ta có:"
   ]
  },
  {
   "cell_type": "code",
   "execution_count": 79,
   "metadata": {},
   "outputs": [],
   "source": [
    "def LogisticRegression_Optimize_Func(X_train):\n",
    "    logit = LogisticRegression(maxIter=10,featuresCol = \"Features\", labelCol = \"Label\",regParam=0.08, elasticNetParam=0.2)\n",
    "    logitModel = logit.fit(X_train)\n",
    "    return logitModel"
   ]
  },
  {
   "cell_type": "code",
   "execution_count": 80,
   "metadata": {},
   "outputs": [],
   "source": [
    "matches_df = encoded_matches_label\n",
    "\n",
    "list_accuracy = []\n",
    "list_recall = []\n",
    "list_f1_score = []\n",
    "list_precision = []\n",
    "for i in range(0,30):\n",
    "\n",
    "    X_train = Train_Dataset(matches_df)\n",
    "    X_train = X_train.select('Features', 'Label')\n",
    "\n",
    "    X_test = Test_Dataset(matches_df)\n",
    "    X_test = X_test.select('Features', 'Label')\n",
    "\n",
    "    logitModel = LogisticRegression_Optimize_Func(X_train)\n",
    "    predictions = LogitRegres_Predictions(logitModel, X_test)\n",
    "\n",
    "    accuracy = Measure_Function(predictions, \"accuracy\")\n",
    "    recall = Measure_Function(predictions, \"weightedRecall\")\n",
    "    f1_score = Measure_Function(predictions, \"f1\")\n",
    "    precision = Measure_Function(predictions, \"weightedPrecision\")\n",
    "\n",
    "    #print(\"Accuracy = %g\" % accuracy)\n",
    "\n",
    "    list_accuracy.append(accuracy)\n",
    "    list_recall.append(recall)\n",
    "    list_f1_score.append(f1_score)\n",
    "    list_precision.append(precision)\n",
    "\n",
    "    matches_df = Reduce_Matches(matches_df)\n"
   ]
  },
  {
   "cell_type": "code",
   "execution_count": 81,
   "metadata": {},
   "outputs": [],
   "source": [
    "logistic_optimize_metrics = [sum(list_accuracy) / len(list_accuracy),\n",
    "                            sum(list_recall) / len(list_recall),\n",
    "                            sum(list_f1_score) / len(list_f1_score),\n",
    "                            sum(list_precision) / len(list_precision)]"
   ]
  },
  {
   "cell_type": "code",
   "execution_count": 82,
   "metadata": {},
   "outputs": [
    {
     "name": "stdout",
     "output_type": "stream",
     "text": [
      "+---------+-------------------+------------------+-------------------+------------------+----------------------------+\n",
      "|         |Logistic Regression|     Decision Tree|        Naive Bayes|     Random Forest|Logistic Regression Optimize|\n",
      "+---------+-------------------+------------------+-------------------+------------------+----------------------------+\n",
      "| Accuracy|               0.53|0.4800000000000001| 0.4766666666666667|0.5666666666666667|          0.5499999999999999|\n",
      "|   Recall|               0.53|0.4800000000000001|0.47666666666666674|0.5666666666666667|          0.5499999999999999|\n",
      "| F1-Score| 0.5213880378880378|0.4592987382987383| 0.4729931549931551|0.5086493845565053|         0.48831063925181584|\n",
      "|Precision| 0.5873849206349208|0.4952433862433862| 0.5229126984126984|0.5015978835978836|          0.4762671957671957|\n",
      "+---------+-------------------+------------------+-------------------+------------------+----------------------------+\n",
      "\n"
     ]
    }
   ],
   "source": [
    "column_names = [\"\",\"Logistic Regression\", \"Decision Tree\", \"Naive Bayes\", \"Random Forest\",\"Logistic Regression Optimize\"]\n",
    "row_names = [\"Accuracy\", \"Recall\", \"F1-Score\", \"Precision\", \"Average\"]\n",
    "rows = []\n",
    "for row_name, list1_val, list2_val, list3_val, list4_val,list5_val in zip(row_names, logistic_regress_metrics, decision_tree_metrics, \n",
    "                                                     naive_bayes_metrics, random_forest_metrics,logistic_optimize_metrics):\n",
    "    row = (row_name, list1_val, list2_val, list3_val, list4_val,list5_val)\n",
    "    rows.append(row)\n",
    "\n",
    "metrics = spark.createDataFrame(rows, column_names)\n",
    "metrics.show()"
   ]
  },
  {
   "cell_type": "markdown",
   "metadata": {},
   "source": [
    "Với regParam=0.02, elasticNetParam=0.2 ta có:"
   ]
  },
  {
   "cell_type": "code",
   "execution_count": 83,
   "metadata": {},
   "outputs": [],
   "source": [
    "def LogisticRegression_Optimize_Func(X_train):\n",
    "    logit = LogisticRegression(maxIter=10,featuresCol = \"Features\", labelCol = \"Label\",regParam=0.02, elasticNetParam=0.2)\n",
    "    logitModel = logit.fit(X_train)\n",
    "    return logitModel"
   ]
  },
  {
   "cell_type": "code",
   "execution_count": 84,
   "metadata": {},
   "outputs": [],
   "source": [
    "logistic_optimize_metrics = [sum(list_accuracy) / len(list_accuracy),\n",
    "                            sum(list_recall) / len(list_recall),\n",
    "                            sum(list_f1_score) / len(list_f1_score),\n",
    "                            sum(list_precision) / len(list_precision)]"
   ]
  },
  {
   "cell_type": "code",
   "execution_count": 85,
   "metadata": {},
   "outputs": [
    {
     "name": "stdout",
     "output_type": "stream",
     "text": [
      "+---------+-------------------+------------------+-------------------+------------------+----------------------------+\n",
      "|         |Logistic Regression|     Decision Tree|        Naive Bayes|     Random Forest|Logistic Regression Optimize|\n",
      "+---------+-------------------+------------------+-------------------+------------------+----------------------------+\n",
      "| Accuracy|               0.53|0.4800000000000001| 0.4766666666666667|0.5666666666666667|          0.5499999999999999|\n",
      "|   Recall|               0.53|0.4800000000000001|0.47666666666666674|0.5666666666666667|          0.5499999999999999|\n",
      "| F1-Score| 0.5213880378880378|0.4592987382987383| 0.4729931549931551|0.5086493845565053|         0.48831063925181584|\n",
      "|Precision| 0.5873849206349208|0.4952433862433862| 0.5229126984126984|0.5015978835978836|          0.4762671957671957|\n",
      "+---------+-------------------+------------------+-------------------+------------------+----------------------------+\n",
      "\n"
     ]
    }
   ],
   "source": [
    "column_names = [\"\",\"Logistic Regression\", \"Decision Tree\", \"Naive Bayes\", \"Random Forest\",\"Logistic Regression Optimize\"]\n",
    "row_names = [\"Accuracy\", \"Recall\", \"F1-Score\", \"Precision\", \"Average\"]\n",
    "rows = []\n",
    "for row_name, list1_val, list2_val, list3_val, list4_val,list5_val in zip(row_names, logistic_regress_metrics, decision_tree_metrics, \n",
    "                                                     naive_bayes_metrics, random_forest_metrics,logistic_optimize_metrics):\n",
    "    row = (row_name, list1_val, list2_val, list3_val, list4_val,list5_val)\n",
    "    rows.append(row)\n",
    "\n",
    "metrics = spark.createDataFrame(rows, column_names)\n",
    "metrics.show()"
   ]
  },
  {
   "cell_type": "markdown",
   "metadata": {},
   "source": [
    "Test các trận đấu mới nhất"
   ]
  },
  {
   "cell_type": "code",
   "execution_count": 39,
   "metadata": {},
   "outputs": [
    {
     "name": "stdout",
     "output_type": "stream",
     "text": [
      "+--------+----------+--------------------+-------------------+------------------+--------------+---------------+----------+------------+------------+----------------+---------------+-------------+---------------+--------------+---------------+------------------------+------------+--------+--------+-------+-----------+-------+--------+---------+---------+------------+--------+--------+-----------+------------------+------------------+------------------+--------+--------+---------------+---------------+-----------------------+----------------+--------------------+-----------------+-----------------+------------------+--------------------+----------------+----------------+--------------+---------------+----------+------------+------------+----------------+---------------+-------------+---------------+--------------+---------------+------------------------+------------+--------+--------+-------+-----------+-------+--------+---------+---------+------------+--------+--------+-----------+------------------+------------------+------------------+--------+--------+---------------+---------------+-----------------------+----------------+--------------------+-----------------+-----------------+------------------+-----------------+-----------------+-----------------+-----------------+-----------------+-----------------+----------+----------+------+---------------+---------------+--------------------+--------------------+----------------+----------------+---------------------+---------------------+--------------------+-----+\n",
      "|Match_Id|Match_Date|           Home_Team|       Home_Manager|      Home_Captain|Home_Formation|Home_Possession|Home_Fouls|Home_Corners|Home_Crosses|Home_Aerials_Won|Home_Clearances|Home_Offsides|Home_Goal_Kicks|Home_Throw_Ins|Home_Long_Balls|Home_Total_Players_Stats|Home_Minutes|Home_Gls|Home_Ast|Home_PK|Home_PK_Att|Home_Sh|Home_SoT|Home_CrdY|Home_CrdR|Home_Touches|Home_Tkl|Home_Int|Home_Blocks|           Home_xG|         Home_npxG|          Home_xAG|Home_SCA|Home_GCA|Home_Cmp_Passes|Home_Att_Passes|Home_Cmp_percent_Passes|Home_PrgP_Passes|Home_Carries_Carries|Home_PrgC_Carries|Home_Att_Take_Ons|Home_Succ_Take_Ons|           Away_Team|    Away_Manager|    Away_Captain|Away_Formation|Away_Possession|Away_Fouls|Away_Corners|Away_Crosses|Away_Aerials_Won|Away_Clearances|Away_Offsides|Away_Goal_Kicks|Away_Throw_Ins|Away_Long_Balls|Away_Total_Players_Stats|Away_Minutes|Away_Gls|Away_Ast|Away_PK|Away_PK_Att|Away_Sh|Away_SoT|Away_CrdY|Away_CrdR|Away_Touches|Away_Tkl|Away_Int|Away_Blocks|           Away_xG|         Away_npxG|          Away_xAG|Away_SCA|Away_GCA|Away_Cmp_Passes|Away_Att_Passes|Away_Cmp_percent_Passes|Away_PrgP_Passes|Away_Carries_Carries|Away_PrgC_Carries|Away_Att_Take_Ons|Away_Succ_Take_Ons|      Home_Attack|    Home_Midfield|     Home_Defense|      Away_Attack|    Away_Midfield|     Away_Defense|Home_Score|Away_Score|Result|Home_Team_Index|Away_Team_Index|Home_Formation_Index|Away_Formation_Index|Home_Team_Onehot|Away_Team_Onehot|Home_Formation_Onehot|Away_Formation_Onehot|            Features|Label|\n",
      "+--------+----------+--------------------+-------------------+------------------+--------------+---------------+----------+------------+------------+----------------+---------------+-------------+---------------+--------------+---------------+------------------------+------------+--------+--------+-------+-----------+-------+--------+---------+---------+------------+--------+--------+-----------+------------------+------------------+------------------+--------+--------+---------------+---------------+-----------------------+----------------+--------------------+-----------------+-----------------+------------------+--------------------+----------------+----------------+--------------+---------------+----------+------------+------------+----------------+---------------+-------------+---------------+--------------+---------------+------------------------+------------+--------+--------+-------+-----------+-------+--------+---------+---------+------------+--------+--------+-----------+------------------+------------------+------------------+--------+--------+---------------+---------------+-----------------------+----------------+--------------------+-----------------+-----------------+------------------+-----------------+-----------------+-----------------+-----------------+-----------------+-----------------+----------+----------+------+---------------+---------------+--------------------+--------------------+----------------+----------------+---------------------+---------------------+--------------------+-----+\n",
      "|8c6293a3|2023-10-23|   Tottenham Hotspur|   Ange Postecoglou|     Son Heung-min|          4231|           65.0|       9.0|         8.5|        21.0|            11.5|           22.0|          4.0|            6.5|          24.5|           40.5|                    16.0|       967.0|     1.0|     1.0|    0.0|        0.0|   19.5|     6.0|      4.0|      0.5|       790.0|    21.5|    10.0|       14.5|               2.1|               2.1|1.7000000000000002|    35.5|     2.0|          565.5|          660.5|                  85.45|            71.5|               483.0|             24.5|             26.0|               9.0|              Fulham|     Marco Silva|        Tim Ream|          4231|           58.0|      11.5|         8.5|        25.5|            14.5|            9.0|          2.0|            2.5|          25.0|           75.0|                    15.5|       990.0|     1.0|     0.5|    0.0|        0.0|   15.0|     4.5|      1.0|      0.0|       708.0|    20.0|    12.5|       11.5|              1.65|              1.65|               1.4|    25.0|     2.0|          487.5|          599.0|                  81.25|            47.0|               434.5|             27.5|             15.0|               8.5| 78.9090909090909|79.63636363636364|             77.0|             74.4|76.58823529411765|           74.875|         2|         0|   Win|            7.0|           16.0|                 0.0|                 0.0|  (27,[7],[1.0])| (27,[16],[1.0])|       (19,[0],[1.0])|       (18,[0],[1.0])|(171,[0,1,2,3,4,5...|  0.0|\n",
      "|7efcc598|2023-10-22|         Aston Villa|         Unai Emery|       John McGinn|           442|           46.0|      14.0|         5.5|        18.5|             5.5|           11.0|          0.5|            6.5|          18.5|           52.5|                    14.0|       990.0|     3.0|     2.5|    0.0|        0.0|   18.5|     6.5|      3.0|      0.0|       493.0|    14.0|     7.5|       11.0|               1.6|               1.6|              1.25|    31.5|     5.5|          311.0|          397.0|                  78.25|            34.0|               275.5|             13.5|             16.5|               4.5|     West Ham United|     David Moyes|      Kurt Zouma|          4231|           44.0|       8.5|         5.5|        17.0|            16.0|           14.0|          2.0|           10.0|          14.5|           69.0|                    14.0|       990.0|     2.0|     2.0|    0.0|        0.0|   12.5|     5.5|      2.0|      0.0|       535.0|    13.5|     7.5|       16.0|1.7000000000000002|1.7000000000000002|1.4500000000000002|    23.5|     4.0|          348.0|          443.0|                   77.2|            33.5|               345.5|             20.0|             11.5|               7.5|72.71428571428571|77.94444444444444|78.33333333333333|             74.0|78.91666666666667|             77.8|         4|         1|   Win|           15.0|           11.0|                 2.0|                 0.0| (27,[15],[1.0])| (27,[11],[1.0])|       (19,[2],[1.0])|       (18,[0],[1.0])|(171,[0,1,2,3,4,5...|  0.0|\n",
      "|d95b42eb|2023-10-21|    Sheffield United| Paul Heckingbottom|    Oliver Norwood|           442|           44.0|       9.5|         4.0|        14.5|            16.5|           28.0|          2.0|            9.0|          21.0|           73.5|                    15.5|       990.0|     0.0|     0.0|    0.0|        0.0|   10.5|     2.0|      1.5|      0.0|       552.5|    17.0|     6.0|       18.5|0.8500000000000001|0.8500000000000001|               0.5|    18.0|     0.0|          328.5|          437.5|      74.19999999999999|            33.5|               242.0|              8.0|             15.5|               6.5|   Manchester United|    Erik ten Hag| Bruno Fernandes|          4231|           70.5|      10.0|         8.5|        34.5|            11.5|           11.0|          3.0|            4.0|          32.0|           66.5|                    16.0|       990.0|     1.0|     0.5|    0.0|        0.0|   20.0|     5.5|      1.5|      0.0|       824.0|    18.0|     7.0|        8.0|              1.35|              1.35|              1.15|    37.0|     1.5|          608.0|          721.5|                  84.15|            76.0|               527.5|             27.0|             20.0|              10.5|             69.4|71.61538461538461|69.18181818181819|75.83333333333333|79.58823529411765|             79.8|         1|         2|  Lose|           21.0|            7.0|                 2.0|                 0.0| (27,[21],[1.0])|  (27,[7],[1.0])|       (19,[2],[1.0])|       (18,[0],[1.0])|(171,[0,1,2,3,4,5...|  1.0|\n",
      "|21625dde|2023-10-21|    Newcastle United|         Eddie Howe|  Jamaal Lascelles|           433|           58.5|      12.5|         3.5|        15.5|            17.0|           14.5|          1.0|            3.0|          18.5|           59.5|                    14.5|       990.0|     2.0|     1.0|    0.5|        0.5|   14.5|     4.5|      2.0|      0.0|       694.5|    14.5|     3.5|       14.5|               2.6|               2.2|               1.4|    27.0|     3.0|          497.0|          599.0|                   82.7|            41.5|               351.5|             19.0|             15.0|               7.5|      Crystal Palace|     Roy Hodgson|       Joel Ward|           433|           37.5|       7.5|         3.5|        11.5|            11.5|           30.5|          0.0|            8.0|          14.5|           53.0|                    13.0|       990.0|     0.5|     0.0|    0.0|        0.0|    8.0|     2.0|      1.0|      0.0|       538.5|    22.0|    11.5|       13.0|0.8500000000000001|0.8500000000000001|              0.75|    14.5|     1.0|          324.5|          404.5|                   76.5|            27.0|               276.5|             13.0|             20.0|               9.5|             78.1|80.88888888888889|75.27272727272727|72.83333333333333|71.33333333333333|76.85714285714286|         4|         0|   Win|            6.0|            5.0|                 1.0|                 1.0|  (27,[6],[1.0])|  (27,[5],[1.0])|       (19,[1],[1.0])|       (18,[1],[1.0])|(171,[0,1,2,3,4,5...|  0.0|\n",
      "|e747ddb3|2023-10-21|           Liverpool|       Jürgen Klopp|   Virgil van Dijk|           433|           45.0|      18.5|         3.0|         9.5|             7.5|           21.5|          0.5|            4.0|          18.0|           57.5|                    15.0|       946.5|     1.5|     1.0|    0.5|        0.5|   12.5|     3.5|      4.0|      1.0|       581.0|    18.5|     8.5|       16.0|1.7999999999999998|1.4500000000000002|              1.35|    25.0|     3.0|          382.5|          465.0|      81.69999999999999|            33.5|               353.0|             15.0|             17.5|               7.0|             Everton|      Sean Dyche| James Tarkowski|          4411|           57.5|      11.0|         5.5|        28.5|            26.5|           17.0|          2.0|            8.0|          30.0|           89.0|                    14.5|       990.0|     2.0|     0.5|    0.0|        0.0|   24.0|     6.0|      0.5|      0.0|       695.5|    25.5|     5.0|       18.5|               3.1|               3.1|              1.85|    41.0|     2.0|          417.0|          546.0|                   76.1|            40.0|               358.5|             21.0|             25.0|              11.0|             82.8|80.84615384615384|           79.125|             74.8|             75.2| 74.6923076923077|         2|         0|   Win|           11.0|            6.0|                 1.0|                 6.0| (27,[11],[1.0])|  (27,[6],[1.0])|       (19,[1],[1.0])|       (18,[6],[1.0])|(171,[0,1,2,3,4,5...|  0.0|\n",
      "|007b352e|2023-10-21|         Bournemouth|      Andoni Iraola|              Neto|          4231|           47.5|      13.0|         6.5|        16.5|            11.0|           17.5|          1.0|            7.5|          20.5|           64.5|                    16.0|       990.0|     0.0|     0.0|    0.0|        0.0|    9.5|     2.0|      1.0|      0.0|       582.5|    18.0|     7.5|       14.0|0.6499999999999999|0.6499999999999999|              0.55|    18.0|     0.0|          361.0|          457.0|                   79.0|            31.5|               341.0|             22.5|             27.0|              13.0|Wolverhampton Wan...|     Gary O'Neil|      Max Kilman|           343|           39.5|      18.5|         1.0|         8.0|             7.5|           27.0|          2.5|            8.0|          11.5|           54.5|                    15.0|       989.5|     1.0|     1.0|    0.0|        0.0|    5.5|     2.0|      4.5|      0.5|       450.0|    12.5|     7.5|       16.5|              1.05|              1.05|               1.0|     9.5|     2.0|          261.5|          344.5|                   75.8|            16.0|               271.5|             16.0|             16.0|               9.0|             73.2|74.29411764705883|           73.875|73.85714285714286|72.35714285714286|             75.5|         1|         2|  Lose|           16.0|            2.0|                 0.0|                 3.0| (27,[16],[1.0])|  (27,[2],[1.0])|       (19,[0],[1.0])|       (18,[3],[1.0])|(171,[0,1,2,3,4,5...|  1.0|\n",
      "|a1c336e2|2023-10-21|             Chelsea|Mauricio Pochettino|   Conor Gallagher|          4231|           53.0|      10.0|         2.0|         8.5|             8.5|           19.0|          3.0|            1.5|          17.5|           49.5|                    15.0|       990.0|     2.5|     1.5|    0.5|        0.5|    9.5|     4.0|      4.0|      0.0|       705.5|    23.0|     8.5|       11.5|1.7999999999999998|               1.4|              1.05|    16.0|     4.5|          524.0|          595.5|                  87.45|            31.5|               447.5|             19.0|             20.0|               8.0|             Arsenal|    Mikel Arteta| Martin Ødegaard|           433|           53.0|       9.0|         5.5|         7.5|             7.0|           11.5|          1.0|            3.5|          14.5|           47.5|                    15.5|       990.0|     2.5|     1.0|    1.0|        1.0|   12.5|     4.0|      1.5|      0.0|       662.0|    24.0|     9.0|       16.5|              1.95|              1.15|               0.7|    25.5|     4.5|          474.5|          549.5|                  86.35|            32.5|               435.5|             16.5|             18.5|               8.5|75.55555555555556|77.92307692307692|            77.25|79.76923076923077|83.07692307692308|           79.625|         2|         2|  Draw|            5.0|           10.0|                 0.0|                 1.0|  (27,[5],[1.0])| (27,[10],[1.0])|       (19,[0],[1.0])|       (18,[1],[1.0])|(171,[0,1,2,3,4,5...|  2.0|\n",
      "|52781f37|2023-10-21|           Brentford|       Thomas Frank|Christian Nørgaard|           433|           47.5|      13.5|         8.0|        18.5|            17.0|           27.5|          0.5|            7.5|          19.5|           63.0|                    15.0|       990.0|     1.0|     1.0|    0.0|        0.0|   14.5|     3.0|      3.5|      0.0|       607.0|    14.5|    13.0|       10.5|              1.35|              1.35|               1.1|    24.5|     1.0|          388.5|          494.0|                   77.1|            36.0|               348.0|             19.0|             10.0|               5.0|             Burnley| Vincent Kompany|     Josh Cullen|          4231|           44.5|       8.5|         6.5|        10.5|            16.5|           24.0|          3.5|            8.5|          20.5|           75.5|                    15.5|       990.0|     1.5|     1.5|    0.0|        0.0|   12.0|     3.5|      2.0|      0.0|       559.0|    19.5|     5.5|       10.5|              0.95|              0.95|               0.8|    21.0|     3.0|          333.0|          442.0|                  75.45|            18.5|               306.5|             15.0|             23.5|               8.0|           69.625|70.92307692307692|             74.0|           72.125|73.44444444444444|72.88888888888889|         3|         0|   Win|           20.0|           15.0|                 1.0|                 0.0| (27,[20],[1.0])| (27,[15],[1.0])|       (19,[1],[1.0])|       (18,[0],[1.0])|(171,[0,1,2,3,4,5...|  0.0|\n",
      "|d1671efa|2023-10-21|   Nottingham Forest|       Steve Cooper|      Serge Aurier|           433|           44.5|       9.0|         4.0|        15.0|            14.0|           31.5|          2.0|            8.5|          16.5|           64.5|                    16.0|       972.5|     0.5|     0.5|    0.0|        0.0|   11.0|     3.0|      2.0|      0.5|       596.5|    18.5|     7.5|       14.0|               0.8|               0.8|               0.6|    19.0|     1.0|          390.0|          482.5|                   80.5|            30.0|               316.0|             14.0|             16.5|               9.0|          Luton Town|     Rob Edwards|     Tom Lockyer|           442|           41.5|      15.0|         6.0|        28.5|            22.0|           21.0|          3.5|           10.0|          25.0|           93.5|                    15.0|       990.0|     0.5|     0.5|    0.0|        0.0|   15.0|     2.0|      3.0|      0.0|       501.5|    20.0|    10.0|       15.0|              1.05|              1.05|              0.75|    26.5|     1.0|          243.5|          371.5|                  65.25|            29.0|               203.5|             15.0|             17.5|               8.5|             74.0|74.84615384615384|74.42857142857143|70.28571428571429|             72.2|71.72727272727273|         2|         2|  Draw|           23.0|           27.0|                 1.0|                 2.0| (27,[23],[1.0])|      (27,[],[])|       (19,[1],[1.0])|       (18,[2],[1.0])|(171,[0,1,2,3,4,5...|  2.0|\n",
      "|b782a834|2023-10-21|     Manchester City|      Pep Guardiola|       Kyle Walker|          3241|           59.5|       9.5|         5.0|        15.5|             5.0|           11.5|          0.0|            4.0|          19.0|           44.5|                    14.0|       990.0|     0.5|     0.0|    0.0|        0.0|   13.5|     4.0|      3.5|      0.0|       685.0|    18.5|     4.5|        8.5|               0.7|               0.7|              0.55|    24.0|     1.0|          512.5|          597.0|      85.80000000000001|            48.0|               439.5|             27.5|             19.0|              10.0|Brighton & Hove A...|Roberto De Zerbi|      Lewis Dunk|          4231|           53.5|      16.5|         5.5|        12.0|             6.5|           13.5|          3.5|            2.5|          15.0|           43.5|                    15.0|       990.0|     1.5|     1.0|    0.0|        0.0|   12.5|     3.0|      2.5|      0.0|       605.0|    18.0|    10.5|       12.5|               2.0|               2.0|               1.5|    24.0|     2.5|          428.0|          502.0|                   85.1|            33.0|               386.0|             18.0|             25.0|              11.5|             81.7|             80.8|             80.8|75.33333333333333|74.46666666666667|           77.125|         2|         1|   Win|            2.0|            3.0|                17.0|                 0.0|  (27,[2],[1.0])|  (27,[3],[1.0])|      (19,[17],[1.0])|       (18,[0],[1.0])|(171,[0,1,2,3,4,5...|  0.0|\n",
      "|59cd18ae|2023-10-08|             Arsenal|       Mikel Arteta|   Martin Ødegaard|           433|           52.0|      11.0|         8.5|        12.0|            11.5|           13.0|          1.0|            2.5|          14.5|           49.0|                    15.5|       990.0|     2.5|     0.5|    1.5|        1.5|   12.5|     5.0|      2.0|      0.0|       607.5|    26.0|    10.0|       17.0|              2.75|1.5499999999999998|               0.8|    24.5|     4.0|          420.5|          493.5|                   84.8|            31.5|               381.5|             18.5|             17.0|               9.0|     Manchester City|   Pep Guardiola|     Kyle Walker|           433|           62.5|       8.5|         6.0|        16.0|             4.5|           14.5|          0.0|            5.5|          20.0|           50.5|                    14.0|       967.5|     1.5|     1.0|    0.0|        0.0|   15.0|     6.0|      3.5|      0.5|       710.5|    11.5|     5.0|        8.5|               1.1|               1.1|0.8500000000000001|    27.5|     3.0|          541.0|          622.0|                   87.0|            49.5|               463.5|             26.0|             19.0|              10.0|79.36363636363636|82.28571428571429|           79.625| 80.0909090909091|79.53846153846153|             80.8|         1|         0|   Win|            0.0|            1.0|                 1.0|                 1.0|  (27,[0],[1.0])|  (27,[1],[1.0])|       (19,[1],[1.0])|       (18,[1],[1.0])|(171,[0,1,2,3,4,5...|  0.0|\n",
      "|3b1ec657|2023-10-08|Brighton & Hove A...|   Roberto De Zerbi|        Lewis Dunk|          4231|           61.0|      16.5|         3.5|        11.5|             9.5|           13.5|          3.5|            0.0|          13.0|           47.5|                    16.0|       990.0|     1.5|     1.5|    0.0|        0.0|   12.0|     3.5|      3.5|      0.0|       664.0|    21.5|     9.0|       11.0|1.7999999999999998|1.7999999999999998|1.7000000000000002|    21.5|     3.0|          473.5|          550.0|                   86.1|            35.5|               402.5|             15.0|             22.0|               8.5|           Liverpool|    Jürgen Klopp| Virgil van Dijk|           433|           49.5|      14.5|         6.0|        15.5|            17.5|           22.0|          1.5|            3.0|          20.0|           61.5|                    15.5|       946.5|     2.0|     1.5|    0.5|        0.5|   16.5|     5.0|      3.0|      1.0|       674.0|    16.0|     7.5|       16.5|              2.15|              1.75|1.7000000000000002|    31.5|     3.5|          457.0|          548.5|                  82.05|            48.5|               444.5|             23.5|             21.0|               8.0|75.33333333333333|73.33333333333333|77.14285714285714|             79.5|             80.5|75.41666666666667|         2|         2|  Draw|            1.0|            0.0|                 0.0|                 1.0|  (27,[1],[1.0])|  (27,[0],[1.0])|       (19,[0],[1.0])|       (18,[1],[1.0])|(171,[0,1,2,3,4,5...|  2.0|\n",
      "|3292ed35|2023-10-08|Wolverhampton Wan...|        Gary O'Neil|        Max Kilman|           343|           37.5|      17.5|         0.5|         6.0|            13.0|           34.0|          1.5|           11.5|          11.0|           64.0|                    15.5|       964.0|     1.0|     0.5|    0.0|        0.0|    3.0|     2.0|      3.5|      0.5|       472.5|    13.0|     7.0|       20.5|               0.5|               0.5|              0.25|     4.5|     1.0|          252.0|          343.0|                  73.65|            15.0|               283.0|             11.5|             19.0|               8.5|         Aston Villa|      Unai Emery|     John McGinn|           442|           43.0|      15.0|         6.0|        14.5|             6.0|           14.0|          0.5|            7.0|          19.0|           60.5|                    15.0|       990.0|     3.0|     2.0|    0.0|        0.0|   17.0|     8.0|      3.5|      0.0|       505.0|    21.0|     6.5|       14.5|              1.35|              1.35|               1.0|    26.0|     5.0|          308.0|          390.5|                  78.75|            30.0|               305.5|             18.0|             22.0|               8.5|76.33333333333333|74.78571428571429|75.85714285714286|76.33333333333333|79.11764705882354|78.33333333333333|         1|         1|  Draw|            4.0|           14.0|                 3.0|                 2.0|  (27,[4],[1.0])| (27,[14],[1.0])|       (19,[3],[1.0])|       (18,[2],[1.0])|(171,[0,1,2,3,4,5...|  2.0|\n",
      "|017c9ca5|2023-10-08|     West Ham United|        David Moyes|        Kurt Zouma|          4231|           44.5|       9.5|         5.5|        18.0|            12.5|           24.5|          1.5|           11.0|          16.5|           63.5|                    14.5|       990.0|     1.5|     1.5|    0.0|        0.0|   15.5|     6.0|      1.5|      0.0|       582.5|    20.0|     7.5|       20.5|              1.65|              1.65|              1.35|    28.5|     3.0|          375.0|          464.0|      80.30000000000001|            28.5|               327.5|             16.5|             16.5|              11.5|    Newcastle United|      Eddie Howe|Jamaal Lascelles|           433|           55.5|       7.5|         5.0|        17.5|            15.0|            9.0|          1.0|            4.0|          17.5|           56.5|                    15.5|       990.0|     5.0|     3.5|    0.5|        0.5|   20.5|    10.5|      0.5|      0.0|       716.0|    20.0|     5.5|       15.5|              3.55|              3.15|               2.2|    36.0|     8.0|          495.0|          597.5|                   82.6|            47.0|               395.0|             18.5|             17.0|               9.5|74.33333333333333| 78.6923076923077|            77.75|78.42857142857143|           80.375|74.57142857142857|         2|         2|  Draw|            8.0|            8.0|                 0.0|                 1.0|  (27,[8],[1.0])|  (27,[8],[1.0])|       (19,[0],[1.0])|       (18,[1],[1.0])|(171,[0,1,2,3,4,5...|  2.0|\n",
      "|497b9558|2023-10-07|             Everton|         Sean Dyche|   James Tarkowski|          4411|           55.0|      10.0|         3.5|        26.0|            29.0|           18.0|          1.5|            6.0|          29.5|           86.0|                    14.0|       990.0|     2.0|     1.5|    0.0|        0.0|   20.5|     5.0|      1.0|      0.0|       693.5|    19.5|     6.0|       18.0|               2.8|               2.8|              1.95|    36.0|     3.5|          434.5|          561.0|      77.44999999999999|            42.5|               364.0|             19.5|             19.0|               7.0|         Bournemouth|   Andoni Iraola|            Neto|          4231|           41.0|      14.0|         5.0|        12.0|             3.5|           10.0|          1.5|            4.5|          16.0|           55.0|                    16.0|       990.0|     0.5|     0.5|    0.0|        0.0|   10.0|     2.0|      1.5|      0.0|       498.0|    19.5|     9.5|       13.0|0.8500000000000001|0.8500000000000001|              0.45|    16.5|     0.0|          300.0|          388.5|      77.05000000000001|            23.5|               322.0|             21.0|             30.5|              15.0|             74.8|74.92307692307692| 74.6923076923077|72.66666666666667|75.16666666666667|74.16666666666667|         3|         0|   Win|           10.0|           17.0|                 6.0|                 0.0| (27,[10],[1.0])| (27,[17],[1.0])|       (19,[6],[1.0])|       (18,[0],[1.0])|(171,[0,1,2,3,4,5...|  0.0|\n",
      "+--------+----------+--------------------+-------------------+------------------+--------------+---------------+----------+------------+------------+----------------+---------------+-------------+---------------+--------------+---------------+------------------------+------------+--------+--------+-------+-----------+-------+--------+---------+---------+------------+--------+--------+-----------+------------------+------------------+------------------+--------+--------+---------------+---------------+-----------------------+----------------+--------------------+-----------------+-----------------+------------------+--------------------+----------------+----------------+--------------+---------------+----------+------------+------------+----------------+---------------+-------------+---------------+--------------+---------------+------------------------+------------+--------+--------+-------+-----------+-------+--------+---------+---------+------------+--------+--------+-----------+------------------+------------------+------------------+--------+--------+---------------+---------------+-----------------------+----------------+--------------------+-----------------+-----------------+------------------+-----------------+-----------------+-----------------+-----------------+-----------------+-----------------+----------+----------+------+---------------+---------------+--------------------+--------------------+----------------+----------------+---------------------+---------------------+--------------------+-----+\n",
      "only showing top 15 rows\n",
      "\n"
     ]
    }
   ],
   "source": [
    "matches_df = encoded_matches_label\n",
    "matches_df.show(15)"
   ]
  },
  {
   "cell_type": "code",
   "execution_count": 41,
   "metadata": {},
   "outputs": [],
   "source": [
    "X_train = matches_df\n",
    "X_train = X_train.select('Features', 'Label')\n",
    "\n",
    "X_test = Test_Dataset(matches_df)\n",
    "X_test = X_test.select('Features', 'Label')\n",
    "\n",
    "logitModel = LogisticRegression_Func(X_train)\n",
    "predictions = LogitRegres_Predictions(logitModel, X_test)"
   ]
  },
  {
   "cell_type": "code",
   "execution_count": 43,
   "metadata": {},
   "outputs": [
    {
     "name": "stdout",
     "output_type": "stream",
     "text": [
      "+--------------------+-----+--------------------+--------------------+----------+\n",
      "|            Features|Label|       rawPrediction|         probability|prediction|\n",
      "+--------------------+-----+--------------------+--------------------+----------+\n",
      "|(171,[0,1,2,3,4,5...|  0.0|[1.63849564119624...|[0.84385716289338...|       0.0|\n",
      "|(171,[0,1,2,3,4,5...|  0.0|[1.20539610987106...|[0.73788932668688...|       0.0|\n",
      "|(171,[0,1,2,3,4,5...|  1.0|[-0.0458701241649...|[0.18764886127730...|       1.0|\n",
      "|(171,[0,1,2,3,4,5...|  0.0|[0.80044536466485...|[0.60632772029995...|       0.0|\n",
      "|(171,[0,1,2,3,4,5...|  0.0|[2.12897341791698...|[0.90138928042122...|       0.0|\n",
      "|(171,[0,1,2,3,4,5...|  1.0|[0.43504181097536...|[0.44227915943242...|       0.0|\n",
      "|(171,[0,1,2,3,4,5...|  2.0|[-0.4524914090107...|[0.19560238464125...|       2.0|\n",
      "|(171,[0,1,2,3,4,5...|  0.0|[0.96622283493879...|[0.58330256552696...|       0.0|\n",
      "|(171,[0,1,2,3,4,5...|  2.0|[0.17384290823301...|[0.37780958521862...|       2.0|\n",
      "|(171,[0,1,2,3,4,5...|  0.0|[8.71789474080389...|[0.99999039319760...|       0.0|\n",
      "+--------------------+-----+--------------------+--------------------+----------+\n",
      "\n"
     ]
    }
   ],
   "source": [
    "predictions.show()"
   ]
  }
 ],
 "metadata": {
  "kernelspec": {
   "display_name": "my_env_1",
   "language": "python",
   "name": "python3"
  },
  "language_info": {
   "codemirror_mode": {
    "name": "ipython",
    "version": 3
   },
   "file_extension": ".py",
   "mimetype": "text/x-python",
   "name": "python",
   "nbconvert_exporter": "python",
   "pygments_lexer": "ipython3",
   "version": "3.11.5"
  }
 },
 "nbformat": 4,
 "nbformat_minor": 2
}
